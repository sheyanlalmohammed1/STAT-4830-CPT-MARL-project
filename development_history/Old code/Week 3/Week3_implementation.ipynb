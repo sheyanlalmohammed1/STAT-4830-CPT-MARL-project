{
  "cells": [
    {
      "cell_type": "markdown",
      "metadata": {
        "id": "SCGeVy9NwjRa"
      },
      "source": [
        "\n",
        "\n",
        "\n",
        "## Problem Setup\n",
        "This example demonstrates a multi-agent deep deterministic policy gradient (MADDPG) approach to a competitive environment where chasers aim to catch evaders. Each group of agents (chasers and evaders) has its own policy and value networks, trained either independently or in a mixed cooperative-competitive setting. It serves as our control when we try and integrate prospect theory into the policy gradient, seeing if we can get different results than the reward graphs below. Code is based from [https://pytorch.org/rl/0.6/tutorials/multiagent_competitive_ddpg.html]\n",
        "\n",
        "## Clear Problem Statement\n",
        "Train two chaser agents to minimize the evader’s cumulative reward while simultaneously training the evader agent to maximize its own cumulative reward. The environment runs for a fixed number of steps, and training can be halted for certain agents at a chosen iteration.\n",
        "\n",
        "## Mathematical Formulation\n",
        "- **Agent Policies**: $\\pi_i(\\mathbf{o_i}; \\theta_i)$ map observations $\\mathbf{o_i}$ to continuous actions.\n",
        "- **Value Function**: $Q_i(\\mathbf{o}, \\mathbf{a}; \\phi_i)$ estimates future return given all agents’ actions $\\mathbf{a}$ and observations $\\mathbf{o}$.\n",
        "- **Loss Functions**: DDPG losses incorporate actor and critic objectives, ensuring that each agent maximizes expected returns while considering centralized training and decentralized execution.\n",
        "- **Updates**: Soft updates are performed on target networks with \\(\\tau\\) for both the policy and value functions.\n",
        "\n",
        "## Data Requirements\n",
        "- Episodes of agent interactions, collected with exploration strategies (e.g., Gaussian noise).\n",
        "- Replay buffers per group for sampled training batches containing states, actions, rewards, and next states.\n",
        "\n",
        "## Success Metrics\n",
        "- Mean episode reward for each group (chasers and evaders), typically measured and plotted over training iterations.\n",
        "- Convergence or stabilization of the reward signal, indicating improved policy performance.\n"
      ]
    },
    {
      "cell_type": "code",
      "execution_count": null,
      "metadata": {
        "colab": {
          "base_uri": "https://localhost:8080/"
        },
        "id": "kEJMg2fcV2Mi",
        "outputId": "67df16fe-8b52-45ba-cab6-bb7d8336eec9"
      },
      "outputs": [
        {
          "ename": "",
          "evalue": "",
          "output_type": "error",
          "traceback": [
            "\u001b[1;31mRunning cells with 'Python 3.12.3' requires the ipykernel package.\n",
            "\u001b[1;31mRun the following command to install 'ipykernel' into the Python environment. \n",
            "\u001b[1;31mCommand: '/opt/homebrew/bin/python3.12 -m pip install ipykernel -U --user --force-reinstall'"
          ]
        }
      ],
      "source": [
        "!pip3 install torchrl=0.6.0\n",
        "!pip3 install vmas\n",
        "!pip3 install pettingzoo[mpe]==1.24.3\n",
        "!pip3 install tqdm"
      ]
    },
    {
      "cell_type": "markdown",
      "metadata": {
        "id": "RttHqpEoy-uW"
      },
      "source": [
        "### **Approach: Importing Required Libraries**\n",
        "This section imports essential modules for implementing MADDPG:  \n",
        "- **PyTorch** for deep learning operations.  \n",
        "- **`torchrl` modules** for multi-agent reinforcement learning, including environments, policies, collectors, and replay buffers.  \n",
        "- **`tensordict`** for structured tensor operations.  \n",
        "- **Matplotlib** for visualization.  \n",
        "- **`tqdm`** for progress tracking."
      ]
    },
    {
      "cell_type": "code",
      "execution_count": null,
      "metadata": {
        "id": "Yhec5pa7VzyM"
      },
      "outputs": [],
      "source": [
        "import copy\n",
        "import tempfile\n",
        "\n",
        "import torch\n",
        "\n",
        "from matplotlib import pyplot as plt\n",
        "from tensordict import TensorDictBase\n",
        "\n",
        "from tensordict.nn import TensorDictModule, TensorDictSequential\n",
        "from torch import multiprocessing\n",
        "\n",
        "from torchrl.collectors import SyncDataCollector\n",
        "from torchrl.data import LazyMemmapStorage, RandomSampler, ReplayBuffer\n",
        "\n",
        "from torchrl.envs import (\n",
        "    check_env_specs,\n",
        "    ExplorationType,\n",
        "    PettingZooEnv,\n",
        "    RewardSum,\n",
        "    set_exploration_type,\n",
        "    TransformedEnv,\n",
        "    VmasEnv,\n",
        ")\n",
        "\n",
        "from torchrl.modules import (\n",
        "    AdditiveGaussianModule,\n",
        "    MultiAgentMLP,\n",
        "    ProbabilisticActor,\n",
        "    TanhDelta,\n",
        ")\n",
        "\n",
        "from torchrl.objectives import DDPGLoss, SoftUpdate, ValueEstimators\n",
        "\n",
        "from torchrl.record import CSVLogger, PixelRenderTransform, VideoRecorder\n",
        "\n",
        "from tqdm import tqdm\n",
        "\n",
        "try:\n",
        "    is_sphinx = __sphinx_build__\n",
        "except NameError:\n",
        "    is_sphinx = False"
      ]
    },
    {
      "cell_type": "markdown",
      "metadata": {
        "id": "xpSRX7gfzFeN"
      },
      "source": [
        "### **Approach: Environment Setup & Hyperparameters**\n",
        "- **Seed & Device**: Sets the random seed for reproducibility and selects the appropriate device (GPU if available, otherwise CPU).  \n",
        "- **Sampling**: Defines frames collected per batch (`1,000`), total iterations (`50`), and total frames (`50,000`).  \n",
        "- **Training Control**: Stops evader training at `iteration_when_stop_training_evaders = 25`.  \n",
        "- **Replay Buffer**: Stores up to `1M` frames for experience replay.  \n",
        "- **Training Parameters**:  \n",
        "  - **Optimization**: `100` updates per iteration, batch size of `128`.  \n",
        "  - **Learning Rate**: `3e-4`, gradient clipping at `1.0`.  \n",
        "- **DDPG-Specific**: Uses discount factor (`γ = 0.99`) and soft update parameter (`τ = 0.005`)."
      ]
    },
    {
      "cell_type": "code",
      "execution_count": null,
      "metadata": {
        "colab": {
          "base_uri": "https://localhost:8080/"
        },
        "id": "2eDQqQ5YV3Sw",
        "outputId": "b3b0b34e-3df7-491b-ead6-662449f7c687"
      },
      "outputs": [],
      "source": [
        "# Seed\n",
        "seed = 0\n",
        "torch.manual_seed(seed)\n",
        "\n",
        "# Devices\n",
        "is_fork = multiprocessing.get_start_method() == \"fork\"\n",
        "device = (\n",
        "    torch.device(0)\n",
        "    if torch.cuda.is_available() and not is_fork\n",
        "    else torch.device(\"cpu\")\n",
        ")\n",
        "\n",
        "# Sampling\n",
        "frames_per_batch = 1_000  # Number of team frames collected per sampling iteration\n",
        "n_iters = 50  # Number of sampling and training iterations\n",
        "total_frames = frames_per_batch * n_iters\n",
        "\n",
        "# We will stop training the evaders after this many iterations,\n",
        "# should be 0 <= iteration_when_stop_training_evaders <= n_iters\n",
        "iteration_when_stop_training_evaders = n_iters // 2\n",
        "\n",
        "# Replay buffer\n",
        "memory_size = 1_000_000  # The replay buffer of each group can store this many frames\n",
        "\n",
        "# Training\n",
        "n_optimiser_steps = 100  # Number of optimization steps per training iteration\n",
        "train_batch_size = 128  # Number of frames trained in each optimiser step\n",
        "lr = 3e-4  # Learning rate\n",
        "max_grad_norm = 1.0  # Maximum norm for the gradients\n",
        "\n",
        "# DDPG\n",
        "gamma = 0.99  # Discount factor\n",
        "polyak_tau = 0.005  # Tau for the soft-update of the target network"
      ]
    },
    {
      "cell_type": "markdown",
      "metadata": {
        "id": "qldjssDfy8l5"
      },
      "source": [
        "### **Approach: Environment Configuration**\n",
        "- **Max Steps**: Each episode runs for `100` steps.  \n",
        "- **Agents & Obstacles**: `2` chasers, `1` evader, and `2` obstacles.  \n",
        "- **VMAS for Performance**:  \n",
        "  - If `use_vmas = True`, uses `VmasEnv` for efficient vectorized multi-agent simulation.  \n",
        "  - Otherwise, defaults to `PettingZooEnv` (parallel mode) for `simple_tag_v3`.  \n",
        "- **Vectorization**: `num_vmas_envs = frames_per_batch / max_steps` ensures efficient frame collection."
      ]
    },
    {
      "cell_type": "code",
      "execution_count": null,
      "metadata": {
        "id": "3dx0KswwV97f"
      },
      "outputs": [],
      "source": [
        "max_steps = 100  # Environment steps before done\n",
        "\n",
        "n_chasers = 2\n",
        "n_evaders = 1\n",
        "n_obstacles = 2\n",
        "\n",
        "use_vmas = True  # Set this to True for a great performance speedup\n",
        "\n",
        "if not use_vmas:\n",
        "    base_env = PettingZooEnv(\n",
        "        task=\"simple_tag_v3\",\n",
        "        parallel=True,  # Use the Parallel version\n",
        "        seed=seed,\n",
        "        # Scenario specific\n",
        "        continuous_actions=True,\n",
        "        num_good=n_evaders,\n",
        "        num_adversaries=n_chasers,\n",
        "        num_obstacles=n_obstacles,\n",
        "        max_cycles=max_steps,\n",
        "    )\n",
        "else:\n",
        "    num_vmas_envs = (\n",
        "        frames_per_batch // max_steps\n",
        "    )  # Number of vectorized environments. frames_per_batch collection will be divided among these environments\n",
        "    base_env = VmasEnv(\n",
        "        scenario=\"simple_tag\",\n",
        "        num_envs=num_vmas_envs,\n",
        "        continuous_actions=True,\n",
        "        max_steps=max_steps,\n",
        "        device=device,\n",
        "        seed=seed,\n",
        "        # Scenario specific\n",
        "        num_good_agents=n_evaders,\n",
        "        num_adversaries=n_chasers,\n",
        "        num_landmarks=n_obstacles,\n",
        "    )"
      ]
    },
    {
      "cell_type": "code",
      "execution_count": null,
      "metadata": {
        "colab": {
          "base_uri": "https://localhost:8080/"
        },
        "id": "X9qc-A5yWGZJ",
        "outputId": "a1bccb9d-2d1f-4b4f-d12a-e903bdb2466d"
      },
      "outputs": [],
      "source": [
        "print(f\"group_map: {base_env.group_map}\")"
      ]
    },
    {
      "cell_type": "code",
      "execution_count": null,
      "metadata": {
        "colab": {
          "base_uri": "https://localhost:8080/"
        },
        "id": "tYBvfAjqWH3j",
        "outputId": "b79fce98-9571-449d-e8ec-291a0996f1b6"
      },
      "outputs": [],
      "source": [
        "print(\"action_spec:\", base_env.full_action_spec)\n",
        "print(\"reward_spec:\", base_env.full_reward_spec)\n",
        "print(\"done_spec:\", base_env.full_done_spec)\n",
        "print(\"observation_spec:\", base_env.observation_spec)"
      ]
    },
    {
      "cell_type": "code",
      "execution_count": null,
      "metadata": {
        "colab": {
          "base_uri": "https://localhost:8080/"
        },
        "id": "yGyVd6LTWJgu",
        "outputId": "6f77dab6-f7e3-4633-98a4-3005e42a8ae6"
      },
      "outputs": [],
      "source": [
        "print(\"action_keys:\", base_env.action_keys)\n",
        "print(\"reward_keys:\", base_env.reward_keys)\n",
        "print(\"done_keys:\", base_env.done_keys)"
      ]
    },
    {
      "cell_type": "markdown",
      "metadata": {
        "id": "gOdgug90z7vx"
      },
      "source": [
        "### **Approach: Environment Transformation**\n",
        "- **Wraps `base_env` with `TransformedEnv`** to apply reward processing.  \n",
        "- **`RewardSum` Aggregation**:  \n",
        "  - Uses `reward_keys` from `base_env` to sum rewards over time.  \n",
        "  - Resets rewards using `_reset` keys for each agent group.  \n",
        "- **Purpose**: Ensures proper reward tracking across multi-agent interactions."
      ]
    },
    {
      "cell_type": "code",
      "execution_count": null,
      "metadata": {
        "id": "q8e7iPn_WKvo"
      },
      "outputs": [],
      "source": [
        "env = TransformedEnv(\n",
        "    base_env,\n",
        "    RewardSum(\n",
        "        in_keys=base_env.reward_keys,\n",
        "        reset_keys=[\"_reset\"] * len(base_env.group_map.keys()),\n",
        "    ),\n",
        ")"
      ]
    },
    {
      "cell_type": "code",
      "execution_count": null,
      "metadata": {
        "colab": {
          "base_uri": "https://localhost:8080/"
        },
        "id": "B3VPMV-UWLqf",
        "outputId": "0e5a68b1-0ee9-4c07-a1fb-536f9ba9bf0b"
      },
      "outputs": [],
      "source": [
        "check_env_specs(env)"
      ]
    },
    {
      "cell_type": "code",
      "execution_count": null,
      "metadata": {
        "colab": {
          "base_uri": "https://localhost:8080/"
        },
        "id": "1BKZ9yjkWNlJ",
        "outputId": "1734f2a9-5a62-4bc3-f9fe-00721b941873"
      },
      "outputs": [],
      "source": [
        "n_rollout_steps = 5\n",
        "rollout = env.rollout(n_rollout_steps)\n",
        "print(f\"rollout of {n_rollout_steps} steps:\", rollout)\n",
        "print(\"Shape of the rollout TensorDict:\", rollout.batch_size)"
      ]
    },
    {
      "cell_type": "markdown",
      "metadata": {
        "id": "apB4yTml0Nf-"
      },
      "source": [
        "### **Approach: Policy Network Setup**\n",
        "- **Iterates over agent groups** to create independent policies.  \n",
        "- **Defines `MultiAgentMLP`** for decentralized policies:\n",
        "  - **Observations & Actions**: Uses `env.observation_spec` and `env.full_action_spec`.\n",
        "  - **Decentralized Execution**: Each agent acts based on its local observation.\n",
        "  - **Parameter Sharing**: Controlled by `share_parameters_policy` (set to `True` for efficiency).\n",
        "  - **Architecture**: 2-layer MLP (`256` neurons per layer, `Tanh` activation).\n",
        "- **Wraps in `TensorDictModule`**:\n",
        "  - Reads observations from `TensorDict` and writes action parameters.  \n",
        "  - Allows structured tensor operations for multi-agent training."
      ]
    },
    {
      "cell_type": "code",
      "execution_count": null,
      "metadata": {
        "id": "8bmzos-xWPzE"
      },
      "outputs": [],
      "source": [
        "policy_modules = {}\n",
        "for group, agents in env.group_map.items():\n",
        "    share_parameters_policy = True  # Can change this based on the group\n",
        "\n",
        "    policy_net = MultiAgentMLP(\n",
        "        n_agent_inputs=env.observation_spec[group, \"observation\"].shape[\n",
        "            -1\n",
        "        ],  # n_obs_per_agent\n",
        "        n_agent_outputs=env.full_action_spec[group, \"action\"].shape[\n",
        "            -1\n",
        "        ],  # n_actions_per_agents\n",
        "        n_agents=len(agents),  # Number of agents in the group\n",
        "        centralised=False,  # the policies are decentralised (i.e., each agent will act from its local observation)\n",
        "        share_params=share_parameters_policy,\n",
        "        device=device,\n",
        "        depth=2,\n",
        "        num_cells=256,\n",
        "        activation_class=torch.nn.Tanh,\n",
        "    )\n",
        "\n",
        "    # Wrap the neural network in a :class:`~tensordict.nn.TensorDictModule`.\n",
        "    # This is simply a module that will read the ``in_keys`` from a tensordict, feed them to the\n",
        "    # neural networks, and write the\n",
        "    # outputs in-place at the ``out_keys``.\n",
        "\n",
        "    policy_module = TensorDictModule(\n",
        "        policy_net,\n",
        "        in_keys=[(group, \"observation\")],\n",
        "        out_keys=[(group, \"param\")],\n",
        "    )  # We just name the input and output that the network will read and write to the input tensordict\n",
        "    policy_modules[group] = policy_module"
      ]
    },
    {
      "cell_type": "markdown",
      "metadata": {
        "id": "bvgRl6E81dFI"
      },
      "source": [
        "### **Approach: Probabilistic Policy Definition**\n",
        "- **Wraps policy networks (`policy_modules`) in `ProbabilisticActor`** to handle stochastic action sampling.  \n",
        "- **Uses `TanhDelta` Distribution**:\n",
        "  - Ensures continuous action outputs stay within predefined bounds (`low`, `high`).  \n",
        "  - Helps stabilize training by keeping actions constrained.  \n",
        "- **Input & Output Keys**:\n",
        "  - Reads action parameters from `policy_modules` (`(group, \"param\")`).  \n",
        "  - Outputs final actions (`(group, \"action\")`).  \n",
        "- **Log Probabilities Disabled (`return_log_prob=False`)**:  \n",
        "  - Not needed for deterministic policy updates in DDPG."
      ]
    },
    {
      "cell_type": "code",
      "execution_count": null,
      "metadata": {
        "id": "vbHpMLXRWROv"
      },
      "outputs": [],
      "source": [
        "policies = {}\n",
        "for group, _agents in env.group_map.items():\n",
        "    policy = ProbabilisticActor(\n",
        "        module=policy_modules[group],\n",
        "        spec=env.full_action_spec[group, \"action\"],\n",
        "        in_keys=[(group, \"param\")],\n",
        "        out_keys=[(group, \"action\")],\n",
        "        distribution_class=TanhDelta,\n",
        "        distribution_kwargs={\n",
        "            \"low\": env.full_action_spec[group, \"action\"].space.low,\n",
        "            \"high\": env.full_action_spec[group, \"action\"].space.high,\n",
        "        },\n",
        "        return_log_prob=False,\n",
        "    )\n",
        "    policies[group] = policy"
      ]
    },
    {
      "cell_type": "markdown",
      "metadata": {
        "id": "_ttFAcMQ1nev"
      },
      "source": [
        "### **Approach: Exploration Policy with Gaussian Noise**\n",
        "- **Adds exploration noise to deterministic policies** using `AdditiveGaussianModule`.  \n",
        "- **Purpose**: Encourages better exploration by injecting Gaussian noise into actions.  \n",
        "- **Annealing Strategy**:\n",
        "  - **Starts with `sigma_init = 0.9`** (high noise for exploration).  \n",
        "  - **Decays to `sigma_end = 0.1`** over `total_frames / 2` steps, reducing noise gradually.  \n",
        "- **Wrapped in `TensorDictSequential`**:\n",
        "  - First applies the base policy (`policies[group]`).  \n",
        "  - Then adds Gaussian noise to the output action (`(group, \"action\")`).  \n",
        "- **Ensures Smooth Transition**: High exploration at the start, stabilizing towards exploitation."
      ]
    },
    {
      "cell_type": "code",
      "execution_count": null,
      "metadata": {
        "id": "IpDjZUtQWSeF"
      },
      "outputs": [],
      "source": [
        "exploration_policies = {}\n",
        "for group, _agents in env.group_map.items():\n",
        "    exploration_policy = TensorDictSequential(\n",
        "        policies[group],\n",
        "        AdditiveGaussianModule(\n",
        "            spec=policies[group].spec,\n",
        "            annealing_num_steps=total_frames\n",
        "            // 2,  # Number of frames after which sigma is sigma_end\n",
        "            action_key=(group, \"action\"),\n",
        "            sigma_init=0.9,  # Initial value of the sigma\n",
        "            sigma_end=0.1,  # Final value of the sigma\n",
        "        ),\n",
        "    )\n",
        "    exploration_policies[group] = exploration_policy"
      ]
    },
    {
      "cell_type": "markdown",
      "metadata": {
        "id": "_H8lIUgF1vzz"
      },
      "source": [
        "### **Approach: Critic Network for Value Estimation**\n",
        "- **Defines critic networks for each agent group** to estimate state-action values (\\(Q\\)-values).  \n",
        "- **Centralized vs. Decentralized Critic**:\n",
        "  - **`MADDPG = True`**: Uses a centralized critic (multi-agent).  \n",
        "  - **`IDDPG = False`**: Uses an independent critic per agent.  \n",
        "- **Feature Concatenation (`cat_module`)**:\n",
        "  - Combines agent's observation and action into a single tensor (`(group, \"obs_action\")`).  \n",
        "- **Critic Network (`critic_module`)**:\n",
        "  - Takes concatenated state-action inputs and predicts a **single Q-value per agent**.  \n",
        "  - Uses a **2-layer MLP (256 neurons per layer, `Tanh` activation)**.  \n",
        "  - Supports parameter sharing (`share_parameters_critic = True`).  \n",
        "- **Final Critic Pipeline (`TensorDictSequential`)**:\n",
        "  - First applies **feature concatenation (`cat_module`)**.  \n",
        "  - Then passes through **`MultiAgentMLP` for value estimation** (`(group, \"state_action_value\")`)."
      ]
    },
    {
      "cell_type": "code",
      "execution_count": null,
      "metadata": {
        "id": "LqVFCeRNWSfY"
      },
      "outputs": [],
      "source": [
        "critics = {}\n",
        "for group, agents in env.group_map.items():\n",
        "    share_parameters_critic = True  # Can change for each group\n",
        "    MADDPG = True  # IDDPG if False, can change for each group\n",
        "\n",
        "    # This module applies the lambda function: reading the action and observation entries for the group\n",
        "    # and concatenating them in a new ``(group, \"obs_action\")`` entry\n",
        "    cat_module = TensorDictModule(\n",
        "        lambda obs, action: torch.cat([obs, action], dim=-1),\n",
        "        in_keys=[(group, \"observation\"), (group, \"action\")],\n",
        "        out_keys=[(group, \"obs_action\")],\n",
        "    )\n",
        "\n",
        "    critic_module = TensorDictModule(\n",
        "        module=MultiAgentMLP(\n",
        "            n_agent_inputs=env.observation_spec[group, \"observation\"].shape[-1]\n",
        "            + env.full_action_spec[group, \"action\"].shape[-1],\n",
        "            n_agent_outputs=1,  # 1 value per agent\n",
        "            n_agents=len(agents),\n",
        "            centralised=MADDPG,\n",
        "            share_params=share_parameters_critic,\n",
        "            device=device,\n",
        "            depth=2,\n",
        "            num_cells=256,\n",
        "            activation_class=torch.nn.Tanh,\n",
        "        ),\n",
        "        in_keys=[(group, \"obs_action\")],  # Read ``(group, \"obs_action\")``\n",
        "        out_keys=[\n",
        "            (group, \"state_action_value\")\n",
        "        ],  # Write ``(group, \"state_action_value\")``\n",
        "    )\n",
        "\n",
        "    critics[group] = TensorDictSequential(\n",
        "        cat_module, critic_module\n",
        "    )  # Run them in sequence"
      ]
    },
    {
      "cell_type": "code",
      "execution_count": null,
      "metadata": {
        "colab": {
          "base_uri": "https://localhost:8080/"
        },
        "id": "5W7Qq-fBWZRq",
        "outputId": "d491d229-5100-4346-d467-116589bf1ce0"
      },
      "outputs": [],
      "source": [
        "reset_td = env.reset()\n",
        "for group, _agents in env.group_map.items():\n",
        "    print(\n",
        "        f\"Running value and policy for group '{group}':\",\n",
        "        critics[group](policies[group](reset_td)),\n",
        "    )"
      ]
    },
    {
      "cell_type": "markdown",
      "metadata": {
        "id": "iTfMG26J2L4J"
      },
      "source": [
        "### **Approach: Data Collection for Training**\n",
        "- **Combines all group exploration policies** into a single sequential module (`TensorDictSequential`), ensuring actions include exploration noise.  \n",
        "- **`SyncDataCollector` for Data Sampling**:\n",
        "  - Collects experience from the environment using **exploration policies**.  \n",
        "  - Runs on **`device` (GPU or CPU)** for efficiency.  \n",
        "  - **Frames per batch**: `1,000`, ensuring large enough updates per iteration.  \n",
        "  - **Total frames**: `50,000` (over `50` iterations).  \n",
        "- **Purpose**: Efficiently gathers on-policy experiences for training with replay buffers."
      ]
    },
    {
      "cell_type": "code",
      "execution_count": null,
      "metadata": {
        "id": "67asRrVjWa5O"
      },
      "outputs": [],
      "source": [
        "# Put exploration policies from each group in a sequence\n",
        "agents_exploration_policy = TensorDictSequential(*exploration_policies.values())\n",
        "\n",
        "collector = SyncDataCollector(\n",
        "    env,\n",
        "    agents_exploration_policy,\n",
        "    device=device,\n",
        "    frames_per_batch=frames_per_batch,\n",
        "    total_frames=total_frames,\n",
        ")"
      ]
    },
    {
      "cell_type": "code",
      "execution_count": null,
      "metadata": {
        "id": "NghMzg_3Wcky"
      },
      "outputs": [],
      "source": [
        "#Standard in off policy algos for efficient data collections\n",
        "replay_buffers = {}\n",
        "for group, _agents in env.group_map.items():\n",
        "    replay_buffer = ReplayBuffer(\n",
        "        storage=LazyMemmapStorage(memory_size, device=\"cpu\"),\n",
        "        sampler=RandomSampler(),\n",
        "        batch_size=train_batch_size,\n",
        "    )\n",
        "    replay_buffer.append_transform(lambda batch: batch.to(\"cuda:0\"))\n",
        "    replay_buffers[group] = replay_buffer"
      ]
    },
    {
      "cell_type": "markdown",
      "metadata": {
        "id": "szedGF5b2g2V"
      },
      "source": [
        "### **Approach: Loss Calculation & Optimization**\n",
        "#### **Defining the Loss Function (`DDPGLoss`)**\n",
        "- **Uses separate actor and critic losses**:\n",
        "  - **`actor_network = policies[group]`**: Optimizes agent actions.\n",
        "  - **`value_network = critics[group]`**: Estimates state-action values.\n",
        "- **Target Network (`delay_value = True`)**:\n",
        "  - Uses a **target critic** for more stable learning.\n",
        "  - **Loss function**: Mean Squared Error (`\"l2\"`).\n",
        "- **Key Assignments**:\n",
        "  - **State-action value**: `(group, \"state_action_value\")`.\n",
        "  - **Reward Signal**: `(group, \"reward\")`.\n",
        "  - **Termination Handling**: `(group, \"done\")` and `(group, \"terminated\")`.\n",
        "- **TD(0) Estimator**: Uses **Temporal Difference (TD) learning** with discount factor `γ = 0.99`.\n",
        "\n",
        "#### **Target Network Updates**\n",
        "- **Soft update mechanism (`SoftUpdate`)**:\n",
        "  - **Gradually updates target networks** using `τ = 0.005`.\n",
        "  - Prevents drastic changes, improving stability.\n",
        "\n",
        "#### **Optimizers**\n",
        "- **Separate Adam optimizers for actor and critic networks**:\n",
        "  - **`loss_actor`**: Updates policy parameters.\n",
        "  - **`loss_value`**: Updates value network parameters.\n",
        "- **Learning rate (`lr = 3e-4`)** ensures smooth gradient updates."
      ]
    },
    {
      "cell_type": "code",
      "execution_count": null,
      "metadata": {
        "id": "bJ4u6U6EWfBT"
      },
      "outputs": [],
      "source": [
        "losses = {}\n",
        "for group, _agents in env.group_map.items():\n",
        "    loss_module = DDPGLoss(\n",
        "        actor_network=policies[group],  # Use the non-explorative policies\n",
        "        value_network=critics[group],\n",
        "        delay_value=True,  # Whether to use a target network for the value\n",
        "        loss_function=\"l2\",\n",
        "    )\n",
        "    loss_module.set_keys(\n",
        "        state_action_value=(group, \"state_action_value\"),\n",
        "        reward=(group, \"reward\"),\n",
        "        done=(group, \"done\"),\n",
        "        terminated=(group, \"terminated\"),\n",
        "    )\n",
        "    loss_module.make_value_estimator(ValueEstimators.TD0, gamma=gamma)\n",
        "\n",
        "    losses[group] = loss_module\n",
        "\n",
        "target_updaters = {\n",
        "    group: SoftUpdate(loss, tau=polyak_tau) for group, loss in losses.items()\n",
        "}\n",
        "\n",
        "optimisers = {\n",
        "    group: {\n",
        "        \"loss_actor\": torch.optim.Adam(\n",
        "            loss.actor_network_params.flatten_keys().values(), lr=lr\n",
        "        ),\n",
        "        \"loss_value\": torch.optim.Adam(\n",
        "            loss.value_network_params.flatten_keys().values(), lr=lr\n",
        "        ),\n",
        "    }\n",
        "    for group, loss in losses.items()\n",
        "}"
      ]
    },
    {
      "cell_type": "code",
      "execution_count": null,
      "metadata": {
        "id": "EjBvnOLGWgnp"
      },
      "outputs": [],
      "source": [
        "def process_batch(batch: TensorDictBase) -> TensorDictBase:\n",
        "    \"\"\"\n",
        "    If the `(group, \"terminated\")` and `(group, \"done\")` keys are not present, create them by expanding\n",
        "    `\"terminated\"` and `\"done\"`.\n",
        "    This is needed to present them with the same shape as the reward to the loss.\n",
        "    \"\"\"\n",
        "    for group in env.group_map.keys():\n",
        "        keys = list(batch.keys(True, True))\n",
        "        group_shape = batch.get_item_shape(group)\n",
        "        nested_done_key = (\"next\", group, \"done\")\n",
        "        nested_terminated_key = (\"next\", group, \"terminated\")\n",
        "        if nested_done_key not in keys:\n",
        "            batch.set(\n",
        "                nested_done_key,\n",
        "                batch.get((\"next\", \"done\")).unsqueeze(-1).expand((*group_shape, 1)),\n",
        "            )\n",
        "        if nested_terminated_key not in keys:\n",
        "            batch.set(\n",
        "                nested_terminated_key,\n",
        "                batch.get((\"next\", \"terminated\"))\n",
        "                .unsqueeze(-1)\n",
        "                .expand((*group_shape, 1)),\n",
        "            )\n",
        "    return batch"
      ]
    },
    {
      "cell_type": "markdown",
      "metadata": {
        "id": "CHXNfxaJ2sQA"
      },
      "source": [
        "### **Approach: Training Loop & Optimization**\n",
        "#### **Progress Bar & Logging Setup**\n",
        "- **Uses `tqdm`** to track training iterations with episode rewards.  \n",
        "- **Initializes `episode_reward_mean_map`** to store reward trends per agent group.  \n",
        "- **Creates `train_group_map`** as a copy of `env.group_map`, allowing dynamic updates.\n",
        "\n",
        "#### **Main Training Loop**\n",
        "- **Iterates through `collector`** to process training batches.\n",
        "- **Preprocesses Data (`process_batch`)**:\n",
        "  - Expands done/terminated keys for proper loss computation.\n",
        "  - **Excludes data from other groups** to isolate training signals.\n",
        "  - **Reshapes batch** to align with replay buffer dimensions.\n",
        "- **Stores Data in Replay Buffer (`replay_buffers[group].extend(group_batch)`)**.\n",
        "\n",
        "#### **Optimization Steps**\n",
        "- **Samples batches (`n_optimiser_steps = 100`)** from replay buffer.\n",
        "- **Computes & Backpropagates Loss**:\n",
        "  - Extracts actor (`loss_actor`) and critic (`loss_value`) loss.\n",
        "  - **Clips gradients (`max_grad_norm = 1.0`)** to prevent instability.\n",
        "  - **Optimizes parameters with Adam**, resetting gradients after each step.\n",
        "- **Soft Updates (`target_updaters[group].step()`)**:\n",
        "  - Gradually syncs target networks using `τ = 0.005`.\n",
        "\n",
        "#### **Adaptive Exploration**\n",
        "- **Anneals exploration noise (`sigma`)** based on the number of frames processed.\n",
        "\n",
        "#### **Training Halting Condition**\n",
        "- **Stops training evaders after `iteration_when_stop_training_evaders = 25`**.\n",
        "\n",
        "#### **Logging & Progress Tracking**\n",
        "- **Computes mean episode reward** for each group.\n",
        "- **Updates `tqdm` progress bar** with latest reward values."
      ]
    },
    {
      "cell_type": "code",
      "execution_count": null,
      "metadata": {
        "colab": {
          "base_uri": "https://localhost:8080/",
          "height": 374
        },
        "id": "rwLjnzsLWjzS",
        "outputId": "c760a3a6-2e0e-445c-d25d-6d7f5ff354a6"
      },
      "outputs": [],
      "source": [
        "pbar = tqdm(\n",
        "    total=n_iters,\n",
        "    desc=\", \".join(\n",
        "        [f\"episode_reward_mean_{group} = 0\" for group in env.group_map.keys()]\n",
        "    ),\n",
        ")\n",
        "episode_reward_mean_map = {group: [] for group in env.group_map.keys()}\n",
        "train_group_map = copy.deepcopy(env.group_map)\n",
        "\n",
        "# Training/collection iterations\n",
        "for iteration, batch in enumerate(collector):\n",
        "    current_frames = batch.numel()\n",
        "    batch = process_batch(batch)  # Util to expand done keys if needed\n",
        "    # Loop over groups\n",
        "    for group in train_group_map.keys():\n",
        "        group_batch = batch.exclude(\n",
        "            *[\n",
        "                key\n",
        "                for _group in env.group_map.keys()\n",
        "                if _group != group\n",
        "                for key in [_group, (\"next\", _group)]\n",
        "            ]\n",
        "        )  # Exclude data from other groups\n",
        "        group_batch = group_batch.reshape(\n",
        "            -1\n",
        "        )  # This just affects the leading dimensions in batch_size of the tensordict\n",
        "        replay_buffers[group].extend(group_batch)\n",
        "\n",
        "        for _ in range(n_optimiser_steps):\n",
        "            subdata = replay_buffers[group].sample()\n",
        "            loss_vals = losses[group](subdata)\n",
        "\n",
        "            for loss_name in [\"loss_actor\", \"loss_value\"]:\n",
        "                loss = loss_vals[loss_name]\n",
        "                optimiser = optimisers[group][loss_name]\n",
        "\n",
        "                loss.backward()\n",
        "\n",
        "                # Optional\n",
        "                params = optimiser.param_groups[0][\"params\"]\n",
        "                torch.nn.utils.clip_grad_norm_(params, max_grad_norm)\n",
        "\n",
        "                optimiser.step()\n",
        "                optimiser.zero_grad()\n",
        "\n",
        "            # Soft-update the target network\n",
        "            target_updaters[group].step()\n",
        "\n",
        "        # Exploration sigma anneal update\n",
        "        exploration_policies[group][-1].step(current_frames)\n",
        "\n",
        "    # Stop training a certain group when a condition is met (e.g., number of training iterations)\n",
        "    if iteration == iteration_when_stop_training_evaders:\n",
        "        del train_group_map[\"agent\"]\n",
        "\n",
        "    # Logging\n",
        "    for group in env.group_map.keys():\n",
        "        episode_reward_mean = (\n",
        "            batch.get((\"next\", group, \"episode_reward\"))[\n",
        "                batch.get((\"next\", group, \"done\"))\n",
        "            ]\n",
        "            .mean()\n",
        "            .item()\n",
        "        )\n",
        "        episode_reward_mean_map[group].append(episode_reward_mean)\n",
        "\n",
        "    pbar.set_description(\n",
        "        \", \".join(\n",
        "            [\n",
        "                f\"episode_reward_mean_{group} = {episode_reward_mean_map[group][-1]}\"\n",
        "                for group in env.group_map.keys()\n",
        "            ]\n",
        "        ),\n",
        "        refresh=False,\n",
        "    )\n",
        "    pbar.update()"
      ]
    },
    {
      "cell_type": "markdown",
      "metadata": {
        "id": "UdxfvvGb2uRb"
      },
      "source": [
        "This is our \"test\" to make sure our agents are trainng, we see after the agent stops training the adversaries rewards are increasing and then while it is trainng their rewards both go to 0"
      ]
    },
    {
      "cell_type": "code",
      "execution_count": null,
      "metadata": {
        "colab": {
          "base_uri": "https://localhost:8080/",
          "height": 523
        },
        "id": "N_voZiw3WnTw",
        "outputId": "21fd3e13-53a6-4531-e8d1-5529b9991e2e"
      },
      "outputs": [],
      "source": [
        "fig, axs = plt.subplots(2, 1)\n",
        "for i, group in enumerate(env.group_map.keys()):\n",
        "    axs[i].plot(episode_reward_mean_map[group], label=f\"Episode reward mean {group}\")\n",
        "    axs[i].set_ylabel(\"Reward\")\n",
        "    axs[i].axvline(\n",
        "        x=iteration_when_stop_training_evaders,\n",
        "        label=\"Agent (evader) stop training\",\n",
        "        color=\"orange\",\n",
        "    )\n",
        "    axs[i].legend()\n",
        "axs[-1].set_xlabel(\"Training iterations\")\n",
        "plt.show()\n",
        "print(env.group_map.keys())"
      ]
    },
    {
      "cell_type": "code",
      "execution_count": null,
      "metadata": {
        "id": "sBIAaI_SXoSd"
      },
      "outputs": [],
      "source": []
    },
    {
      "cell_type": "code",
      "execution_count": null,
      "metadata": {
        "id": "O1CunWRfcHKU"
      },
      "outputs": [],
      "source": []
    }
  ],
  "metadata": {
    "colab": {
      "provenance": []
    },
    "kernelspec": {
      "display_name": "Python 3",
      "name": "python3"
    },
    "language_info": {
      "name": "python",
      "version": "3.12.3"
    }
  },
  "nbformat": 4,
  "nbformat_minor": 0
}
