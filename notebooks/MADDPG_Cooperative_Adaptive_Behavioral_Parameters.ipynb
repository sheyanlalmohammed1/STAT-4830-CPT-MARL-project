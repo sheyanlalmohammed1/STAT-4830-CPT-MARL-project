{
  "cells": [
    {
      "cell_type": "markdown",
      "source": [
        "# MADDPG with Dynamically Adaptive CPT-Adjusted Rewards in Cooperative Multi-Agent Systems\n",
        "\n",
        "## 1. Overview\n",
        "\n",
        "This Python script implements and tests a Multi-Agent Deep Deterministic Policy Gradient (MADDPG) algorithm within a cooperative multi-agent environment. Building upon the integration of Cumulative Prospect Theory (CPT), this version introduces a key innovation: **dynamically adaptive behavioral parameters**. Instead of relying solely on fixed, predefined CPT parameters for each agent, this script allows agents to *learn and adapt* their individual behavioral profiles (utility curvature, loss aversion, and probability weighting sensitivities) during the training process. This aims to create more flexible and potentially more realistic models of agent decision-making under risk and uncertainty, where agents can fine-tune their CPT characteristics based on their experiences within the environment and interactions with other agents.\n",
        "\n",
        "## 2. Core Algorithm: MADDPG\n",
        "\n",
        "The foundational reinforcement learning framework remains **MADDPG**, an adaptation of the Deep Deterministic Policy Gradient (DDPG) algorithm tailored for multi-agent scenarios. Its core components include:\n",
        "\n",
        "* **Actor-Critic Architecture:** Each agent maintains its own actor (policy) and critic (value function) networks.\n",
        "* **Centralized Critic, Decentralized Execution:** Critics utilize global information for training stability, while actors operate based on local observations for execution.\n",
        "* **Deterministic Policies with Exploration:** Actors learn deterministic policies, with exploration typically introduced via action noise.\n",
        "* **Experience Replay:** Past experiences are stored and sampled for training to improve data efficiency and stability.\n",
        "* **Soft Target Updates:** Target networks are updated slowly to stabilize the learning process.\n",
        "\n",
        "## 3. Key Innovation: Adaptive Cumulative Prospect Theory (CPT) Integration\n",
        "\n",
        "The central novelty of this script is the integration of CPT with **learnable, agent-specific behavioral parameters** and **dynamic probability weighting functions**.\n",
        "\n",
        "* **`AdaptiveBehavioralParameters(nn.Module)`:**\n",
        "    * This custom `torch.nn.Module` encapsulates the core CPT parameters for an agent:\n",
        "        * `alpha`: Curvature of the utility function.\n",
        "        * `lam`: Loss aversion coefficient.\n",
        "        * `w_plus_prime_gamma`: A learnable parameter (e.g., $\\gamma_+$) influencing the shape of the probability weighting function for gains.\n",
        "        * `w_minus_prime_gamma`: A learnable parameter (e.g., $\\gamma_-$) influencing the shape of the probability weighting function for losses.\n",
        "    * These parameters are defined as `nn.Parameter`, making them trainable via gradient descent.\n",
        "* **`adaptive_params = nn.ModuleDict`:**\n",
        "    * This dictionary holds an instance of `AdaptiveBehavioralParameters` for each agent (e.g., \"agent_0\", \"agent_1\"). This allows different agents to learn distinct behavioral profiles.\n",
        "* **Dynamic Probability Weighting Functions (`w_plus_prime_dynamic`, `w_minus_prime_dynamic`):**\n",
        "    * These functions replace the fixed `w_plus_prime_const` and `w_minus_prime_const` from previous versions.\n",
        "    * They compute probability weights based on:\n",
        "        1.  An input probability `p` (in the script, `p_star` is derived by applying a sigmoid function to rewards/values, normalizing them to a (0,1) range).\n",
        "        2.  The learnable `gamma` parameters (`w_plus_prime_gamma`, `w_minus_prime_gamma`) specific to each agent, retrieved from `adaptive_params`.\n",
        "    * The script uses a Prelec-like weighting function derivative: $w'(p) = \\exp(-(-\\log p)^\\gamma)$.\n",
        "* **Utility Functions (`stable_u_plus_agent`, `u_minus_agent`):**\n",
        "    * These functions calculate the utility of gains and losses, incorporating the learned `alpha` and `lam` for each agent. `stable_u_plus_agent` includes clamping and log-space computation for numerical stability.\n",
        "* **Dynamic CPT Transformations (`compute_phi_cross_dynamic`, `C_transform_cross_dynamic`):**\n",
        "    * `compute_phi_cross_dynamic`: Calculates the CPT sensitivity factor (`phi_factor`) that scales the actor's policy gradient. It uses the learned `alpha` and `lam` for utility and the learned `gamma`s via the dynamic weighting functions. The average sensitivity across agents is used.\n",
        "    * `C_transform_cross_dynamic`: Transforms the target Q-values for the critic's loss. It similarly applies the learned, agent-specific CPT parameters and dynamic weighting functions, averaging the transformed values.\n",
        "* **Custom DDPG Loss (`CPTDDPGLoss`):**\n",
        "    * **Value Loss:** The critic learns to predict Q-values that align with the `C_transform_cross_dynamic`-adjusted target values.\n",
        "    * **Actor Loss:** The actor's policy gradient is scaled by the `phi_factor` derived from `compute_phi_cross_dynamic`.\n",
        "* **Learning Adaptive Parameters:**\n",
        "    * **`optimizer_behavioral`:** A dedicated Adam optimizer is used to update the parameters within `adaptive_params`.\n",
        "    * **`compute_adaptive_loss`:** This function defines the objective for learning the behavioral parameters. The primary goal is to encourage the CPT-transformed target Q-value (`target_value_CPT`) to be close to the standard (non-CPT) target Q-value. The loss is typically the mean squared error between these two.\n",
        "    * **Regularization:** An L2 regularization term is added to the adaptive loss. This penalizes deviations of the learned parameters from their `initial_params`, encouraging them to stay within a reasonable range or to not stray too far from their initial behavioral assumptions.\n",
        "    * **Dynamic Scaling Factor:** The adaptive loss incorporates a `dynamic_factor` that scales the base adaptive loss. This factor is adjusted based on the change in the base loss from the previous update, potentially modulating the learning rate or importance of the adaptive component.\n",
        "\n",
        "### 3.1. Experimenting with Adaptive CPT Hyperparameters\n",
        "\n",
        "With adaptive parameters, the focus of experimentation shifts from manually setting fixed values to influencing the learning process and interpreting the learned profiles.\n",
        "\n",
        "1.  **Initial Values for Adaptive Parameters:**\n",
        "    * The `AdaptiveBehavioralParameters` class is initialized with `init_alpha`, `init_lam`, `init_w_plus_gamma`, and `init_w_minus_gamma`. These serve as the starting points for the learning process.\n",
        "        ```python\n",
        "        adaptive_params = nn.ModuleDict({\n",
        "            \"agent_0\": AdaptiveBehavioralParameters(init_alpha=1.2, init_lam=1.5, init_w_plus_gamma=0.5, init_w_minus_gamma=0.69),\n",
        "            \"agent_1\": AdaptiveBehavioralParameters(init_alpha=1.2, init_lam=1.2, init_w_plus_gamma=0.5, init_w_minus_gamma=0.69),\n",
        "        })\n",
        "        ```\n",
        "    * **Experiment:**\n",
        "        * Vary these initial values to see if the learning process converges to different behavioral profiles or if certain starting points lead to faster/more stable learning.\n",
        "        * Test different initial `gamma` values for the probability weighting functions. For Prelec, $\\gamma=1$ implies linear weighting (no distortion of probabilities). Values typically range between 0.5 and 1.\n",
        "\n",
        "2.  **Understanding Learned Parameters:**\n",
        "    * **`alpha` (Utility Curvature):**\n",
        "        * Learned `alpha = 1` suggests risk neutrality.\n",
        "        * Learned `0 < alpha < 1` suggests risk aversion for gains and risk-seeking for losses.\n",
        "        * Monitor how `alpha` evolves for each agent.\n",
        "    * **`lam` (Loss Aversion):**\n",
        "        * Learned `lam > 1` indicates loss aversion.\n",
        "        * Monitor its learned value to see the degree of loss aversion agents develop.\n",
        "    * **`w_plus_prime_gamma`, `w_minus_prime_gamma` (Probability Weighting Shape):**\n",
        "        * These learned `gamma` parameters determine the degree of optimism/pessimism in probability perception. For the Prelec function $w(p) = \\exp(-(-\\ln p)^\\gamma)$:\n",
        "            * $\\gamma = 1$: Linear weighting ($w(p) = p$).\n",
        "            * $\\gamma < 1$: Typically leads to overweighting of small probabilities and underweighting of large probabilities (inverse S-shape).\n",
        "            * $\\gamma > 1$: Can lead to underweighting of small probabilities and overweighting of large probabilities (S-shape).\n",
        "        * The script uses the *derivative* of a weighting function, so the interpretation of `gamma` is tied to how it shapes this sensitivity. Analyze the learned `gamma` values to understand how agents distort probabilities.\n",
        "\n",
        "3.  **Influencing the Learning Process:**\n",
        "    * **`optimizer_behavioral` Learning Rate:** The learning rate for `adaptive_params` (e.g., `1e-5` in the script) is crucial. A smaller rate leads to slower, potentially more stable adaptation.\n",
        "    * **`adaptive_update_frequency`:** How often the adaptive parameters are updated (e.g., every 10 iterations). More frequent updates mean faster adaptation but could be noisy.\n",
        "    * **`freeze_adaptive_until`:** Delays the start of adaptive parameter learning, allowing the base RL policies to stabilize first.\n",
        "    * **`scale_factor` for `base_adaptive_loss`:** (e.g., `1e-3`) This scales the main objective of matching CPT-transformed targets to standard targets. A smaller factor reduces the influence of this objective.\n",
        "    * **`reg_lambda` for Regularization:** (e.g., `1e-3`) Controls the strength of the L2 regularization penalty, which pulls learned parameters towards their initial values. Higher `reg_lambda` means less deviation from `initial_params`.\n",
        "    * **`dynamic_factor` in Adaptive Loss:** This factor, `1.0 + torch.abs(base_loss - previous_base_loss)`, amplifies the adaptive loss when the base adaptive loss changes significantly. This could accelerate learning when the system is in flux or stabilize it when changes are minor. Experiment with its formulation or remove it to see the impact.\n",
        "    * **Experiment:** Adjust these meta-parameters to control the speed, stability, and outcome of the behavioral parameter adaptation.\n",
        "\n",
        "4.  **Probability Input `p_star` for Weighting Functions:**\n",
        "    * The dynamic weighting functions (`w_plus_prime_dynamic`, `w_minus_prime_dynamic`) take a probability `p` as input. The script calculates this as `p_star = torch.sigmoid(R)` (or `torch.sigmoid(x)`), where `R` or `x` are rewards or Q-values.\n",
        "    * **Experiment:** The choice of normalization function (here, sigmoid) to map rewards/values to a [0,1] range can influence the behavior of the weighting functions. Consider other normalization methods if sigmoid doesn't yield desired properties.\n",
        "\n",
        "5.  **Choice of Dynamic Weighting Function:**\n",
        "    * The script uses `torch.exp(-(-torch.log(p)) ** gamma)`. This is related to the Prelec weighting function.\n",
        "    * **Experiment:** You could implement and test other forms of probability weighting functions (e.g., Tversky & Kahneman's 1992 weighting function) by modifying `w_plus_prime_dynamic` and `w_minus_prime_dynamic`.\n",
        "\n",
        "By observing the evolution of `adaptive_params` and correlating them with agent performance and behavior, you can gain insights into what behavioral profiles are effective or emerge in the given cooperative task.\n",
        "\n",
        "## 4. Environment\n",
        "\n",
        "The agents operate in a multi-agent environment, likely:\n",
        "\n",
        "* **`VmasEnv` (e.g., `simple_spread`) or `PettingZooEnv`:** Standard multi-agent RL environments. `simple_spread` typically involves cooperative tasks like covering landmarks.\n",
        "\n",
        "## 5. Implementation Details\n",
        "\n",
        "* **Libraries:** `torchRL` and `PyTorch` are the primary libraries.\n",
        "* **Training Loop:** Similar to standard MADDPG, but with an additional, decoupled update step for the `adaptive_params` using `optimizer_behavioral` and the `compute_adaptive_loss` function.\n",
        "* **Stability Measures:** `epsilon` and `min_val` are used in CPT calculations to prevent numerical issues like log(0) or division by zero.\n",
        "\n",
        "## 6. Goal of the Code\n",
        "\n",
        "The primary goal is to explore how agents in a cooperative multi-agent setting can **learn and adapt their own behavioral economic parameters (CPT profiles)**. This allows for an investigation into:\n",
        "\n",
        "* **Emergent Heterogeneity:** Do agents develop different CPT profiles even if they start from similar initializations?\n",
        "* **Adaptive Strategies:** How do learned CPT parameters correlate with task performance and cooperative strategies?\n",
        "* **Stability and Convergence:** How does the learning of behavioral parameters interact with the learning of policies and value functions?\n",
        "* **Realism:** Does allowing parameters to adapt lead to more nuanced or human-like decision-making patterns?\n",
        "\n",
        "This script provides a sophisticated framework for studying the interplay between reinforcement learning and behavioral economics in multi-agent systems.\n"
      ],
      "metadata": {
        "id": "-2Rcgv6EGbpr"
      }
    },
    {
      "cell_type": "code",
      "source": [
        "!pip3 install torchrl==0.6.0\n",
        "!pip3 install vmas\n",
        "!pip3 install pettingzoo[mpe]==1.24.3\n",
        "!pip3 install tqdm"
      ],
      "metadata": {
        "id": "RPIbRmLC_fqq",
        "colab": {
          "base_uri": "https://localhost:8080/"
        },
        "outputId": "60c51421-ca15-419a-d7b9-548694a07ceb"
      },
      "execution_count": null,
      "outputs": [
        {
          "output_type": "stream",
          "name": "stdout",
          "text": [
            "Requirement already satisfied: torchrl==0.6.0 in /usr/local/lib/python3.11/dist-packages (0.6.0)\n",
            "Requirement already satisfied: torch>=2.5.0 in /usr/local/lib/python3.11/dist-packages (from torchrl==0.6.0) (2.6.0+cu124)\n",
            "Requirement already satisfied: numpy in /usr/local/lib/python3.11/dist-packages (from torchrl==0.6.0) (2.0.2)\n",
            "Requirement already satisfied: packaging in /usr/local/lib/python3.11/dist-packages (from torchrl==0.6.0) (24.2)\n",
            "Requirement already satisfied: cloudpickle in /usr/local/lib/python3.11/dist-packages (from torchrl==0.6.0) (3.1.1)\n",
            "Requirement already satisfied: tensordict>=0.6.0 in /usr/local/lib/python3.11/dist-packages (from torchrl==0.6.0) (0.7.2)\n",
            "Requirement already satisfied: orjson in /usr/local/lib/python3.11/dist-packages (from tensordict>=0.6.0->torchrl==0.6.0) (3.10.15)\n",
            "Requirement already satisfied: filelock in /usr/local/lib/python3.11/dist-packages (from torch>=2.5.0->torchrl==0.6.0) (3.18.0)\n",
            "Requirement already satisfied: typing-extensions>=4.10.0 in /usr/local/lib/python3.11/dist-packages (from torch>=2.5.0->torchrl==0.6.0) (4.12.2)\n",
            "Requirement already satisfied: networkx in /usr/local/lib/python3.11/dist-packages (from torch>=2.5.0->torchrl==0.6.0) (3.4.2)\n",
            "Requirement already satisfied: jinja2 in /usr/local/lib/python3.11/dist-packages (from torch>=2.5.0->torchrl==0.6.0) (3.1.6)\n",
            "Requirement already satisfied: fsspec in /usr/local/lib/python3.11/dist-packages (from torch>=2.5.0->torchrl==0.6.0) (2025.3.0)\n",
            "Requirement already satisfied: nvidia-cuda-nvrtc-cu12==12.4.127 in /usr/local/lib/python3.11/dist-packages (from torch>=2.5.0->torchrl==0.6.0) (12.4.127)\n",
            "Requirement already satisfied: nvidia-cuda-runtime-cu12==12.4.127 in /usr/local/lib/python3.11/dist-packages (from torch>=2.5.0->torchrl==0.6.0) (12.4.127)\n",
            "Requirement already satisfied: nvidia-cuda-cupti-cu12==12.4.127 in /usr/local/lib/python3.11/dist-packages (from torch>=2.5.0->torchrl==0.6.0) (12.4.127)\n",
            "Requirement already satisfied: nvidia-cudnn-cu12==9.1.0.70 in /usr/local/lib/python3.11/dist-packages (from torch>=2.5.0->torchrl==0.6.0) (9.1.0.70)\n",
            "Requirement already satisfied: nvidia-cublas-cu12==12.4.5.8 in /usr/local/lib/python3.11/dist-packages (from torch>=2.5.0->torchrl==0.6.0) (12.4.5.8)\n",
            "Requirement already satisfied: nvidia-cufft-cu12==11.2.1.3 in /usr/local/lib/python3.11/dist-packages (from torch>=2.5.0->torchrl==0.6.0) (11.2.1.3)\n",
            "Requirement already satisfied: nvidia-curand-cu12==10.3.5.147 in /usr/local/lib/python3.11/dist-packages (from torch>=2.5.0->torchrl==0.6.0) (10.3.5.147)\n",
            "Requirement already satisfied: nvidia-cusolver-cu12==11.6.1.9 in /usr/local/lib/python3.11/dist-packages (from torch>=2.5.0->torchrl==0.6.0) (11.6.1.9)\n",
            "Requirement already satisfied: nvidia-cusparse-cu12==12.3.1.170 in /usr/local/lib/python3.11/dist-packages (from torch>=2.5.0->torchrl==0.6.0) (12.3.1.170)\n",
            "Requirement already satisfied: nvidia-cusparselt-cu12==0.6.2 in /usr/local/lib/python3.11/dist-packages (from torch>=2.5.0->torchrl==0.6.0) (0.6.2)\n",
            "Requirement already satisfied: nvidia-nccl-cu12==2.21.5 in /usr/local/lib/python3.11/dist-packages (from torch>=2.5.0->torchrl==0.6.0) (2.21.5)\n",
            "Requirement already satisfied: nvidia-nvtx-cu12==12.4.127 in /usr/local/lib/python3.11/dist-packages (from torch>=2.5.0->torchrl==0.6.0) (12.4.127)\n",
            "Requirement already satisfied: nvidia-nvjitlink-cu12==12.4.127 in /usr/local/lib/python3.11/dist-packages (from torch>=2.5.0->torchrl==0.6.0) (12.4.127)\n",
            "Requirement already satisfied: triton==3.2.0 in /usr/local/lib/python3.11/dist-packages (from torch>=2.5.0->torchrl==0.6.0) (3.2.0)\n",
            "Requirement already satisfied: sympy==1.13.1 in /usr/local/lib/python3.11/dist-packages (from torch>=2.5.0->torchrl==0.6.0) (1.13.1)\n",
            "Requirement already satisfied: mpmath<1.4,>=1.1.0 in /usr/local/lib/python3.11/dist-packages (from sympy==1.13.1->torch>=2.5.0->torchrl==0.6.0) (1.3.0)\n",
            "Requirement already satisfied: MarkupSafe>=2.0 in /usr/local/lib/python3.11/dist-packages (from jinja2->torch>=2.5.0->torchrl==0.6.0) (3.0.2)\n",
            "Requirement already satisfied: vmas in /usr/local/lib/python3.11/dist-packages (1.5.0)\n",
            "Requirement already satisfied: numpy in /usr/local/lib/python3.11/dist-packages (from vmas) (2.0.2)\n",
            "Requirement already satisfied: torch in /usr/local/lib/python3.11/dist-packages (from vmas) (2.6.0+cu124)\n",
            "Requirement already satisfied: pyglet<=1.5.27 in /usr/local/lib/python3.11/dist-packages (from vmas) (1.5.27)\n",
            "Requirement already satisfied: gym in /usr/local/lib/python3.11/dist-packages (from vmas) (0.25.2)\n",
            "Requirement already satisfied: six in /usr/local/lib/python3.11/dist-packages (from vmas) (1.17.0)\n",
            "Requirement already satisfied: cloudpickle>=1.2.0 in /usr/local/lib/python3.11/dist-packages (from gym->vmas) (3.1.1)\n",
            "Requirement already satisfied: gym_notices>=0.0.4 in /usr/local/lib/python3.11/dist-packages (from gym->vmas) (0.0.8)\n",
            "Requirement already satisfied: filelock in /usr/local/lib/python3.11/dist-packages (from torch->vmas) (3.18.0)\n",
            "Requirement already satisfied: typing-extensions>=4.10.0 in /usr/local/lib/python3.11/dist-packages (from torch->vmas) (4.12.2)\n",
            "Requirement already satisfied: networkx in /usr/local/lib/python3.11/dist-packages (from torch->vmas) (3.4.2)\n",
            "Requirement already satisfied: jinja2 in /usr/local/lib/python3.11/dist-packages (from torch->vmas) (3.1.6)\n",
            "Requirement already satisfied: fsspec in /usr/local/lib/python3.11/dist-packages (from torch->vmas) (2025.3.0)\n",
            "Requirement already satisfied: nvidia-cuda-nvrtc-cu12==12.4.127 in /usr/local/lib/python3.11/dist-packages (from torch->vmas) (12.4.127)\n",
            "Requirement already satisfied: nvidia-cuda-runtime-cu12==12.4.127 in /usr/local/lib/python3.11/dist-packages (from torch->vmas) (12.4.127)\n",
            "Requirement already satisfied: nvidia-cuda-cupti-cu12==12.4.127 in /usr/local/lib/python3.11/dist-packages (from torch->vmas) (12.4.127)\n",
            "Requirement already satisfied: nvidia-cudnn-cu12==9.1.0.70 in /usr/local/lib/python3.11/dist-packages (from torch->vmas) (9.1.0.70)\n",
            "Requirement already satisfied: nvidia-cublas-cu12==12.4.5.8 in /usr/local/lib/python3.11/dist-packages (from torch->vmas) (12.4.5.8)\n",
            "Requirement already satisfied: nvidia-cufft-cu12==11.2.1.3 in /usr/local/lib/python3.11/dist-packages (from torch->vmas) (11.2.1.3)\n",
            "Requirement already satisfied: nvidia-curand-cu12==10.3.5.147 in /usr/local/lib/python3.11/dist-packages (from torch->vmas) (10.3.5.147)\n",
            "Requirement already satisfied: nvidia-cusolver-cu12==11.6.1.9 in /usr/local/lib/python3.11/dist-packages (from torch->vmas) (11.6.1.9)\n",
            "Requirement already satisfied: nvidia-cusparse-cu12==12.3.1.170 in /usr/local/lib/python3.11/dist-packages (from torch->vmas) (12.3.1.170)\n",
            "Requirement already satisfied: nvidia-cusparselt-cu12==0.6.2 in /usr/local/lib/python3.11/dist-packages (from torch->vmas) (0.6.2)\n",
            "Requirement already satisfied: nvidia-nccl-cu12==2.21.5 in /usr/local/lib/python3.11/dist-packages (from torch->vmas) (2.21.5)\n",
            "Requirement already satisfied: nvidia-nvtx-cu12==12.4.127 in /usr/local/lib/python3.11/dist-packages (from torch->vmas) (12.4.127)\n",
            "Requirement already satisfied: nvidia-nvjitlink-cu12==12.4.127 in /usr/local/lib/python3.11/dist-packages (from torch->vmas) (12.4.127)\n",
            "Requirement already satisfied: triton==3.2.0 in /usr/local/lib/python3.11/dist-packages (from torch->vmas) (3.2.0)\n",
            "Requirement already satisfied: sympy==1.13.1 in /usr/local/lib/python3.11/dist-packages (from torch->vmas) (1.13.1)\n",
            "Requirement already satisfied: mpmath<1.4,>=1.1.0 in /usr/local/lib/python3.11/dist-packages (from sympy==1.13.1->torch->vmas) (1.3.0)\n",
            "Requirement already satisfied: MarkupSafe>=2.0 in /usr/local/lib/python3.11/dist-packages (from jinja2->torch->vmas) (3.0.2)\n",
            "Requirement already satisfied: pettingzoo==1.24.3 in /usr/local/lib/python3.11/dist-packages (from pettingzoo[mpe]==1.24.3) (1.24.3)\n",
            "Requirement already satisfied: numpy>=1.21.0 in /usr/local/lib/python3.11/dist-packages (from pettingzoo==1.24.3->pettingzoo[mpe]==1.24.3) (2.0.2)\n",
            "Requirement already satisfied: gymnasium>=0.28.0 in /usr/local/lib/python3.11/dist-packages (from pettingzoo==1.24.3->pettingzoo[mpe]==1.24.3) (1.1.1)\n",
            "Requirement already satisfied: pygame==2.3.0 in /usr/local/lib/python3.11/dist-packages (from pettingzoo[mpe]==1.24.3) (2.3.0)\n",
            "Requirement already satisfied: cloudpickle>=1.2.0 in /usr/local/lib/python3.11/dist-packages (from gymnasium>=0.28.0->pettingzoo==1.24.3->pettingzoo[mpe]==1.24.3) (3.1.1)\n",
            "Requirement already satisfied: typing-extensions>=4.3.0 in /usr/local/lib/python3.11/dist-packages (from gymnasium>=0.28.0->pettingzoo==1.24.3->pettingzoo[mpe]==1.24.3) (4.12.2)\n",
            "Requirement already satisfied: farama-notifications>=0.0.1 in /usr/local/lib/python3.11/dist-packages (from gymnasium>=0.28.0->pettingzoo==1.24.3->pettingzoo[mpe]==1.24.3) (0.0.4)\n",
            "Requirement already satisfied: tqdm in /usr/local/lib/python3.11/dist-packages (4.67.1)\n"
          ]
        }
      ]
    },
    {
      "cell_type": "code",
      "execution_count": null,
      "metadata": {
        "id": "Yhec5pa7VzyM"
      },
      "outputs": [],
      "source": [
        "import copy\n",
        "import tempfile\n",
        "\n",
        "import torch\n",
        "\n",
        "from matplotlib import pyplot as plt\n",
        "from tensordict import TensorDictBase\n",
        "\n",
        "from tensordict.nn import TensorDictModule, TensorDictSequential\n",
        "from torch import multiprocessing\n",
        "\n",
        "from torchrl.collectors import SyncDataCollector\n",
        "from torchrl.data import LazyMemmapStorage, RandomSampler, ReplayBuffer\n",
        "\n",
        "from torchrl.envs import (\n",
        "    check_env_specs,\n",
        "    ExplorationType,\n",
        "    PettingZooEnv,\n",
        "    RewardSum,\n",
        "    set_exploration_type,\n",
        "    TransformedEnv,\n",
        "    VmasEnv,\n",
        ")\n",
        "\n",
        "from torchrl.modules import (\n",
        "    AdditiveGaussianModule,\n",
        "    MultiAgentMLP,\n",
        "    ProbabilisticActor,\n",
        "    TanhDelta,\n",
        ")\n",
        "\n",
        "from torchrl.objectives import DDPGLoss, SoftUpdate, ValueEstimators\n",
        "\n",
        "from torchrl.record import CSVLogger, PixelRenderTransform, VideoRecorder\n",
        "\n",
        "from tqdm import tqdm\n",
        "\n",
        "try:\n",
        "    is_sphinx = __sphinx_build__\n",
        "except NameError:\n",
        "    is_sphinx = False"
      ]
    },
    {
      "cell_type": "code",
      "source": [
        "import copy\n",
        "import tempfile\n",
        "\n",
        "import torch\n",
        "\n",
        "from matplotlib import pyplot as plt\n",
        "from tensordict import TensorDictBase, is_tensor_collection\n",
        "\n",
        "from tensordict.nn import TensorDictModule, TensorDictSequential\n",
        "from torch import multiprocessing\n",
        "\n",
        "from torchrl.collectors import SyncDataCollector\n",
        "from torchrl.data import LazyMemmapStorage, RandomSampler, ReplayBuffer\n",
        "\n",
        "from torchrl.envs import (\n",
        "    check_env_specs,\n",
        "    ExplorationType,\n",
        "    PettingZooEnv,\n",
        "    RewardSum,\n",
        "    set_exploration_type,\n",
        "    TransformedEnv,\n",
        "    VmasEnv,\n",
        ")\n",
        "\n",
        "from torchrl.modules import (\n",
        "    AdditiveGaussianModule,\n",
        "    MultiAgentMLP,\n",
        "    ProbabilisticActor,\n",
        "    TanhDelta,\n",
        ")\n",
        "\n",
        "from torchrl.objectives import DDPGLoss, SoftUpdate, ValueEstimators\n",
        "\n",
        "from torchrl.record import CSVLogger, PixelRenderTransform, VideoRecorder\n",
        "\n",
        "from tqdm import tqdm\n",
        "\n",
        "try:\n",
        "    is_sphinx = __sphinx_build__\n",
        "except NameError:\n",
        "    is_sphinx = False\n",
        "\n",
        "\n",
        "try:\n",
        "    from torch.compiler import is_compiling\n",
        "except ImportError:\n",
        "    from torch._dynamo import is_compiling"
      ],
      "metadata": {
        "id": "Se009O-PKMC_"
      },
      "execution_count": null,
      "outputs": []
    },
    {
      "cell_type": "code",
      "execution_count": null,
      "metadata": {
        "id": "2eDQqQ5YV3Sw"
      },
      "outputs": [],
      "source": [
        "# Seed\n",
        "seed = 0\n",
        "torch.manual_seed(seed)\n",
        "\n",
        "# Devices\n",
        "is_fork = multiprocessing.get_start_method() == \"fork\"\n",
        "device = (\n",
        "    torch.device(0)\n",
        "    if torch.cuda.is_available() and not is_fork\n",
        "    else torch.device(\"cpu\")\n",
        ")\n",
        "\n",
        "# Sampling\n",
        "frames_per_batch = 1_000  # Number of team frames collected per sampling iteration\n",
        "n_iters = 200  # Number of sampling and training iterations\n",
        "total_frames = frames_per_batch * n_iters\n",
        "\n",
        "\n",
        "# Replay buffer\n",
        "memory_size = 1_000_000  # The replay buffer of each group can store this many frames\n",
        "\n",
        "# Training\n",
        "n_optimiser_steps = 100  # Number of optimization steps per training iteration\n",
        "train_batch_size = 128  # Number of frames trained in each optimiser step\n",
        "lr = 3e-4  # Learning rate\n",
        "max_grad_norm = 1.0  # Maximum norm for the gradients\n",
        "\n",
        "# DDPG\n",
        "gamma = 0.99  # Discount factor\n",
        "polyak_tau = 0.005  # Tau for the soft-update of the target network"
      ]
    },
    {
      "cell_type": "code",
      "execution_count": null,
      "metadata": {
        "id": "3dx0KswwV97f"
      },
      "outputs": [],
      "source": [
        "max_steps = 100  # Environment steps before done\n",
        "\n",
        "n_agents = 2\n",
        "n_landmarks = 1\n",
        "\n",
        "use_vmas = True  # Set this to True for a great performance speedup\n",
        "\n",
        "if not use_vmas:\n",
        "  base_env = PettingZooEnv(\n",
        "      task=\"simple_spread_v3\",\n",
        "      parallel=True,\n",
        "      seed=seed,\n",
        "      continuous_actions=True,\n",
        "      N = n_landmarks\n",
        "  )\n",
        "else:\n",
        "    num_vmas_envs = (\n",
        "        frames_per_batch // max_steps\n",
        "    )\n",
        "    base_env = VmasEnv(\n",
        "        scenario=\"simple_spread\",\n",
        "        num_envs=num_vmas_envs,\n",
        "        continuous_actions=True,\n",
        "        max_steps=max_steps,\n",
        "        local_ratio=0.5,\n",
        "        device=device,\n",
        "        seed=seed,\n",
        "        n_agents = n_agents\n",
        "    )"
      ]
    },
    {
      "cell_type": "code",
      "execution_count": null,
      "metadata": {
        "colab": {
          "base_uri": "https://localhost:8080/"
        },
        "id": "X9qc-A5yWGZJ",
        "outputId": "117c292a-b131-4a7c-eab9-4b5c523cbc80"
      },
      "outputs": [
        {
          "output_type": "stream",
          "name": "stdout",
          "text": [
            "group_map: {'agents': ['agent_0', 'agent_1']}\n"
          ]
        }
      ],
      "source": [
        "print(f\"group_map: {base_env.group_map}\")"
      ]
    },
    {
      "cell_type": "code",
      "execution_count": null,
      "metadata": {
        "colab": {
          "base_uri": "https://localhost:8080/"
        },
        "id": "tYBvfAjqWH3j",
        "outputId": "769f4859-583d-4def-efd9-69d7ce4df8d7"
      },
      "outputs": [
        {
          "output_type": "stream",
          "name": "stdout",
          "text": [
            "action_spec: Composite(\n",
            "    agents: Composite(\n",
            "        action: BoundedContinuous(\n",
            "            shape=torch.Size([10, 2, 2]),\n",
            "            space=ContinuousBox(\n",
            "                low=Tensor(shape=torch.Size([10, 2, 2]), device=cuda:0, dtype=torch.float32, contiguous=True),\n",
            "                high=Tensor(shape=torch.Size([10, 2, 2]), device=cuda:0, dtype=torch.float32, contiguous=True)),\n",
            "            device=cuda:0,\n",
            "            dtype=torch.float32,\n",
            "            domain=continuous),\n",
            "        device=cuda:0,\n",
            "        shape=torch.Size([10, 2])),\n",
            "    device=cuda:0,\n",
            "    shape=torch.Size([10]))\n",
            "reward_spec: Composite(\n",
            "    agents: Composite(\n",
            "        reward: UnboundedContinuous(\n",
            "            shape=torch.Size([10, 2, 1]),\n",
            "            space=ContinuousBox(\n",
            "                low=Tensor(shape=torch.Size([10, 2, 1]), device=cuda:0, dtype=torch.float32, contiguous=True),\n",
            "                high=Tensor(shape=torch.Size([10, 2, 1]), device=cuda:0, dtype=torch.float32, contiguous=True)),\n",
            "            device=cuda:0,\n",
            "            dtype=torch.float32,\n",
            "            domain=continuous),\n",
            "        device=cuda:0,\n",
            "        shape=torch.Size([10, 2])),\n",
            "    device=cuda:0,\n",
            "    shape=torch.Size([10]))\n",
            "done_spec: Composite(\n",
            "    done: Categorical(\n",
            "        shape=torch.Size([10, 1]),\n",
            "        space=CategoricalBox(n=2),\n",
            "        device=cuda:0,\n",
            "        dtype=torch.bool,\n",
            "        domain=discrete),\n",
            "    terminated: Categorical(\n",
            "        shape=torch.Size([10, 1]),\n",
            "        space=CategoricalBox(n=2),\n",
            "        device=cuda:0,\n",
            "        dtype=torch.bool,\n",
            "        domain=discrete),\n",
            "    device=cuda:0,\n",
            "    shape=torch.Size([10]))\n",
            "observation_spec: Composite(\n",
            "    agents: Composite(\n",
            "        observation: UnboundedContinuous(\n",
            "            shape=torch.Size([10, 2, 10]),\n",
            "            space=ContinuousBox(\n",
            "                low=Tensor(shape=torch.Size([10, 2, 10]), device=cuda:0, dtype=torch.float32, contiguous=True),\n",
            "                high=Tensor(shape=torch.Size([10, 2, 10]), device=cuda:0, dtype=torch.float32, contiguous=True)),\n",
            "            device=cuda:0,\n",
            "            dtype=torch.float32,\n",
            "            domain=continuous),\n",
            "        device=cuda:0,\n",
            "        shape=torch.Size([10, 2])),\n",
            "    device=cuda:0,\n",
            "    shape=torch.Size([10]))\n"
          ]
        }
      ],
      "source": [
        "print(\"action_spec:\", base_env.full_action_spec)\n",
        "print(\"reward_spec:\", base_env.full_reward_spec)\n",
        "print(\"done_spec:\", base_env.full_done_spec)\n",
        "print(\"observation_spec:\", base_env.observation_spec)"
      ]
    },
    {
      "cell_type": "code",
      "execution_count": null,
      "metadata": {
        "colab": {
          "base_uri": "https://localhost:8080/"
        },
        "id": "yGyVd6LTWJgu",
        "outputId": "a167a97f-9db5-4f9f-d7a7-1b90dd827eed"
      },
      "outputs": [
        {
          "output_type": "stream",
          "name": "stdout",
          "text": [
            "action_keys: [('agents', 'action')]\n",
            "reward_keys: [('agents', 'reward')]\n",
            "done_keys: ['done', 'terminated']\n"
          ]
        }
      ],
      "source": [
        "print(\"action_keys:\", base_env.action_keys)\n",
        "print(\"reward_keys:\", base_env.reward_keys)\n",
        "print(\"done_keys:\", base_env.done_keys)"
      ]
    },
    {
      "cell_type": "code",
      "execution_count": null,
      "metadata": {
        "id": "q8e7iPn_WKvo"
      },
      "outputs": [],
      "source": [
        "env = TransformedEnv(\n",
        "    base_env,\n",
        "    RewardSum(\n",
        "        in_keys=base_env.reward_keys,\n",
        "        reset_keys=[\"_reset\"] * len(base_env.group_map.keys()),\n",
        "    ),\n",
        ")"
      ]
    },
    {
      "cell_type": "code",
      "execution_count": null,
      "metadata": {
        "colab": {
          "base_uri": "https://localhost:8080/"
        },
        "id": "B3VPMV-UWLqf",
        "outputId": "dd43a598-f1c7-472c-96f8-bcf09d459560"
      },
      "outputs": [
        {
          "output_type": "stream",
          "name": "stderr",
          "text": [
            "2025-03-25 05:46:01,794 [torchrl][INFO] check_env_specs succeeded!\n"
          ]
        }
      ],
      "source": [
        "check_env_specs(env)"
      ]
    },
    {
      "cell_type": "code",
      "execution_count": null,
      "metadata": {
        "colab": {
          "base_uri": "https://localhost:8080/"
        },
        "id": "1BKZ9yjkWNlJ",
        "outputId": "2a1a1a13-7cab-45c6-bca4-31aa9e5e643d"
      },
      "outputs": [
        {
          "output_type": "stream",
          "name": "stdout",
          "text": [
            "rollout of 5 steps: TensorDict(\n",
            "    fields={\n",
            "        agents: TensorDict(\n",
            "            fields={\n",
            "                action: Tensor(shape=torch.Size([10, 5, 2, 2]), device=cuda:0, dtype=torch.float32, is_shared=True),\n",
            "                episode_reward: Tensor(shape=torch.Size([10, 5, 2, 1]), device=cuda:0, dtype=torch.float32, is_shared=True),\n",
            "                observation: Tensor(shape=torch.Size([10, 5, 2, 10]), device=cuda:0, dtype=torch.float32, is_shared=True)},\n",
            "            batch_size=torch.Size([10, 5, 2]),\n",
            "            device=cuda:0,\n",
            "            is_shared=True),\n",
            "        done: Tensor(shape=torch.Size([10, 5, 1]), device=cuda:0, dtype=torch.bool, is_shared=True),\n",
            "        next: TensorDict(\n",
            "            fields={\n",
            "                agents: TensorDict(\n",
            "                    fields={\n",
            "                        episode_reward: Tensor(shape=torch.Size([10, 5, 2, 1]), device=cuda:0, dtype=torch.float32, is_shared=True),\n",
            "                        observation: Tensor(shape=torch.Size([10, 5, 2, 10]), device=cuda:0, dtype=torch.float32, is_shared=True),\n",
            "                        reward: Tensor(shape=torch.Size([10, 5, 2, 1]), device=cuda:0, dtype=torch.float32, is_shared=True)},\n",
            "                    batch_size=torch.Size([10, 5, 2]),\n",
            "                    device=cuda:0,\n",
            "                    is_shared=True),\n",
            "                done: Tensor(shape=torch.Size([10, 5, 1]), device=cuda:0, dtype=torch.bool, is_shared=True),\n",
            "                terminated: Tensor(shape=torch.Size([10, 5, 1]), device=cuda:0, dtype=torch.bool, is_shared=True)},\n",
            "            batch_size=torch.Size([10, 5]),\n",
            "            device=cuda:0,\n",
            "            is_shared=True),\n",
            "        terminated: Tensor(shape=torch.Size([10, 5, 1]), device=cuda:0, dtype=torch.bool, is_shared=True)},\n",
            "    batch_size=torch.Size([10, 5]),\n",
            "    device=cuda:0,\n",
            "    is_shared=True)\n",
            "Shape of the rollout TensorDict: torch.Size([10, 5])\n"
          ]
        }
      ],
      "source": [
        "n_rollout_steps = 5\n",
        "rollout = env.rollout(n_rollout_steps)\n",
        "print(f\"rollout of {n_rollout_steps} steps:\", rollout)\n",
        "print(\"Shape of the rollout TensorDict:\", rollout.batch_size)"
      ]
    },
    {
      "cell_type": "code",
      "execution_count": null,
      "metadata": {
        "id": "8bmzos-xWPzE"
      },
      "outputs": [],
      "source": [
        "policy_modules = {}\n",
        "for group, agents in env.group_map.items():\n",
        "    share_parameters_policy = False  # Can change this based on the group\n",
        "\n",
        "    policy_net = MultiAgentMLP(\n",
        "        n_agent_inputs=env.observation_spec[group, \"observation\"].shape[\n",
        "            -1\n",
        "        ],  # n_obs_per_agent\n",
        "        n_agent_outputs=env.full_action_spec[group, \"action\"].shape[\n",
        "            -1\n",
        "        ],  # n_actions_per_agents\n",
        "        n_agents=len(agents),  # Number of agents in the group\n",
        "        centralised=False,  # the policies are decentralised (i.e., each agent will act from its local observation)\n",
        "        share_params=share_parameters_policy,\n",
        "        device=device,\n",
        "        depth=2,\n",
        "        num_cells=256,\n",
        "        activation_class=torch.nn.Tanh,\n",
        "    )\n",
        "\n",
        "    # Wrap the neural network in a :class:`~tensordict.nn.TensorDictModule`.\n",
        "    # This is simply a module that will read the ``in_keys`` from a tensordict, feed them to the\n",
        "    # neural networks, and write the\n",
        "    # outputs in-place at the ``out_keys``.\n",
        "\n",
        "    policy_module = TensorDictModule(\n",
        "        policy_net,\n",
        "        in_keys=[(group, \"observation\")],\n",
        "        out_keys=[(group, \"param\")],\n",
        "    )  # We just name the input and output that the network will read and write to the input tensordict\n",
        "    policy_modules[group] = policy_module"
      ]
    },
    {
      "cell_type": "code",
      "execution_count": null,
      "metadata": {
        "id": "vbHpMLXRWROv"
      },
      "outputs": [],
      "source": [
        "policies = {}\n",
        "for group, _agents in env.group_map.items():\n",
        "    policy = ProbabilisticActor(\n",
        "        module=policy_modules[group],\n",
        "        spec=env.full_action_spec[group, \"action\"],\n",
        "        in_keys=[(group, \"param\")],\n",
        "        out_keys=[(group, \"action\")],\n",
        "        distribution_class=TanhDelta,\n",
        "        distribution_kwargs={\n",
        "            \"low\": env.full_action_spec[group, \"action\"].space.low,\n",
        "            \"high\": env.full_action_spec[group, \"action\"].space.high,\n",
        "        },\n",
        "        return_log_prob=False,\n",
        "    )\n",
        "    policies[group] = policy"
      ]
    },
    {
      "cell_type": "code",
      "execution_count": null,
      "metadata": {
        "id": "IpDjZUtQWSeF"
      },
      "outputs": [],
      "source": [
        "exploration_policies = {}\n",
        "for group, _agents in env.group_map.items():\n",
        "    exploration_policy = TensorDictSequential(\n",
        "        policies[group],\n",
        "        AdditiveGaussianModule(\n",
        "            spec=policies[group].spec,\n",
        "            annealing_num_steps=total_frames\n",
        "            // 2,  # Number of frames after which sigma is sigma_end\n",
        "            action_key=(group, \"action\"),\n",
        "            sigma_init=0.9,  # Initial value of the sigma\n",
        "            sigma_end=0.1,  # Final value of the sigma\n",
        "        ),\n",
        "    )\n",
        "    exploration_policies[group] = exploration_policy"
      ]
    },
    {
      "cell_type": "code",
      "execution_count": null,
      "metadata": {
        "id": "LqVFCeRNWSfY"
      },
      "outputs": [],
      "source": [
        "critics = {}\n",
        "for group, agents in env.group_map.items():\n",
        "    share_parameters_critic = True  # Can change for each group\n",
        "    MADDPG = True  # IDDPG if False, can change for each group\n",
        "\n",
        "    # This module applies the lambda function: reading the action and observation entries for the group\n",
        "    # and concatenating them in a new ``(group, \"obs_action\")`` entry\n",
        "    cat_module = TensorDictModule(\n",
        "        lambda obs, action: torch.cat([obs, action], dim=-1),\n",
        "        in_keys=[(group, \"observation\"), (group, \"action\")],\n",
        "        out_keys=[(group, \"obs_action\")],\n",
        "    )\n",
        "\n",
        "    critic_module = TensorDictModule(\n",
        "        module=MultiAgentMLP(\n",
        "            n_agent_inputs=env.observation_spec[group, \"observation\"].shape[-1]\n",
        "            + env.full_action_spec[group, \"action\"].shape[-1],\n",
        "            n_agent_outputs=1,  # 1 value per agent\n",
        "            n_agents=len(agents),\n",
        "            centralised=MADDPG,\n",
        "            share_params=share_parameters_critic,\n",
        "            device=device,\n",
        "            depth=2,\n",
        "            num_cells=256,\n",
        "            activation_class=torch.nn.Tanh,\n",
        "        ),\n",
        "        in_keys=[(group, \"obs_action\")],  # Read ``(group, \"obs_action\")``\n",
        "        out_keys=[\n",
        "            (group, \"state_action_value\")\n",
        "        ],  # Write ``(group, \"state_action_value\")``\n",
        "    )\n",
        "\n",
        "    critics[group] = TensorDictSequential(\n",
        "        cat_module, critic_module\n",
        "    )  # Run them in sequence"
      ]
    },
    {
      "cell_type": "code",
      "execution_count": null,
      "metadata": {
        "colab": {
          "base_uri": "https://localhost:8080/"
        },
        "id": "5W7Qq-fBWZRq",
        "outputId": "cd53a91d-9ec4-49b2-e7ad-afc9313ab1f5"
      },
      "outputs": [
        {
          "output_type": "stream",
          "name": "stdout",
          "text": [
            "Running value and policy for group 'agents': TensorDict(\n",
            "    fields={\n",
            "        agents: TensorDict(\n",
            "            fields={\n",
            "                action: Tensor(shape=torch.Size([10, 2, 2]), device=cuda:0, dtype=torch.float32, is_shared=True),\n",
            "                episode_reward: Tensor(shape=torch.Size([10, 2, 1]), device=cuda:0, dtype=torch.float32, is_shared=True),\n",
            "                obs_action: Tensor(shape=torch.Size([10, 2, 12]), device=cuda:0, dtype=torch.float32, is_shared=True),\n",
            "                observation: Tensor(shape=torch.Size([10, 2, 10]), device=cuda:0, dtype=torch.float32, is_shared=True),\n",
            "                param: Tensor(shape=torch.Size([10, 2, 2]), device=cuda:0, dtype=torch.float32, is_shared=True),\n",
            "                state_action_value: Tensor(shape=torch.Size([10, 2, 1]), device=cuda:0, dtype=torch.float32, is_shared=True)},\n",
            "            batch_size=torch.Size([10, 2]),\n",
            "            device=cuda:0,\n",
            "            is_shared=True),\n",
            "        done: Tensor(shape=torch.Size([10, 1]), device=cuda:0, dtype=torch.bool, is_shared=True),\n",
            "        terminated: Tensor(shape=torch.Size([10, 1]), device=cuda:0, dtype=torch.bool, is_shared=True)},\n",
            "    batch_size=torch.Size([10]),\n",
            "    device=cuda:0,\n",
            "    is_shared=True)\n"
          ]
        }
      ],
      "source": [
        "reset_td = env.reset()\n",
        "for group, _agents in env.group_map.items():\n",
        "    print(\n",
        "        f\"Running value and policy for group '{group}':\",\n",
        "        critics[group](policies[group](reset_td)),\n",
        "    )"
      ]
    },
    {
      "cell_type": "code",
      "execution_count": null,
      "metadata": {
        "id": "67asRrVjWa5O"
      },
      "outputs": [],
      "source": [
        "# Put exploration policies from each group in a sequence\n",
        "agents_exploration_policy = TensorDictSequential(*exploration_policies.values())\n",
        "\n",
        "collector = SyncDataCollector(\n",
        "    env,\n",
        "    agents_exploration_policy,\n",
        "    device=device,\n",
        "    frames_per_batch=frames_per_batch,\n",
        "    total_frames=total_frames,\n",
        ")"
      ]
    },
    {
      "cell_type": "code",
      "execution_count": null,
      "metadata": {
        "id": "NghMzg_3Wcky"
      },
      "outputs": [],
      "source": [
        "#Standard in off policy algos for efficient data collections\n",
        "replay_buffers = {}\n",
        "for group, _agents in env.group_map.items():\n",
        "    replay_buffer = ReplayBuffer(\n",
        "        storage=LazyMemmapStorage(memory_size, device=\"cpu\"),\n",
        "        sampler=RandomSampler(),\n",
        "        batch_size=train_batch_size,\n",
        "    )\n",
        "    replay_buffer.append_transform(lambda batch: batch.to(\"cuda:0\"))\n",
        "    replay_buffers[group] = replay_buffer"
      ]
    },
    {
      "cell_type": "code",
      "source": [
        "# Define parameters for each agent in the cooperative group\n",
        "agent_params = {\n",
        "    \"agent_0\": {\n",
        "        \"alpha\": 0.7,\n",
        "        \"lam\": 0.8,\n",
        "        \"w_plus_prime_const\": 0.8,\n",
        "        \"w_minus_prime_const\": 0.2,\n",
        "    },\n",
        "    \"agent_1\": {\n",
        "        \"alpha\": 0.65,\n",
        "        \"lam\": 2.8,\n",
        "        \"w_plus_prime_const\": 0.25,\n",
        "        \"w_minus_prime_const\": 0.75,\n",
        "    },\n",
        "}\n"
      ],
      "metadata": {
        "id": "VyQcpsv2HGt8"
      },
      "execution_count": null,
      "outputs": []
    },
    {
      "cell_type": "code",
      "source": [
        "import torch\n",
        "import torch.nn as nn\n",
        "\n",
        "class AdaptiveBehavioralParameters(nn.Module):\n",
        "    def __init__(self, init_alpha, init_lam, init_w_plus_gamma, init_w_minus_gamma):\n",
        "        super().__init__()\n",
        "        self.alpha = nn.Parameter(torch.tensor(init_alpha, dtype=torch.float32))\n",
        "        self.lam = nn.Parameter(torch.tensor(init_lam, dtype=torch.float32))\n",
        "        # Instead of fixed w constants, now learn the gamma parameters for weighting functions:\n",
        "        self.w_plus_prime_gamma = nn.Parameter(torch.tensor(init_w_plus_gamma, dtype=torch.float32))\n",
        "        self.w_minus_prime_gamma = nn.Parameter(torch.tensor(init_w_minus_gamma, dtype=torch.float32))\n",
        "\n",
        "    def get_params(self):\n",
        "        return {\n",
        "            \"alpha\": self.alpha,\n",
        "            \"lam\": self.lam,\n",
        "            \"w_plus_prime_gamma\": self.w_plus_prime_gamma,\n",
        "            \"w_minus_prime_gamma\": self.w_minus_prime_gamma\n",
        "        }\n"
      ],
      "metadata": {
        "id": "GJHNzE-HMss_"
      },
      "execution_count": null,
      "outputs": []
    },
    {
      "cell_type": "code",
      "source": [
        "adaptive_params = nn.ModuleDict({\n",
        "    \"agent_0\": AdaptiveBehavioralParameters(init_alpha=1.2, init_lam=1.5, init_w_plus_gamma=0.5, init_w_minus_gamma=0.69),\n",
        "    \"agent_1\": AdaptiveBehavioralParameters(init_alpha=1.2, init_lam=1.2, init_w_plus_gamma=0.5, init_w_minus_gamma=0.69),\n",
        "})"
      ],
      "metadata": {
        "id": "ZZLUJo-OMvmZ"
      },
      "execution_count": null,
      "outputs": []
    },
    {
      "cell_type": "code",
      "source": [
        "w_plus_prime_const = 0.2\n",
        "w_minus_prime_const = 0.8\n",
        "\n",
        "def w_plus_prime_dynamic(p, params, epsilon=1e-6):\n",
        "    \"\"\"\n",
        "    Compute a dynamic weighting for gains.\n",
        "    p: a tensor of probabilities (values between 0 and 1)\n",
        "    params: dictionary containing a learnable parameter 'w_plus_prime_gamma'\n",
        "    \"\"\"\n",
        "    # Clamp p to avoid log(0)\n",
        "    p = torch.clamp(p, min=epsilon, max=1.0)\n",
        "    gamma = params.get(\"w_plus_prime_gamma\", torch.tensor(0.61, dtype=p.dtype, device=p.device))\n",
        "    # Prelec weighting derivative (an example formulation):\n",
        "    return torch.exp(-(-torch.log(p)) ** gamma)\n",
        "\n",
        "def w_minus_prime_dynamic(p, params, epsilon=1e-6):\n",
        "    \"\"\"\n",
        "    Compute a dynamic weighting for losses.\n",
        "    p: a tensor of probabilities (values between 0 and 1)\n",
        "    params: dictionary containing a learnable parameter 'w_minus_prime_gamma'\n",
        "    \"\"\"\n",
        "    p = torch.clamp(p, min=epsilon, max=1.0)\n",
        "    gamma = params.get(\"w_minus_prime_gamma\", torch.tensor(0.69, dtype=p.dtype, device=p.device))\n",
        "    return torch.exp(-(-torch.log(p)) ** gamma)\n",
        "\n",
        "def compute_phi_linear(R):\n",
        "    \"\"\"\n",
        "    Compute linearized CPT sensitivity:\n",
        "    φ(R) ≈ w'_+(p*) * u^+(R) for R>=0, and -w'_-(p*) * u^-(R) for R<0.\n",
        "    \"\"\"\n",
        "    R = R.view(-1)\n",
        "    v = torch.where(R >= 0, u_plus(R), -u_minus(R))\n",
        "    phi = torch.where(R >= 0, w_plus_prime_const * v, -w_minus_prime_const * v)\n",
        "    return phi.mean()\n",
        "\n",
        "def compute_phi_linear_dynamic(R, adaptive_params, epsilon=1e-6):\n",
        "    \"\"\"\n",
        "    Compute linearized CPT sensitivity using dynamic weighting:\n",
        "      φ(R) ≈ w'_+(p*) * u^+(R)  for R >= 0,\n",
        "           ≈ -w'_-(p*) * u^-(R) for R < 0.\n",
        "    Here p* is obtained by normalizing R into (0,1) (using a sigmoid, for example).\n",
        "    adaptive_params is a ModuleDict where each module’s get_params() returns a dict that\n",
        "    includes learnable parameters for the weighting functions (e.g., w_plus_prime_gamma).\n",
        "    \"\"\"\n",
        "    R = R.view(-1)\n",
        "    # For example, normalize R to (0,1) via a sigmoid.\n",
        "    p_star = torch.sigmoid(R)\n",
        "\n",
        "    # Compute the basic utility:\n",
        "    # (Assuming you have functions u_plus(R) and u_minus(R) already defined.)\n",
        "    # If not, you can use your existing stable versions:\n",
        "    v = torch.where(R >= 0, u_plus(R), -u_minus(R))\n",
        "\n",
        "    phi_values = []\n",
        "    for agent_id, param_module in adaptive_params.items():\n",
        "        params = param_module.get_params()\n",
        "        # For gains, use dynamic weighting from our new function:\n",
        "        weight_gain = w_plus_prime_dynamic(p_star, params, epsilon)\n",
        "        # For losses:\n",
        "        weight_loss = w_minus_prime_dynamic(p_star, params, epsilon)\n",
        "        phi = torch.where(R >= 0, weight_gain * v, -weight_loss * v)\n",
        "        phi_values.append(phi)\n",
        "    phi_stack = torch.stack(phi_values)\n",
        "    return phi_stack.mean(dim=0)\n",
        "\n",
        "\n",
        "def stable_u_plus_agent(x, params, epsilon=1e-6, min_val=1e-3):\n",
        "    # Ensure that x + epsilon is not too small; then compute in log space.\n",
        "    y = torch.clamp(x + epsilon, min=min_val)\n",
        "    return torch.exp(params[\"alpha\"] * torch.log(y))\n",
        "\n",
        "def u_minus_agent(x, params, epsilon=1e-6, min_val=1e-3):\n",
        "    # For the negative branch, ensure -x + epsilon is not too small.\n",
        "    y = torch.clamp(-x + epsilon, min=min_val)\n",
        "    return params[\"lam\"] * torch.pow(y, params[\"alpha\"])\n",
        "\n",
        "def compute_phi_cross_dynamic(R, adaptive_params, epsilon=1e-6, min_val=1e-3):\n",
        "    \"\"\"\n",
        "    Compute the cross-agent CPT sensitivity factor dynamically.\n",
        "    For each reward in R, first normalize it to (0,1) via a sigmoid (p_star).\n",
        "    Then compute the utility using u_plus for gains and u_minus_agent for losses.\n",
        "    Finally, apply dynamic weighting using the learnable weighting functions and average across agents.\n",
        "\n",
        "    Args:\n",
        "        R (Tensor): A tensor of rewards.\n",
        "        adaptive_params (ModuleDict): A dictionary (ModuleDict) of adaptive parameter modules.\n",
        "        epsilon (float): A small constant to prevent log(0).\n",
        "        min_val (float): A minimum value to clamp inputs.\n",
        "\n",
        "    Returns:\n",
        "        Tensor: The averaged sensitivity factor φ.\n",
        "    \"\"\"\n",
        "    R = R.view(-1)\n",
        "    # Normalize rewards to [0,1] for the weighting function:\n",
        "    p_star = torch.sigmoid(R)\n",
        "\n",
        "    phi_values = []\n",
        "    for agent_id, param_module in adaptive_params.items():\n",
        "        params = param_module.get_params()\n",
        "        # For gains: clamp R+epsilon, then compute stable u_plus:\n",
        "        y = torch.clamp(R + epsilon, min=min_val)\n",
        "        u_plus_val = torch.exp(params[\"alpha\"] * torch.log(y))\n",
        "        # For losses, use u_minus_agent (as defined elsewhere)\n",
        "        v = torch.where(R >= 0, u_plus_val, -u_minus_agent(R, params, epsilon, min_val))\n",
        "        # Now compute dynamic weights from p_star using our new functions:\n",
        "        weight_gain = w_plus_prime_dynamic(p_star, params, epsilon)\n",
        "        weight_loss = w_minus_prime_dynamic(p_star, params, epsilon)\n",
        "        phi = torch.where(R >= 0, weight_gain * v, -weight_loss * v)\n",
        "        phi_values.append(phi)\n",
        "\n",
        "    phi_stack = torch.stack(phi_values)\n",
        "    return phi_stack.mean(dim=0)\n",
        "\n",
        "def C_transform_cross_dynamic(x, adaptive_params, epsilon=1e-6, min_val=1e-3):\n",
        "    \"\"\"\n",
        "    Compute the CPT-transformed target value by averaging each agent’s transformation,\n",
        "    using dynamic weighting rather than fixed constants.\n",
        "    \"\"\"\n",
        "    transformed_vals = []\n",
        "    # Optionally, define a normalization for x to obtain a probability. For instance:\n",
        "    p_star = torch.sigmoid(x)\n",
        "    for agent_id, param_module in adaptive_params.items():\n",
        "        params = param_module.get_params()\n",
        "        y = torch.clamp(x + epsilon, min=min_val)\n",
        "        # Compute u_plus for gains:\n",
        "        u_plus_val = torch.exp(params[\"alpha\"] * torch.log(y))\n",
        "        # For losses, use u_minus_agent as before:\n",
        "        transformed = torch.where(\n",
        "            x >= 0,\n",
        "            w_plus_prime_dynamic(p_star, params, epsilon) * u_plus_val,\n",
        "            -w_minus_prime_dynamic(p_star, params, epsilon) * u_minus_agent(x, params, epsilon, min_val)\n",
        "        )\n",
        "        # Clamp the final output for safety:\n",
        "        transformed = torch.clamp(transformed, min=-1e6, max=1e6)\n",
        "        transformed_vals.append(transformed)\n",
        "    return torch.stack(transformed_vals).mean(dim=0)\n",
        "\n",
        "\n",
        "def C_transform(x):\n",
        "    \"\"\"\n",
        "    Simple CPT transformation on one-step return:\n",
        "    C(x) ≈ w'_+(p*) * u^+(x) if x >= 0, else -w'_-(p*) * u^-(x).\n",
        "    \"\"\"\n",
        "    return torch.where(x >= 0, w_plus_prime_const * u_plus(x), -w_minus_prime_const * u_minus(x))"
      ],
      "metadata": {
        "id": "h9DCI7ydFUq_"
      },
      "execution_count": null,
      "outputs": []
    },
    {
      "cell_type": "code",
      "source": [
        "from __future__ import annotations\n",
        "\n",
        "from copy import deepcopy\n",
        "from dataclasses import dataclass\n",
        "from typing import Tuple\n",
        "\n",
        "import torch\n",
        "from tensordict import TensorDict, TensorDictBase, TensorDictParams\n",
        "from tensordict.nn import dispatch, TensorDictModule\n",
        "\n",
        "from tensordict.utils import NestedKey, unravel_key\n",
        "from torchrl.modules.tensordict_module.actors import ActorCriticWrapper\n",
        "from torchrl.objectives.common import LossModule\n",
        "from torchrl.objectives.utils import (\n",
        "    _cache_values,\n",
        "    _GAMMA_LMBDA_DEPREC_ERROR,\n",
        "    _reduce,\n",
        "    default_value_kwargs,\n",
        "    distance_loss,\n",
        "    ValueEstimators,\n",
        ")\n",
        "from torchrl.objectives.value import TD0Estimator, TD1Estimator, TDLambdaEstimator\n",
        "\n",
        "\n",
        "class CPTDDPGLoss(LossModule):\n",
        "    \"\"\"The DDPG Loss class.\n",
        "\n",
        "    Args:\n",
        "        actor_network (TensorDictModule): a policy operator.\n",
        "        value_network (TensorDictModule): a Q value operator.\n",
        "        loss_function (str): loss function for the value discrepancy. Can be one of \"l1\", \"l2\" or \"smooth_l1\".\n",
        "        delay_actor (bool, optional): whether to separate the target actor networks from the actor networks used for\n",
        "            data collection. Default is ``False``.\n",
        "        delay_value (bool, optional): whether to separate the target value networks from the value networks used for\n",
        "            data collection. Default is ``True``.\n",
        "        separate_losses (bool, optional): if ``True``, shared parameters between\n",
        "            policy and critic will only be trained on the policy loss.\n",
        "            Defaults to ``False``, i.e., gradients are propagated to shared\n",
        "            parameters for both policy and critic losses.\n",
        "        reduction (str, optional): Specifies the reduction to apply to the output:\n",
        "            ``\"none\"`` | ``\"mean\"`` | ``\"sum\"``. ``\"none\"``: no reduction will be applied,\n",
        "            ``\"mean\"``: the sum of the output will be divided by the number of\n",
        "            elements in the output, ``\"sum\"``: the output will be summed. Default: ``\"mean\"``.\n",
        "\n",
        "    Examples:\n",
        "        >>> import torch\n",
        "        >>> from torch import nn\n",
        "        >>> from torchrl.data import Bounded\n",
        "        >>> from torchrl.modules.tensordict_module.actors import Actor, ValueOperator\n",
        "        >>> from torchrl.objectives.ddpg import DDPGLoss\n",
        "        >>> from tensordict import TensorDict\n",
        "        >>> n_act, n_obs = 4, 3\n",
        "        >>> spec = Bounded(-torch.ones(n_act), torch.ones(n_act), (n_act,))\n",
        "        >>> actor = Actor(spec=spec, module=nn.Linear(n_obs, n_act))\n",
        "        >>> class ValueClass(nn.Module):\n",
        "        ...     def __init__(self):\n",
        "        ...         super().__init__()\n",
        "        ...         self.linear = nn.Linear(n_obs + n_act, 1)\n",
        "        ...     def forward(self, obs, act):\n",
        "        ...         return self.linear(torch.cat([obs, act], -1))\n",
        "        >>> module = ValueClass()\n",
        "        >>> value = ValueOperator(\n",
        "        ...     module=module,\n",
        "        ...     in_keys=[\"observation\", \"action\"])\n",
        "        >>> loss = DDPGLoss(actor, value)\n",
        "        >>> batch = [2, ]\n",
        "        >>> data = TensorDict({\n",
        "        ...        \"observation\": torch.randn(*batch, n_obs),\n",
        "        ...        \"action\": spec.rand(batch),\n",
        "        ...        (\"next\", \"done\"): torch.zeros(*batch, 1, dtype=torch.bool),\n",
        "        ...        (\"next\", \"terminated\"): torch.zeros(*batch, 1, dtype=torch.bool),\n",
        "        ...        (\"next\", \"reward\"): torch.randn(*batch, 1),\n",
        "        ...        (\"next\", \"observation\"): torch.randn(*batch, n_obs),\n",
        "        ...    }, batch)\n",
        "        >>> loss(data)\n",
        "        TensorDict(\n",
        "            fields={\n",
        "                loss_actor: Tensor(shape=torch.Size([]), device=cpu, dtype=torch.float32, is_shared=False),\n",
        "                loss_value: Tensor(shape=torch.Size([]), device=cpu, dtype=torch.float32, is_shared=False),\n",
        "                pred_value: Tensor(shape=torch.Size([]), device=cpu, dtype=torch.float32, is_shared=False),\n",
        "                pred_value_max: Tensor(shape=torch.Size([]), device=cpu, dtype=torch.float32, is_shared=False),\n",
        "                target_value: Tensor(shape=torch.Size([]), device=cpu, dtype=torch.float32, is_shared=False),\n",
        "                target_value_max: Tensor(shape=torch.Size([]), device=cpu, dtype=torch.float32, is_shared=False)},\n",
        "            batch_size=torch.Size([]),\n",
        "            device=None,\n",
        "            is_shared=False)\n",
        "\n",
        "    This class is compatible with non-tensordict based modules too and can be\n",
        "    used without recurring to any tensordict-related primitive. In this case,\n",
        "    the expected keyword arguments are:\n",
        "    ``[\"next_reward\", \"next_done\", \"next_terminated\"]`` + in_keys of the actor_network and value_network.\n",
        "    The return value is a tuple of tensors in the following order:\n",
        "    ``[\"loss_actor\", \"loss_value\", \"pred_value\", \"target_value\", \"pred_value_max\", \"target_value_max\"]``\n",
        "\n",
        "    Examples:\n",
        "        >>> import torch\n",
        "        >>> from torch import nn\n",
        "        >>> from torchrl.data import Bounded\n",
        "        >>> from torchrl.modules.tensordict_module.actors import Actor, ValueOperator\n",
        "        >>> from torchrl.objectives.ddpg import DDPGLoss\n",
        "        >>> _ = torch.manual_seed(42)\n",
        "        >>> n_act, n_obs = 4, 3\n",
        "        >>> spec = Bounded(-torch.ones(n_act), torch.ones(n_act), (n_act,))\n",
        "        >>> actor = Actor(spec=spec, module=nn.Linear(n_obs, n_act))\n",
        "        >>> class ValueClass(nn.Module):\n",
        "        ...     def __init__(self):\n",
        "        ...         super().__init__()\n",
        "        ...         self.linear = nn.Linear(n_obs + n_act, 1)\n",
        "        ...     def forward(self, obs, act):\n",
        "        ...         return self.linear(torch.cat([obs, act], -1))\n",
        "        >>> module = ValueClass()\n",
        "        >>> value = ValueOperator(\n",
        "        ...     module=module,\n",
        "        ...     in_keys=[\"observation\", \"action\"])\n",
        "        >>> loss = DDPGLoss(actor, value)\n",
        "        >>> loss_actor, loss_value, pred_value, target_value, pred_value_max, target_value_max = loss(\n",
        "        ...     observation=torch.randn(n_obs),\n",
        "        ...     action=spec.rand(),\n",
        "        ...     next_done=torch.zeros(1, dtype=torch.bool),\n",
        "        ...     next_terminated=torch.zeros(1, dtype=torch.bool),\n",
        "        ...     next_observation=torch.randn(n_obs),\n",
        "        ...     next_reward=torch.randn(1))\n",
        "        >>> loss_actor.backward()\n",
        "\n",
        "    The output keys can also be filtered using the :meth:`DDPGLoss.select_out_keys`\n",
        "    method.\n",
        "\n",
        "    Examples:\n",
        "        >>> loss.select_out_keys('loss_actor', 'loss_value')\n",
        "        >>> loss_actor, loss_value = loss(\n",
        "        ...     observation=torch.randn(n_obs),\n",
        "        ...     action=spec.rand(),\n",
        "        ...     next_done=torch.zeros(1, dtype=torch.bool),\n",
        "        ...     next_terminated=torch.zeros(1, dtype=torch.bool),\n",
        "        ...     next_observation=torch.randn(n_obs),\n",
        "        ...     next_reward=torch.randn(1))\n",
        "        >>> loss_actor.backward()\n",
        "\n",
        "    \"\"\"\n",
        "\n",
        "    @dataclass\n",
        "    class _AcceptedKeys:\n",
        "        \"\"\"Maintains default values for all configurable tensordict keys.\n",
        "\n",
        "        This class defines which tensordict keys can be set using '.set_keys(key_name=key_value)' and their\n",
        "        default values.\n",
        "\n",
        "        Attributes:\n",
        "            state_action_value (NestedKey): The input tensordict key where the\n",
        "                state action value is expected. Will be used for the underlying\n",
        "                value estimator as value key. Defaults to ``\"state_action_value\"``.\n",
        "            priority (NestedKey): The input tensordict key where the target\n",
        "                priority is written to. Defaults to ``\"td_error\"``.\n",
        "            reward (NestedKey): The input tensordict key where the reward is expected.\n",
        "                Will be used for the underlying value estimator. Defaults to ``\"reward\"``.\n",
        "            done (NestedKey): The key in the input TensorDict that indicates\n",
        "                whether a trajectory is done. Will be used for the underlying value estimator.\n",
        "                Defaults to ``\"done\"``.\n",
        "            terminated (NestedKey): The key in the input TensorDict that indicates\n",
        "                whether a trajectory is terminated. Will be used for the underlying value estimator.\n",
        "                Defaults to ``\"terminated\"``.\n",
        "\n",
        "        \"\"\"\n",
        "\n",
        "        state_action_value: NestedKey = \"state_action_value\"\n",
        "        priority: NestedKey = \"td_error\"\n",
        "        reward: NestedKey = \"reward\"\n",
        "        done: NestedKey = \"done\"\n",
        "        terminated: NestedKey = \"terminated\"\n",
        "\n",
        "    tensor_keys: _AcceptedKeys\n",
        "    default_keys = _AcceptedKeys\n",
        "    default_value_estimator: ValueEstimators = ValueEstimators.TD0\n",
        "    out_keys = [\n",
        "        \"loss_actor\",\n",
        "        \"loss_value\",\n",
        "        \"pred_value\",\n",
        "        \"target_value\",\n",
        "        \"pred_value_max\",\n",
        "        \"target_value_max\",\n",
        "    ]\n",
        "\n",
        "    actor_network: TensorDictModule\n",
        "    value_network: actor_network\n",
        "    actor_network_params: TensorDictParams\n",
        "    value_network_params: TensorDictParams\n",
        "    target_actor_network_params: TensorDictParams\n",
        "    target_value_network_params: TensorDictParams\n",
        "\n",
        "    def __init__(\n",
        "        self,\n",
        "        actor_network: TensorDictModule,\n",
        "        value_network: TensorDictModule,\n",
        "        *,\n",
        "        loss_function: str = \"l2\",\n",
        "        delay_actor: bool = False,\n",
        "        delay_value: bool = True,\n",
        "        gamma: float = None,\n",
        "        separate_losses: bool = False,\n",
        "        reduction: str = None,\n",
        "    ) -> None:\n",
        "        self._in_keys = None\n",
        "        if reduction is None:\n",
        "            reduction = \"mean\"\n",
        "        super().__init__()\n",
        "        self.delay_actor = delay_actor\n",
        "        self.delay_value = delay_value\n",
        "\n",
        "        actor_critic = ActorCriticWrapper(actor_network, value_network)\n",
        "        params = TensorDict.from_module(actor_critic)\n",
        "        params_meta = params.apply(\n",
        "            self._make_meta_params, device=torch.device(\"meta\"), filter_empty=False\n",
        "        )\n",
        "        with params_meta.to_module(actor_critic):\n",
        "            self.__dict__[\"actor_critic\"] = deepcopy(actor_critic)\n",
        "\n",
        "        self.convert_to_functional(\n",
        "            actor_network,\n",
        "            \"actor_network\",\n",
        "            create_target_params=self.delay_actor,\n",
        "        )\n",
        "        if separate_losses:\n",
        "            # we want to make sure there are no duplicates in the params: the\n",
        "            # params of critic must be refs to actor if they're shared\n",
        "            policy_params = list(actor_network.parameters())\n",
        "        else:\n",
        "            policy_params = None\n",
        "        self.convert_to_functional(\n",
        "            value_network,\n",
        "            \"value_network\",\n",
        "            create_target_params=self.delay_value,\n",
        "            compare_against=policy_params,\n",
        "        )\n",
        "        self.actor_critic.module[0] = self.actor_network\n",
        "        self.actor_critic.module[1] = self.value_network\n",
        "\n",
        "        self.actor_in_keys = actor_network.in_keys\n",
        "        self.value_exclusive_keys = set(self.value_network.in_keys) - (\n",
        "            set(self.actor_in_keys) | set(self.actor_network.out_keys)\n",
        "        )\n",
        "\n",
        "        self.loss_function = loss_function\n",
        "        self.reduction = reduction\n",
        "        if gamma is not None:\n",
        "            raise TypeError(_GAMMA_LMBDA_DEPREC_ERROR)\n",
        "\n",
        "    def _forward_value_estimator_keys(self, **kwargs) -> None:\n",
        "        if self._value_estimator is not None:\n",
        "            self._value_estimator.set_keys(\n",
        "                value=self._tensor_keys.state_action_value,\n",
        "                reward=self._tensor_keys.reward,\n",
        "                done=self._tensor_keys.done,\n",
        "                terminated=self._tensor_keys.terminated,\n",
        "            )\n",
        "        self._set_in_keys()\n",
        "\n",
        "    def _set_in_keys(self):\n",
        "        in_keys = {\n",
        "            unravel_key((\"next\", self.tensor_keys.reward)),\n",
        "            unravel_key((\"next\", self.tensor_keys.done)),\n",
        "            unravel_key((\"next\", self.tensor_keys.terminated)),\n",
        "            *self.actor_in_keys,\n",
        "            *[unravel_key((\"next\", key)) for key in self.actor_in_keys],\n",
        "            *self.value_network.in_keys,\n",
        "            *[unravel_key((\"next\", key)) for key in self.value_network.in_keys],\n",
        "        }\n",
        "        self._in_keys = sorted(in_keys, key=str)\n",
        "\n",
        "    @property\n",
        "    def in_keys(self):\n",
        "        if self._in_keys is None:\n",
        "            self._set_in_keys()\n",
        "        return self._in_keys\n",
        "\n",
        "    @in_keys.setter\n",
        "    def in_keys(self, values):\n",
        "        self._in_keys = values\n",
        "\n",
        "\n",
        "    def _clear_weakrefs(self, *tds):\n",
        "        if is_compiling():\n",
        "            # Waiting for weakrefs reconstruct to be supported by compile\n",
        "            for td in tds:\n",
        "                if isinstance(td, str):\n",
        "                    td = getattr(self, td, None)\n",
        "                if not is_tensor_collection(td):\n",
        "                    continue\n",
        "                td.clear_refs_for_compile_()\n",
        "\n",
        "    @dispatch\n",
        "    def forward(self, tensordict: TensorDictBase) -> TensorDict:\n",
        "        \"\"\"Computes the DDPG losses given a tensordict sampled from the replay buffer.\n",
        "\n",
        "        This function will also write a \"td_error\" key that can be used by prioritized replay buffers to assign\n",
        "            a priority to items in the tensordict.\n",
        "\n",
        "        Args:\n",
        "            tensordict (TensorDictBase): a tensordict with keys [\"done\", \"terminated\", \"reward\"] and the in_keys of the actor\n",
        "                and value networks.\n",
        "\n",
        "        Returns:\n",
        "            a tuple of 2 tensors containing the DDPG loss.\n",
        "\n",
        "        \"\"\"\n",
        "        loss_value, metadata = self.loss_value(tensordict)\n",
        "        loss_actor, metadata_actor = self.loss_actor(tensordict)\n",
        "        metadata.update(metadata_actor)\n",
        "        td_out = TensorDict(\n",
        "            source={\"loss_actor\": loss_actor, \"loss_value\": loss_value, **metadata},\n",
        "            batch_size=[],\n",
        "        )\n",
        "        self._clear_weakrefs(\n",
        "            tensordict,\n",
        "            td_out,\n",
        "            \"value_network_params\",\n",
        "            \"target_value_network_params\",\n",
        "            \"target_actor_network_params\",\n",
        "            \"actor_network_params\",\n",
        "        )\n",
        "        return td_out\n",
        "\n",
        "    def loss_actor(self, tensordict: TensorDictBase) -> Tuple[torch.Tensor, dict]:\n",
        "        td_copy = tensordict.select(\n",
        "            *self.actor_in_keys, *self.value_exclusive_keys, strict=False\n",
        "        ).detach()\n",
        "\n",
        "        with self.actor_network_params.to_module(self.actor_network):\n",
        "            td_copy = self.actor_network(td_copy)\n",
        "\n",
        "        with self._cached_detached_value_params.to_module(self.value_network):\n",
        "            td_copy = self.value_network(td_copy)\n",
        "\n",
        "        actions = td_copy.get((self.actor_network.in_keys[0][0], \"action\"))\n",
        "        Q_values = td_copy.get(self.tensor_keys.state_action_value).squeeze(-1)\n",
        "        grad_Q = torch.autograd.grad(Q_values.sum(), actions, retain_graph=True)[0]\n",
        "\n",
        "        # Retrieve the cooperative reward (assuming common group 'agents')\n",
        "        returns = tensordict.get((\"agents\", \"episode_reward\")).view(-1)\n",
        "        # Now use the dynamic version that computes φ using your learnable weighting functions:\n",
        "        phi_factor = compute_phi_cross_dynamic(returns, adaptive_params)\n",
        "\n",
        "        policy_gradient = actions * grad_Q\n",
        "        loss_actor = -phi_factor.mean() * policy_gradient.mean()\n",
        "\n",
        "        return _reduce(loss_actor, self.reduction), {}\n",
        "\n",
        "\n",
        "    def loss_value(self, tensordict: TensorDictBase) -> Tuple[torch.Tensor, dict]:\n",
        "        td_copy = tensordict.select(*self.value_network.in_keys, strict=False).detach()\n",
        "        with self.value_network_params.to_module(self.value_network):\n",
        "            self.value_network(td_copy)\n",
        "        pred_val = td_copy.get(self.tensor_keys.state_action_value).squeeze(-1)\n",
        "\n",
        "        target_value = self.value_estimator.value_estimate(\n",
        "            tensordict, target_params=self._cached_target_params\n",
        "        ).squeeze(-1)\n",
        "        # Replace the old transformation with your new dynamic version:\n",
        "        target_value_CPT = C_transform_cross_dynamic(target_value, adaptive_params)\n",
        "\n",
        "        loss_value = distance_loss(pred_val, target_value_CPT, loss_function=self.loss_function)\n",
        "        tensordict.set(\"target_value_CPT\", target_value_CPT, inplace=True)\n",
        "\n",
        "        td_error = (pred_val - target_value_CPT).pow(2).detach()\n",
        "        tensordict.set(self.tensor_keys.priority, td_error, inplace=True)\n",
        "\n",
        "        metadata = {\n",
        "            \"td_error\": td_error,\n",
        "            \"pred_value\": pred_val,\n",
        "            \"target_value_CPT\": target_value_CPT,\n",
        "        }\n",
        "        return _reduce(loss_value, self.reduction), metadata\n",
        "\n",
        "\n",
        "    def make_value_estimator(self, value_type: ValueEstimators = None, **hyperparams):\n",
        "        if value_type is None:\n",
        "            value_type = self.default_value_estimator\n",
        "        self.value_type = value_type\n",
        "        hp = dict(default_value_kwargs(value_type))\n",
        "        if hasattr(self, \"gamma\"):\n",
        "            hp[\"gamma\"] = self.gamma\n",
        "        hp.update(hyperparams)\n",
        "        if value_type == ValueEstimators.TD1:\n",
        "            self._value_estimator = TD1Estimator(value_network=self.actor_critic, **hp)\n",
        "        elif value_type == ValueEstimators.TD0:\n",
        "            self._value_estimator = TD0Estimator(value_network=self.actor_critic, **hp)\n",
        "        elif value_type == ValueEstimators.GAE:\n",
        "            raise NotImplementedError(\n",
        "                f\"Value type {value_type} it not implemented for loss {type(self)}.\"\n",
        "            )\n",
        "        elif value_type == ValueEstimators.TDLambda:\n",
        "            self._value_estimator = TDLambdaEstimator(\n",
        "                value_network=self.actor_critic, **hp\n",
        "            )\n",
        "        else:\n",
        "            raise NotImplementedError(f\"Unknown value type {value_type}\")\n",
        "\n",
        "        tensor_keys = {\n",
        "            \"value\": self.tensor_keys.state_action_value,\n",
        "            \"reward\": self.tensor_keys.reward,\n",
        "            \"done\": self.tensor_keys.done,\n",
        "            \"terminated\": self.tensor_keys.terminated,\n",
        "        }\n",
        "        self._value_estimator.set_keys(**tensor_keys)\n",
        "\n",
        "    @property\n",
        "    @_cache_values\n",
        "    def _cached_target_params(self):\n",
        "        target_params = TensorDict(\n",
        "            {\n",
        "                \"module\": {\n",
        "                    \"0\": self.target_actor_network_params,\n",
        "                    \"1\": self.target_value_network_params,\n",
        "                }\n",
        "            },\n",
        "            batch_size=self.target_actor_network_params.batch_size,\n",
        "            device=self.target_actor_network_params.device,\n",
        "        )\n",
        "        return target_params\n",
        "\n",
        "    @property\n",
        "    @_cache_values\n",
        "    def _cached_detached_value_params(self):\n",
        "        return self.value_network_params.detach()"
      ],
      "metadata": {
        "id": "FRx2-pu1FZhH"
      },
      "execution_count": null,
      "outputs": []
    },
    {
      "cell_type": "code",
      "execution_count": null,
      "metadata": {
        "id": "bJ4u6U6EWfBT"
      },
      "outputs": [],
      "source": [
        "losses = {}\n",
        "for group, _agents in env.group_map.items():\n",
        "    loss_module = CPTDDPGLoss(\n",
        "        actor_network=policies[group],  # Use the non-explorative policies\n",
        "        value_network=critics[group],\n",
        "        delay_value=True,  # Whether to use a target network for the value\n",
        "        loss_function=\"l2\",\n",
        "    )\n",
        "    loss_module.set_keys(\n",
        "        state_action_value=(group, \"state_action_value\"),\n",
        "        reward=(group, \"reward\"),\n",
        "        done=(group, \"done\"),\n",
        "        terminated=(group, \"terminated\"),\n",
        "    )\n",
        "    loss_module.make_value_estimator(ValueEstimators.TD0, gamma=gamma)\n",
        "\n",
        "    losses[group] = loss_module\n",
        "\n",
        "target_updaters = {\n",
        "    group: SoftUpdate(loss, tau=polyak_tau) for group, loss in losses.items()\n",
        "}\n",
        "\n",
        "optimisers = {\n",
        "    group: {\n",
        "        \"loss_actor\": torch.optim.Adam(\n",
        "            loss.actor_network_params.flatten_keys().values(), lr=lr\n",
        "        ),\n",
        "        \"loss_value\": torch.optim.Adam(\n",
        "            loss.value_network_params.flatten_keys().values(), lr=lr\n",
        "        ),\n",
        "    }\n",
        "    for group, loss in losses.items()\n",
        "}\n",
        "\n",
        "optimizer_behavioral = torch.optim.Adam(adaptive_params.parameters(), lr=1e-5)"
      ]
    },
    {
      "cell_type": "code",
      "execution_count": null,
      "metadata": {
        "id": "EjBvnOLGWgnp"
      },
      "outputs": [],
      "source": [
        "def process_batch(batch: TensorDictBase) -> TensorDictBase:\n",
        "    \"\"\"\n",
        "    If the `(group, \"terminated\")` and `(group, \"done\")` keys are not present, create them by expanding\n",
        "    `\"terminated\"` and `\"done\"`.\n",
        "    This is needed to present them with the same shape as the reward to the loss.\n",
        "    \"\"\"\n",
        "    for group in env.group_map.keys():\n",
        "        keys = list(batch.keys(True, True))\n",
        "        group_shape = batch.get_item_shape(group)\n",
        "        nested_done_key = (\"next\", group, \"done\")\n",
        "        nested_terminated_key = (\"next\", group, \"terminated\")\n",
        "        if nested_done_key not in keys:\n",
        "            batch.set(\n",
        "                nested_done_key,\n",
        "                batch.get((\"next\", \"done\")).unsqueeze(-1).expand((*group_shape, 1)),\n",
        "            )\n",
        "        if nested_terminated_key not in keys:\n",
        "            batch.set(\n",
        "                nested_terminated_key,\n",
        "                batch.get((\"next\", \"terminated\"))\n",
        "                .unsqueeze(-1)\n",
        "                .expand((*group_shape, 1)),\n",
        "            )\n",
        "    return batch"
      ]
    },
    {
      "cell_type": "code",
      "source": [
        "def compute_adaptive_loss(replay_sample, value_estimator, adaptive_params, target_params, epsilon=1e-6, min_val=1e-3):\n",
        "    # Compute the standard target Q-value:\n",
        "    target_value = value_estimator.value_estimate(replay_sample, target_params=target_params).squeeze(-1)\n",
        "    # Compute the CPT-transformed target using adaptive parameters:\n",
        "    target_value_CPT = C_transform_cross_dynamic(target_value, adaptive_params, epsilon, min_val)\n",
        "    base_adaptive_loss = torch.mean((target_value_CPT - target_value) ** 2)\n",
        "    return base_adaptive_loss\n",
        "\n"
      ],
      "metadata": {
        "id": "n_e_UTSVSwLW"
      },
      "execution_count": null,
      "outputs": []
    },
    {
      "cell_type": "code",
      "execution_count": null,
      "metadata": {
        "colab": {
          "base_uri": "https://localhost:8080/"
        },
        "id": "rwLjnzsLWjzS",
        "outputId": "8cab05d8-4544-4bdc-900b-80d6638b2eb9"
      },
      "outputs": [
        {
          "output_type": "stream",
          "name": "stderr",
          "text": [
            "episode_reward_mean_agents = -408.6085510253906:  15%|█▌        | 30/200 [04:03<22:57,  8.10s/it]\n",
            "episode_reward_mean_agents = -416.01910400390625:   0%|          | 1/200 [00:09<31:16,  9.43s/it]"
          ]
        },
        {
          "output_type": "stream",
          "name": "stdout",
          "text": [
            "Iter 0 - agent_0 alpha: 1.200000, grad mean: 7.768896\n",
            "Iter 0 - agent_0 lam: 1.500000, grad mean: 0.288184\n",
            "Iter 0 - agent_0 w_plus_prime_gamma: 0.500000, grad mean: 0.000000\n",
            "Iter 0 - agent_0 w_minus_prime_gamma: 0.690000, grad mean: 23.335531\n",
            "Iter 0 - agent_1 alpha: 1.200000, grad mean: 6.215115\n",
            "Iter 0 - agent_1 lam: 1.200000, grad mean: 0.288184\n",
            "Iter 0 - agent_1 w_plus_prime_gamma: 0.500000, grad mean: 0.000000\n",
            "Iter 0 - agent_1 w_minus_prime_gamma: 0.690000, grad mean: 18.668434\n"
          ]
        },
        {
          "output_type": "stream",
          "name": "stderr",
          "text": [
            "\repisode_reward_mean_agents = -528.5809936523438:   1%|          | 2/200 [00:18<31:09,  9.44s/it] "
          ]
        },
        {
          "output_type": "stream",
          "name": "stdout",
          "text": [
            "Iter 1 - agent_0 alpha: 1.200000, grad mean: 17.017302\n",
            "Iter 1 - agent_0 lam: 1.500000, grad mean: 1.084136\n",
            "Iter 1 - agent_0 w_plus_prime_gamma: 0.500000, grad mean: 0.000001\n",
            "Iter 1 - agent_0 w_minus_prime_gamma: 0.690000, grad mean: 51.018509\n",
            "Iter 1 - agent_1 alpha: 1.200000, grad mean: 13.613836\n",
            "Iter 1 - agent_1 lam: 1.200000, grad mean: 1.084136\n",
            "Iter 1 - agent_1 w_plus_prime_gamma: 0.500000, grad mean: 0.000001\n",
            "Iter 1 - agent_1 w_minus_prime_gamma: 0.690000, grad mean: 40.814781\n"
          ]
        },
        {
          "output_type": "stream",
          "name": "stderr",
          "text": [
            "\repisode_reward_mean_agents = -424.1863708496094:   2%|▏         | 3/200 [00:23<24:04,  7.33s/it]"
          ]
        },
        {
          "output_type": "stream",
          "name": "stdout",
          "text": [
            "Iter 2 - agent_0 alpha: 1.200000, grad mean: 25.307686\n",
            "Iter 2 - agent_0 lam: 1.500000, grad mean: 1.816242\n",
            "Iter 2 - agent_0 w_plus_prime_gamma: 0.500000, grad mean: 0.000001\n",
            "Iter 2 - agent_0 w_minus_prime_gamma: 0.690000, grad mean: 75.562805\n",
            "Iter 2 - agent_1 alpha: 1.200000, grad mean: 20.246155\n",
            "Iter 2 - agent_1 lam: 1.200000, grad mean: 1.816242\n",
            "Iter 2 - agent_1 w_plus_prime_gamma: 0.500000, grad mean: 0.000001\n",
            "Iter 2 - agent_1 w_minus_prime_gamma: 0.690000, grad mean: 60.450218\n"
          ]
        },
        {
          "output_type": "stream",
          "name": "stderr",
          "text": [
            "\repisode_reward_mean_agents = -446.01373291015625:   2%|▏         | 4/200 [00:28<20:34,  6.30s/it]"
          ]
        },
        {
          "output_type": "stream",
          "name": "stdout",
          "text": [
            "Iter 3 - agent_0 alpha: 1.200000, grad mean: 34.181435\n",
            "Iter 3 - agent_0 lam: 1.500000, grad mean: 2.619662\n",
            "Iter 3 - agent_0 w_plus_prime_gamma: 0.500000, grad mean: 0.000001\n",
            "Iter 3 - agent_0 w_minus_prime_gamma: 0.690000, grad mean: 102.085045\n",
            "Iter 3 - agent_1 alpha: 1.200000, grad mean: 27.345154\n",
            "Iter 3 - agent_1 lam: 1.200000, grad mean: 2.619662\n",
            "Iter 3 - agent_1 w_plus_prime_gamma: 0.500000, grad mean: 0.000001\n",
            "Iter 3 - agent_1 w_minus_prime_gamma: 0.690000, grad mean: 81.668053\n"
          ]
        },
        {
          "output_type": "stream",
          "name": "stderr",
          "text": [
            "\repisode_reward_mean_agents = -522.5723876953125:   2%|▎         | 5/200 [00:33<19:22,  5.96s/it] "
          ]
        },
        {
          "output_type": "stream",
          "name": "stdout",
          "text": [
            "Iter 4 - agent_0 alpha: 1.200000, grad mean: 43.946621\n",
            "Iter 4 - agent_0 lam: 1.500000, grad mean: 3.538949\n",
            "Iter 4 - agent_0 w_plus_prime_gamma: 0.500000, grad mean: 0.000001\n",
            "Iter 4 - agent_0 w_minus_prime_gamma: 0.690000, grad mean: 130.896408\n",
            "Iter 4 - agent_1 alpha: 1.200000, grad mean: 35.157288\n",
            "Iter 4 - agent_1 lam: 1.200000, grad mean: 3.538949\n",
            "Iter 4 - agent_1 w_plus_prime_gamma: 0.500000, grad mean: 0.000001\n",
            "Iter 4 - agent_1 w_minus_prime_gamma: 0.690000, grad mean: 104.717178\n"
          ]
        },
        {
          "output_type": "stream",
          "name": "stderr",
          "text": [
            "\repisode_reward_mean_agents = -559.8995971679688:   3%|▎         | 6/200 [00:38<17:55,  5.54s/it]"
          ]
        },
        {
          "output_type": "stream",
          "name": "stdout",
          "text": [
            "Iter 5 - agent_0 alpha: 1.200000, grad mean: 53.049320\n",
            "Iter 5 - agent_0 lam: 1.500000, grad mean: 4.419077\n",
            "Iter 5 - agent_0 w_plus_prime_gamma: 0.500000, grad mean: 0.000002\n",
            "Iter 5 - agent_0 w_minus_prime_gamma: 0.690000, grad mean: 157.726501\n",
            "Iter 5 - agent_1 alpha: 1.200000, grad mean: 42.439430\n",
            "Iter 5 - agent_1 lam: 1.200000, grad mean: 4.419077\n",
            "Iter 5 - agent_1 w_plus_prime_gamma: 0.500000, grad mean: 0.000002\n",
            "Iter 5 - agent_1 w_minus_prime_gamma: 0.690000, grad mean: 126.181252\n"
          ]
        },
        {
          "output_type": "stream",
          "name": "stderr",
          "text": [
            "\repisode_reward_mean_agents = -693.171142578125:   4%|▎         | 7/200 [00:43<17:32,  5.45s/it] "
          ]
        },
        {
          "output_type": "stream",
          "name": "stdout",
          "text": [
            "Iter 6 - agent_0 alpha: 1.200000, grad mean: 61.777294\n",
            "Iter 6 - agent_0 lam: 1.500000, grad mean: 5.282745\n",
            "Iter 6 - agent_0 w_plus_prime_gamma: 0.500000, grad mean: 0.000002\n",
            "Iter 6 - agent_0 w_minus_prime_gamma: 0.690000, grad mean: 183.008682\n",
            "Iter 6 - agent_1 alpha: 1.200000, grad mean: 49.421806\n",
            "Iter 6 - agent_1 lam: 1.200000, grad mean: 5.282745\n",
            "Iter 6 - agent_1 w_plus_prime_gamma: 0.500000, grad mean: 0.000002\n",
            "Iter 6 - agent_1 w_minus_prime_gamma: 0.690000, grad mean: 146.407043\n"
          ]
        },
        {
          "output_type": "stream",
          "name": "stderr",
          "text": [
            "\repisode_reward_mean_agents = -525.5447387695312:   4%|▍         | 8/200 [00:48<16:42,  5.22s/it]"
          ]
        },
        {
          "output_type": "stream",
          "name": "stdout",
          "text": [
            "Iter 7 - agent_0 alpha: 1.200000, grad mean: 69.802643\n",
            "Iter 7 - agent_0 lam: 1.500000, grad mean: 6.067434\n",
            "Iter 7 - agent_0 w_plus_prime_gamma: 0.500000, grad mean: 0.000002\n",
            "Iter 7 - agent_0 w_minus_prime_gamma: 0.690000, grad mean: 206.275375\n",
            "Iter 7 - agent_1 alpha: 1.200000, grad mean: 55.842094\n",
            "Iter 7 - agent_1 lam: 1.200000, grad mean: 6.067434\n",
            "Iter 7 - agent_1 w_plus_prime_gamma: 0.500000, grad mean: 0.000002\n",
            "Iter 7 - agent_1 w_minus_prime_gamma: 0.690000, grad mean: 165.020493\n"
          ]
        },
        {
          "output_type": "stream",
          "name": "stderr",
          "text": [
            "\repisode_reward_mean_agents = -628.6935424804688:   4%|▍         | 9/200 [00:53<16:12,  5.09s/it]"
          ]
        },
        {
          "output_type": "stream",
          "name": "stdout",
          "text": [
            "Iter 8 - agent_0 alpha: 1.200000, grad mean: 77.536430\n",
            "Iter 8 - agent_0 lam: 1.500000, grad mean: 6.812874\n",
            "Iter 8 - agent_0 w_plus_prime_gamma: 0.500000, grad mean: 0.000002\n",
            "Iter 8 - agent_0 w_minus_prime_gamma: 0.690000, grad mean: 228.660812\n",
            "Iter 8 - agent_1 alpha: 1.200000, grad mean: 62.029087\n",
            "Iter 8 - agent_1 lam: 1.200000, grad mean: 6.812874\n",
            "Iter 8 - agent_1 w_plus_prime_gamma: 0.500000, grad mean: 0.000002\n",
            "Iter 8 - agent_1 w_minus_prime_gamma: 0.690000, grad mean: 182.928894\n"
          ]
        },
        {
          "output_type": "stream",
          "name": "stderr",
          "text": [
            "\repisode_reward_mean_agents = -570.34912109375:   5%|▌         | 10/200 [00:58<16:17,  5.15s/it] "
          ]
        },
        {
          "output_type": "stream",
          "name": "stdout",
          "text": [
            "Iter 9 - agent_0 alpha: 1.200000, grad mean: 85.974892\n",
            "Iter 9 - agent_0 lam: 1.500000, grad mean: 7.633640\n",
            "Iter 9 - agent_0 w_plus_prime_gamma: 0.500000, grad mean: 0.000003\n",
            "Iter 9 - agent_0 w_minus_prime_gamma: 0.690000, grad mean: 252.993805\n",
            "Iter 9 - agent_1 alpha: 1.200000, grad mean: 68.779816\n",
            "Iter 9 - agent_1 lam: 1.200000, grad mean: 7.633640\n",
            "Iter 9 - agent_1 w_plus_prime_gamma: 0.500000, grad mean: 0.000003\n",
            "Iter 9 - agent_1 w_minus_prime_gamma: 0.690000, grad mean: 202.395294\n"
          ]
        },
        {
          "output_type": "stream",
          "name": "stderr",
          "text": [
            "\repisode_reward_mean_agents = -685.1183471679688:   6%|▌         | 11/200 [01:03<15:46,  5.01s/it]"
          ]
        },
        {
          "output_type": "stream",
          "name": "stdout",
          "text": [
            "Iter 10 - agent_0 alpha: 1.200000, grad mean: 94.028763\n",
            "Iter 10 - agent_0 lam: 1.500000, grad mean: 8.422990\n",
            "Iter 10 - agent_0 w_plus_prime_gamma: 0.500000, grad mean: 0.000003\n",
            "Iter 10 - agent_0 w_minus_prime_gamma: 0.690000, grad mean: 276.088898\n",
            "Iter 10 - agent_1 alpha: 1.200000, grad mean: 75.222954\n",
            "Iter 10 - agent_1 lam: 1.200000, grad mean: 8.422990\n",
            "Iter 10 - agent_1 w_plus_prime_gamma: 0.500000, grad mean: 0.000003\n",
            "Iter 10 - agent_1 w_minus_prime_gamma: 0.690000, grad mean: 220.871292\n"
          ]
        },
        {
          "output_type": "stream",
          "name": "stderr",
          "text": [
            "\repisode_reward_mean_agents = -649.6156005859375:   6%|▌         | 12/200 [01:08<15:56,  5.09s/it]"
          ]
        },
        {
          "output_type": "stream",
          "name": "stdout",
          "text": [
            "Iter 11 - agent_0 alpha: 1.200000, grad mean: 102.016991\n",
            "Iter 11 - agent_0 lam: 1.500000, grad mean: 9.220422\n",
            "Iter 11 - agent_0 w_plus_prime_gamma: 0.500000, grad mean: 0.000003\n",
            "Iter 11 - agent_0 w_minus_prime_gamma: 0.690000, grad mean: 298.899841\n",
            "Iter 11 - agent_1 alpha: 1.200000, grad mean: 81.613510\n",
            "Iter 11 - agent_1 lam: 1.200000, grad mean: 9.220422\n",
            "Iter 11 - agent_1 w_plus_prime_gamma: 0.500000, grad mean: 0.000003\n",
            "Iter 11 - agent_1 w_minus_prime_gamma: 0.690000, grad mean: 239.119919\n"
          ]
        },
        {
          "output_type": "stream",
          "name": "stderr",
          "text": [
            "\repisode_reward_mean_agents = -645.6112670898438:   6%|▋         | 13/200 [01:13<15:29,  4.97s/it]"
          ]
        },
        {
          "output_type": "stream",
          "name": "stdout",
          "text": [
            "Iter 12 - agent_0 alpha: 1.200000, grad mean: 110.478668\n",
            "Iter 12 - agent_0 lam: 1.500000, grad mean: 10.075643\n",
            "Iter 12 - agent_0 w_plus_prime_gamma: 0.500000, grad mean: 0.000003\n",
            "Iter 12 - agent_0 w_minus_prime_gamma: 0.690000, grad mean: 322.894562\n",
            "Iter 12 - agent_1 alpha: 1.200000, grad mean: 88.382858\n",
            "Iter 12 - agent_1 lam: 1.200000, grad mean: 10.075643\n",
            "Iter 12 - agent_1 w_plus_prime_gamma: 0.500000, grad mean: 0.000003\n",
            "Iter 12 - agent_1 w_minus_prime_gamma: 0.690000, grad mean: 258.315582\n"
          ]
        },
        {
          "output_type": "stream",
          "name": "stderr",
          "text": [
            "\repisode_reward_mean_agents = -642.0201416015625:   7%|▋         | 14/200 [01:18<15:27,  4.98s/it]"
          ]
        },
        {
          "output_type": "stream",
          "name": "stdout",
          "text": [
            "Iter 13 - agent_0 alpha: 1.200000, grad mean: 119.205757\n",
            "Iter 13 - agent_0 lam: 1.500000, grad mean: 10.958964\n",
            "Iter 13 - agent_0 w_plus_prime_gamma: 0.500000, grad mean: 0.000003\n",
            "Iter 13 - agent_0 w_minus_prime_gamma: 0.690000, grad mean: 347.639862\n",
            "Iter 13 - agent_1 alpha: 1.200000, grad mean: 95.364563\n",
            "Iter 13 - agent_1 lam: 1.200000, grad mean: 10.958964\n",
            "Iter 13 - agent_1 w_plus_prime_gamma: 0.500000, grad mean: 0.000003\n",
            "Iter 13 - agent_1 w_minus_prime_gamma: 0.690000, grad mean: 278.111908\n"
          ]
        },
        {
          "output_type": "stream",
          "name": "stderr",
          "text": [
            "\repisode_reward_mean_agents = -624.6288452148438:   8%|▊         | 15/200 [01:23<15:25,  5.00s/it]"
          ]
        },
        {
          "output_type": "stream",
          "name": "stdout",
          "text": [
            "Iter 14 - agent_0 alpha: 1.200000, grad mean: 127.965630\n",
            "Iter 14 - agent_0 lam: 1.500000, grad mean: 11.841891\n",
            "Iter 14 - agent_0 w_plus_prime_gamma: 0.500000, grad mean: 0.000004\n",
            "Iter 14 - agent_0 w_minus_prime_gamma: 0.690000, grad mean: 372.457336\n",
            "Iter 14 - agent_1 alpha: 1.200000, grad mean: 102.372452\n",
            "Iter 14 - agent_1 lam: 1.200000, grad mean: 11.841891\n",
            "Iter 14 - agent_1 w_plus_prime_gamma: 0.500000, grad mean: 0.000004\n",
            "Iter 14 - agent_1 w_minus_prime_gamma: 0.690000, grad mean: 297.966156\n"
          ]
        },
        {
          "output_type": "stream",
          "name": "stderr",
          "text": [
            "\repisode_reward_mean_agents = -550.1260375976562:   8%|▊         | 16/200 [01:28<15:07,  4.93s/it]"
          ]
        },
        {
          "output_type": "stream",
          "name": "stdout",
          "text": [
            "Iter 15 - agent_0 alpha: 1.200000, grad mean: 137.374512\n",
            "Iter 15 - agent_0 lam: 1.500000, grad mean: 12.803874\n",
            "Iter 15 - agent_0 w_plus_prime_gamma: 0.500000, grad mean: 0.000004\n",
            "Iter 15 - agent_0 w_minus_prime_gamma: 0.690000, grad mean: 398.996765\n",
            "Iter 15 - agent_1 alpha: 1.200000, grad mean: 109.899727\n",
            "Iter 15 - agent_1 lam: 1.200000, grad mean: 12.803874\n",
            "Iter 15 - agent_1 w_plus_prime_gamma: 0.500000, grad mean: 0.000004\n",
            "Iter 15 - agent_1 w_minus_prime_gamma: 0.690000, grad mean: 319.197632\n"
          ]
        },
        {
          "output_type": "stream",
          "name": "stderr",
          "text": [
            "\repisode_reward_mean_agents = -484.6930236816406:   8%|▊         | 17/200 [01:33<15:23,  5.05s/it]"
          ]
        },
        {
          "output_type": "stream",
          "name": "stdout",
          "text": [
            "Iter 16 - agent_0 alpha: 1.200000, grad mean: 147.293961\n",
            "Iter 16 - agent_0 lam: 1.500000, grad mean: 13.822782\n",
            "Iter 16 - agent_0 w_plus_prime_gamma: 0.500000, grad mean: 0.000004\n",
            "Iter 16 - agent_0 w_minus_prime_gamma: 0.690000, grad mean: 427.043060\n",
            "Iter 16 - agent_1 alpha: 1.200000, grad mean: 117.835419\n",
            "Iter 16 - agent_1 lam: 1.200000, grad mean: 13.822782\n",
            "Iter 16 - agent_1 w_plus_prime_gamma: 0.500000, grad mean: 0.000004\n",
            "Iter 16 - agent_1 w_minus_prime_gamma: 0.690000, grad mean: 341.634674\n"
          ]
        },
        {
          "output_type": "stream",
          "name": "stderr",
          "text": [
            "\repisode_reward_mean_agents = -396.0712585449219:   9%|▉         | 18/200 [01:38<15:03,  4.97s/it]"
          ]
        },
        {
          "output_type": "stream",
          "name": "stdout",
          "text": [
            "Iter 17 - agent_0 alpha: 1.200000, grad mean: 157.260239\n",
            "Iter 17 - agent_0 lam: 1.500000, grad mean: 14.855792\n",
            "Iter 17 - agent_0 w_plus_prime_gamma: 0.500000, grad mean: 0.000004\n",
            "Iter 17 - agent_0 w_minus_prime_gamma: 0.690000, grad mean: 455.179382\n",
            "Iter 17 - agent_1 alpha: 1.200000, grad mean: 125.808418\n",
            "Iter 17 - agent_1 lam: 1.200000, grad mean: 14.855792\n",
            "Iter 17 - agent_1 w_plus_prime_gamma: 0.500000, grad mean: 0.000004\n",
            "Iter 17 - agent_1 w_minus_prime_gamma: 0.690000, grad mean: 364.143677\n"
          ]
        },
        {
          "output_type": "stream",
          "name": "stderr",
          "text": [
            "\repisode_reward_mean_agents = -602.304443359375:  10%|▉         | 19/200 [01:43<15:16,  5.07s/it] "
          ]
        },
        {
          "output_type": "stream",
          "name": "stdout",
          "text": [
            "Iter 18 - agent_0 alpha: 1.200000, grad mean: 166.895462\n",
            "Iter 18 - agent_0 lam: 1.500000, grad mean: 15.861482\n",
            "Iter 18 - agent_0 w_plus_prime_gamma: 0.500000, grad mean: 0.000005\n",
            "Iter 18 - agent_0 w_minus_prime_gamma: 0.690000, grad mean: 482.436340\n",
            "Iter 18 - agent_1 alpha: 1.200000, grad mean: 133.516617\n",
            "Iter 18 - agent_1 lam: 1.200000, grad mean: 15.861482\n",
            "Iter 18 - agent_1 w_plus_prime_gamma: 0.500000, grad mean: 0.000005\n",
            "Iter 18 - agent_1 w_minus_prime_gamma: 0.690000, grad mean: 385.948883\n"
          ]
        },
        {
          "output_type": "stream",
          "name": "stderr",
          "text": [
            "\repisode_reward_mean_agents = -551.0182495117188:  10%|█         | 20/200 [01:48<14:49,  4.94s/it]"
          ]
        },
        {
          "output_type": "stream",
          "name": "stdout",
          "text": [
            "Iter 19 - agent_0 alpha: 1.200000, grad mean: 176.788116\n",
            "Iter 19 - agent_0 lam: 1.500000, grad mean: 16.893711\n",
            "Iter 19 - agent_0 w_plus_prime_gamma: 0.500000, grad mean: 0.000005\n",
            "Iter 19 - agent_0 w_minus_prime_gamma: 0.690000, grad mean: 510.434998\n",
            "Iter 19 - agent_1 alpha: 1.200000, grad mean: 141.430740\n",
            "Iter 19 - agent_1 lam: 1.200000, grad mean: 16.893711\n",
            "Iter 19 - agent_1 w_plus_prime_gamma: 0.500000, grad mean: 0.000005\n",
            "Iter 19 - agent_1 w_minus_prime_gamma: 0.690000, grad mean: 408.347870\n"
          ]
        },
        {
          "output_type": "stream",
          "name": "stderr",
          "text": [
            "\repisode_reward_mean_agents = -494.6054382324219:  10%|█         | 21/200 [01:52<14:31,  4.87s/it]"
          ]
        },
        {
          "output_type": "stream",
          "name": "stdout",
          "text": [
            "Iter 20 - agent_0 alpha: 1.200000, grad mean: 185.801422\n",
            "Iter 20 - agent_0 lam: 1.500000, grad mean: 17.830008\n",
            "Iter 20 - agent_0 w_plus_prime_gamma: 0.500000, grad mean: 0.000005\n",
            "Iter 20 - agent_0 w_minus_prime_gamma: 0.690000, grad mean: 536.017029\n",
            "Iter 20 - agent_1 alpha: 1.200000, grad mean: 148.641388\n",
            "Iter 20 - agent_1 lam: 1.200000, grad mean: 17.830008\n",
            "Iter 20 - agent_1 w_plus_prime_gamma: 0.500000, grad mean: 0.000005\n",
            "Iter 20 - agent_1 w_minus_prime_gamma: 0.690000, grad mean: 428.813232\n"
          ]
        },
        {
          "output_type": "stream",
          "name": "stderr",
          "text": [
            "\repisode_reward_mean_agents = -611.5798950195312:  11%|█         | 22/200 [01:59<15:58,  5.38s/it]"
          ]
        },
        {
          "output_type": "stream",
          "name": "stdout",
          "text": [
            "Iter 21 - agent_0 alpha: 1.200000, grad mean: 195.059082\n",
            "Iter 21 - agent_0 lam: 1.500000, grad mean: 18.799250\n",
            "Iter 21 - agent_0 w_plus_prime_gamma: 0.500000, grad mean: 0.000005\n",
            "Iter 21 - agent_0 w_minus_prime_gamma: 0.690000, grad mean: 562.230896\n",
            "Iter 21 - agent_1 alpha: 1.200000, grad mean: 156.047516\n",
            "Iter 21 - agent_1 lam: 1.200000, grad mean: 18.799250\n",
            "Iter 21 - agent_1 w_plus_prime_gamma: 0.500000, grad mean: 0.000005\n",
            "Iter 21 - agent_1 w_minus_prime_gamma: 0.690000, grad mean: 449.784088\n"
          ]
        },
        {
          "output_type": "stream",
          "name": "stderr",
          "text": [
            "\repisode_reward_mean_agents = -492.9001159667969:  12%|█▏        | 23/200 [02:04<15:28,  5.24s/it]"
          ]
        },
        {
          "output_type": "stream",
          "name": "stdout",
          "text": [
            "Iter 22 - agent_0 alpha: 1.200000, grad mean: 204.398560\n",
            "Iter 22 - agent_0 lam: 1.500000, grad mean: 19.785944\n",
            "Iter 22 - agent_0 w_plus_prime_gamma: 0.500000, grad mean: 0.000006\n",
            "Iter 22 - agent_0 w_minus_prime_gamma: 0.690000, grad mean: 588.665283\n",
            "Iter 22 - agent_1 alpha: 1.200000, grad mean: 163.519180\n",
            "Iter 22 - agent_1 lam: 1.200000, grad mean: 19.785944\n",
            "Iter 22 - agent_1 w_plus_prime_gamma: 0.500000, grad mean: 0.000006\n",
            "Iter 22 - agent_1 w_minus_prime_gamma: 0.690000, grad mean: 470.931610\n"
          ]
        },
        {
          "output_type": "stream",
          "name": "stderr",
          "text": [
            "\repisode_reward_mean_agents = -622.6068725585938:  12%|█▏        | 24/200 [02:09<15:30,  5.29s/it]"
          ]
        },
        {
          "output_type": "stream",
          "name": "stdout",
          "text": [
            "Iter 23 - agent_0 alpha: 1.200000, grad mean: 213.093582\n",
            "Iter 23 - agent_0 lam: 1.500000, grad mean: 20.692316\n",
            "Iter 23 - agent_0 w_plus_prime_gamma: 0.500000, grad mean: 0.000006\n",
            "Iter 23 - agent_0 w_minus_prime_gamma: 0.690000, grad mean: 613.260437\n",
            "Iter 23 - agent_1 alpha: 1.200000, grad mean: 170.475235\n",
            "Iter 23 - agent_1 lam: 1.200000, grad mean: 20.692316\n",
            "Iter 23 - agent_1 w_plus_prime_gamma: 0.500000, grad mean: 0.000006\n",
            "Iter 23 - agent_1 w_minus_prime_gamma: 0.690000, grad mean: 490.607849\n"
          ]
        },
        {
          "output_type": "stream",
          "name": "stderr",
          "text": [
            "\repisode_reward_mean_agents = -541.3839111328125:  12%|█▎        | 25/200 [02:14<14:55,  5.12s/it]"
          ]
        },
        {
          "output_type": "stream",
          "name": "stdout",
          "text": [
            "Iter 24 - agent_0 alpha: 1.200000, grad mean: 222.233429\n",
            "Iter 24 - agent_0 lam: 1.500000, grad mean: 21.663507\n",
            "Iter 24 - agent_0 w_plus_prime_gamma: 0.500000, grad mean: 0.000006\n",
            "Iter 24 - agent_0 w_minus_prime_gamma: 0.690000, grad mean: 639.107361\n",
            "Iter 24 - agent_1 alpha: 1.200000, grad mean: 177.787109\n",
            "Iter 24 - agent_1 lam: 1.200000, grad mean: 21.663507\n",
            "Iter 24 - agent_1 w_plus_prime_gamma: 0.500000, grad mean: 0.000006\n",
            "Iter 24 - agent_1 w_minus_prime_gamma: 0.690000, grad mean: 511.285370\n"
          ]
        },
        {
          "output_type": "stream",
          "name": "stderr",
          "text": [
            "\repisode_reward_mean_agents = -421.8601989746094:  13%|█▎        | 26/200 [02:19<14:55,  5.14s/it]"
          ]
        },
        {
          "output_type": "stream",
          "name": "stdout",
          "text": [
            "Iter 25 - agent_0 alpha: 1.200000, grad mean: 231.124939\n",
            "Iter 25 - agent_0 lam: 1.500000, grad mean: 22.600140\n",
            "Iter 25 - agent_0 w_plus_prime_gamma: 0.500000, grad mean: 0.000006\n",
            "Iter 25 - agent_0 w_minus_prime_gamma: 0.690000, grad mean: 664.234497\n",
            "Iter 25 - agent_1 alpha: 1.200000, grad mean: 184.900284\n",
            "Iter 25 - agent_1 lam: 1.200000, grad mean: 22.600140\n",
            "Iter 25 - agent_1 w_plus_prime_gamma: 0.500000, grad mean: 0.000006\n",
            "Iter 25 - agent_1 w_minus_prime_gamma: 0.690000, grad mean: 531.387451\n"
          ]
        },
        {
          "output_type": "stream",
          "name": "stderr",
          "text": [
            "\repisode_reward_mean_agents = -520.3178100585938:  14%|█▎        | 27/200 [02:24<14:35,  5.06s/it]"
          ]
        },
        {
          "output_type": "stream",
          "name": "stdout",
          "text": [
            "Iter 26 - agent_0 alpha: 1.200000, grad mean: 240.071747\n",
            "Iter 26 - agent_0 lam: 1.500000, grad mean: 23.551409\n",
            "Iter 26 - agent_0 w_plus_prime_gamma: 0.500000, grad mean: 0.000007\n",
            "Iter 26 - agent_0 w_minus_prime_gamma: 0.690000, grad mean: 689.567444\n",
            "Iter 26 - agent_1 alpha: 1.200000, grad mean: 192.057785\n",
            "Iter 26 - agent_1 lam: 1.200000, grad mean: 23.551409\n",
            "Iter 26 - agent_1 w_plus_prime_gamma: 0.500000, grad mean: 0.000007\n",
            "Iter 26 - agent_1 w_minus_prime_gamma: 0.690000, grad mean: 551.653931\n"
          ]
        },
        {
          "output_type": "stream",
          "name": "stderr",
          "text": [
            "\repisode_reward_mean_agents = -456.02130126953125:  14%|█▍        | 28/200 [02:29<14:12,  4.96s/it]"
          ]
        },
        {
          "output_type": "stream",
          "name": "stdout",
          "text": [
            "Iter 27 - agent_0 alpha: 1.200000, grad mean: 249.190598\n",
            "Iter 27 - agent_0 lam: 1.500000, grad mean: 24.520519\n",
            "Iter 27 - agent_0 w_plus_prime_gamma: 0.500000, grad mean: 0.000007\n",
            "Iter 27 - agent_0 w_minus_prime_gamma: 0.690000, grad mean: 715.481750\n",
            "Iter 27 - agent_1 alpha: 1.200000, grad mean: 199.352783\n",
            "Iter 27 - agent_1 lam: 1.200000, grad mean: 24.520519\n",
            "Iter 27 - agent_1 w_plus_prime_gamma: 0.500000, grad mean: 0.000007\n",
            "Iter 27 - agent_1 w_minus_prime_gamma: 0.690000, grad mean: 572.385315\n"
          ]
        },
        {
          "output_type": "stream",
          "name": "stderr",
          "text": [
            "\repisode_reward_mean_agents = -477.15460205078125:  14%|█▍        | 29/200 [02:34<14:29,  5.08s/it]"
          ]
        },
        {
          "output_type": "stream",
          "name": "stdout",
          "text": [
            "Iter 28 - agent_0 alpha: 1.200000, grad mean: 258.301666\n",
            "Iter 28 - agent_0 lam: 1.500000, grad mean: 25.493246\n",
            "Iter 28 - agent_0 w_plus_prime_gamma: 0.500000, grad mean: 0.000007\n",
            "Iter 28 - agent_0 w_minus_prime_gamma: 0.690000, grad mean: 741.296143\n",
            "Iter 28 - agent_1 alpha: 1.200000, grad mean: 206.641541\n",
            "Iter 28 - agent_1 lam: 1.200000, grad mean: 25.493246\n",
            "Iter 28 - agent_1 w_plus_prime_gamma: 0.500000, grad mean: 0.000007\n",
            "Iter 28 - agent_1 w_minus_prime_gamma: 0.690000, grad mean: 593.036560\n"
          ]
        },
        {
          "output_type": "stream",
          "name": "stderr",
          "text": [
            "\repisode_reward_mean_agents = -522.0283203125:  15%|█▌        | 30/200 [02:39<14:04,  4.96s/it]    "
          ]
        },
        {
          "output_type": "stream",
          "name": "stdout",
          "text": [
            "Iter 29 - agent_0 alpha: 1.200000, grad mean: 267.441254\n",
            "Iter 29 - agent_0 lam: 1.500000, grad mean: 26.465683\n",
            "Iter 29 - agent_0 w_plus_prime_gamma: 0.500000, grad mean: 0.000007\n",
            "Iter 29 - agent_0 w_minus_prime_gamma: 0.690000, grad mean: 767.208618\n",
            "Iter 29 - agent_1 alpha: 1.200000, grad mean: 213.953262\n",
            "Iter 29 - agent_1 lam: 1.200000, grad mean: 26.465683\n",
            "Iter 29 - agent_1 w_plus_prime_gamma: 0.500000, grad mean: 0.000007\n",
            "Iter 29 - agent_1 w_minus_prime_gamma: 0.690000, grad mean: 613.766602\n"
          ]
        },
        {
          "output_type": "stream",
          "name": "stderr",
          "text": [
            "\repisode_reward_mean_agents = -408.2050476074219:  16%|█▌        | 31/200 [02:44<14:21,  5.10s/it]"
          ]
        },
        {
          "output_type": "stream",
          "name": "stdout",
          "text": [
            "Iteration 30: Adaptive loss = 0.03160744160413742, dynamic factor = 1.0\n"
          ]
        },
        {
          "output_type": "stream",
          "name": "stderr",
          "text": [
            "\repisode_reward_mean_agents = -371.7554626464844:  16%|█▌        | 32/200 [02:49<14:00,  5.00s/it]"
          ]
        },
        {
          "output_type": "stream",
          "name": "stdout",
          "text": [
            "Iter 31 - agent_0 alpha: 1.200010, grad mean: 9.335076\n",
            "Iter 31 - agent_0 lam: 1.500010, grad mean: 1.002686\n",
            "Iter 31 - agent_0 w_plus_prime_gamma: 0.500004, grad mean: 0.000000\n",
            "Iter 31 - agent_0 w_minus_prime_gamma: 0.689990, grad mean: 26.605682\n",
            "Iter 31 - agent_1 alpha: 1.200010, grad mean: 7.468073\n",
            "Iter 31 - agent_1 lam: 1.200010, grad mean: 1.002686\n",
            "Iter 31 - agent_1 w_plus_prime_gamma: 0.500004, grad mean: 0.000000\n",
            "Iter 31 - agent_1 w_minus_prime_gamma: 0.689990, grad mean: 21.284578\n"
          ]
        },
        {
          "output_type": "stream",
          "name": "stderr",
          "text": [
            "\repisode_reward_mean_agents = -421.3049011230469:  16%|█▋        | 33/200 [02:54<13:49,  4.97s/it]"
          ]
        },
        {
          "output_type": "stream",
          "name": "stdout",
          "text": [
            "Iter 32 - agent_0 alpha: 1.200010, grad mean: 18.442774\n",
            "Iter 32 - agent_0 lam: 1.500010, grad mean: 1.977702\n",
            "Iter 32 - agent_0 w_plus_prime_gamma: 0.500004, grad mean: 0.000001\n",
            "Iter 32 - agent_0 w_minus_prime_gamma: 0.689990, grad mean: 52.546242\n",
            "Iter 32 - agent_1 alpha: 1.200010, grad mean: 14.754236\n",
            "Iter 32 - agent_1 lam: 1.200010, grad mean: 1.977702\n",
            "Iter 32 - agent_1 w_plus_prime_gamma: 0.500004, grad mean: 0.000001\n",
            "Iter 32 - agent_1 w_minus_prime_gamma: 0.689990, grad mean: 42.037045\n"
          ]
        },
        {
          "output_type": "stream",
          "name": "stderr",
          "text": [
            "\repisode_reward_mean_agents = -464.3368225097656:  17%|█▋        | 34/200 [02:59<13:52,  5.02s/it]"
          ]
        },
        {
          "output_type": "stream",
          "name": "stdout",
          "text": [
            "Iter 33 - agent_0 alpha: 1.200010, grad mean: 27.613268\n",
            "Iter 33 - agent_0 lam: 1.500010, grad mean: 2.963539\n",
            "Iter 33 - agent_0 w_plus_prime_gamma: 0.500004, grad mean: 0.000001\n",
            "Iter 33 - agent_0 w_minus_prime_gamma: 0.689990, grad mean: 78.675110\n",
            "Iter 33 - agent_1 alpha: 1.200010, grad mean: 22.090649\n",
            "Iter 33 - agent_1 lam: 1.200010, grad mean: 2.963539\n",
            "Iter 33 - agent_1 w_plus_prime_gamma: 0.500004, grad mean: 0.000001\n",
            "Iter 33 - agent_1 w_minus_prime_gamma: 0.689990, grad mean: 62.940159\n"
          ]
        },
        {
          "output_type": "stream",
          "name": "stderr",
          "text": [
            "\repisode_reward_mean_agents = -352.2590637207031:  18%|█▊        | 35/200 [03:04<13:40,  4.97s/it]"
          ]
        },
        {
          "output_type": "stream",
          "name": "stdout",
          "text": [
            "Iter 34 - agent_0 alpha: 1.200010, grad mean: 36.864113\n",
            "Iter 34 - agent_0 lam: 1.500010, grad mean: 3.966151\n",
            "Iter 34 - agent_0 w_plus_prime_gamma: 0.500004, grad mean: 0.000001\n",
            "Iter 34 - agent_0 w_minus_prime_gamma: 0.689990, grad mean: 105.045303\n",
            "Iter 34 - agent_1 alpha: 1.200010, grad mean: 29.491325\n",
            "Iter 34 - agent_1 lam: 1.200010, grad mean: 3.966151\n",
            "Iter 34 - agent_1 w_plus_prime_gamma: 0.500004, grad mean: 0.000001\n",
            "Iter 34 - agent_1 w_minus_prime_gamma: 0.689990, grad mean: 84.036339\n"
          ]
        },
        {
          "output_type": "stream",
          "name": "stderr",
          "text": [
            "\repisode_reward_mean_agents = -384.51953125:  18%|█▊        | 36/200 [03:09<13:59,  5.12s/it]     "
          ]
        },
        {
          "output_type": "stream",
          "name": "stdout",
          "text": [
            "Iter 35 - agent_0 alpha: 1.200010, grad mean: 46.261086\n",
            "Iter 35 - agent_0 lam: 1.500010, grad mean: 4.980704\n",
            "Iter 35 - agent_0 w_plus_prime_gamma: 0.500004, grad mean: 0.000001\n",
            "Iter 35 - agent_0 w_minus_prime_gamma: 0.689990, grad mean: 131.874207\n",
            "Iter 35 - agent_1 alpha: 1.200010, grad mean: 37.008892\n",
            "Iter 35 - agent_1 lam: 1.200010, grad mean: 4.980704\n",
            "Iter 35 - agent_1 w_plus_prime_gamma: 0.500004, grad mean: 0.000001\n",
            "Iter 35 - agent_1 w_minus_prime_gamma: 0.689990, grad mean: 105.499557\n"
          ]
        },
        {
          "output_type": "stream",
          "name": "stderr",
          "text": [
            "\repisode_reward_mean_agents = -383.1808166503906:  18%|█▊        | 37/200 [03:14<13:44,  5.06s/it]"
          ]
        },
        {
          "output_type": "stream",
          "name": "stdout",
          "text": [
            "Iter 36 - agent_0 alpha: 1.200010, grad mean: 56.048222\n",
            "Iter 36 - agent_0 lam: 1.500010, grad mean: 6.046434\n",
            "Iter 36 - agent_0 w_plus_prime_gamma: 0.500004, grad mean: 0.000002\n",
            "Iter 36 - agent_0 w_minus_prime_gamma: 0.689990, grad mean: 159.719406\n",
            "Iter 36 - agent_1 alpha: 1.200010, grad mean: 44.838566\n",
            "Iter 36 - agent_1 lam: 1.200010, grad mean: 6.046434\n",
            "Iter 36 - agent_1 w_plus_prime_gamma: 0.500004, grad mean: 0.000002\n",
            "Iter 36 - agent_1 w_minus_prime_gamma: 0.689990, grad mean: 127.775803\n"
          ]
        },
        {
          "output_type": "stream",
          "name": "stderr",
          "text": [
            "\repisode_reward_mean_agents = -255.61241149902344:  19%|█▉        | 38/200 [03:20<13:56,  5.16s/it]"
          ]
        },
        {
          "output_type": "stream",
          "name": "stdout",
          "text": [
            "Iter 37 - agent_0 alpha: 1.200010, grad mean: 66.466476\n",
            "Iter 37 - agent_0 lam: 1.500010, grad mean: 7.191311\n",
            "Iter 37 - agent_0 w_plus_prime_gamma: 0.500004, grad mean: 0.000002\n",
            "Iter 37 - agent_0 w_minus_prime_gamma: 0.689990, grad mean: 189.458771\n",
            "Iter 37 - agent_1 alpha: 1.200010, grad mean: 53.173138\n",
            "Iter 37 - agent_1 lam: 1.200010, grad mean: 7.191311\n",
            "Iter 37 - agent_1 w_plus_prime_gamma: 0.500004, grad mean: 0.000002\n",
            "Iter 37 - agent_1 w_minus_prime_gamma: 0.689990, grad mean: 151.567307\n"
          ]
        },
        {
          "output_type": "stream",
          "name": "stderr",
          "text": [
            "\repisode_reward_mean_agents = -321.934326171875:  20%|█▉        | 39/200 [03:25<14:13,  5.30s/it]  "
          ]
        },
        {
          "output_type": "stream",
          "name": "stdout",
          "text": [
            "Iter 38 - agent_0 alpha: 1.200010, grad mean: 77.066063\n",
            "Iter 38 - agent_0 lam: 1.500010, grad mean: 8.349368\n",
            "Iter 38 - agent_0 w_plus_prime_gamma: 0.500004, grad mean: 0.000002\n",
            "Iter 38 - agent_0 w_minus_prime_gamma: 0.689990, grad mean: 219.711151\n",
            "Iter 38 - agent_1 alpha: 1.200010, grad mean: 61.652855\n",
            "Iter 38 - agent_1 lam: 1.200010, grad mean: 8.349368\n",
            "Iter 38 - agent_1 w_plus_prime_gamma: 0.500004, grad mean: 0.000002\n",
            "Iter 38 - agent_1 w_minus_prime_gamma: 0.689990, grad mean: 175.769241\n"
          ]
        },
        {
          "output_type": "stream",
          "name": "stderr",
          "text": [
            "\repisode_reward_mean_agents = -314.48101806640625:  20%|██        | 40/200 [03:30<13:53,  5.21s/it]"
          ]
        },
        {
          "output_type": "stream",
          "name": "stdout",
          "text": [
            "Iter 39 - agent_0 alpha: 1.200010, grad mean: 87.610199\n",
            "Iter 39 - agent_0 lam: 1.500010, grad mean: 9.502342\n",
            "Iter 39 - agent_0 w_plus_prime_gamma: 0.500004, grad mean: 0.000003\n",
            "Iter 39 - agent_0 w_minus_prime_gamma: 0.689990, grad mean: 249.866989\n",
            "Iter 39 - agent_1 alpha: 1.200010, grad mean: 70.088165\n",
            "Iter 39 - agent_1 lam: 1.200010, grad mean: 9.502342\n",
            "Iter 39 - agent_1 w_plus_prime_gamma: 0.500004, grad mean: 0.000003\n",
            "Iter 39 - agent_1 w_minus_prime_gamma: 0.689990, grad mean: 199.893936\n"
          ]
        },
        {
          "output_type": "stream",
          "name": "stderr",
          "text": [
            "\repisode_reward_mean_agents = -319.93218994140625:  20%|██        | 41/200 [03:36<14:01,  5.29s/it]"
          ]
        },
        {
          "output_type": "stream",
          "name": "stdout",
          "text": [
            "Iteration 40: Adaptive loss = 0.11997047066688538, dynamic factor = 4.227262496948242\n"
          ]
        },
        {
          "output_type": "stream",
          "name": "stderr",
          "text": [
            "\repisode_reward_mean_agents = -300.7047424316406:  21%|██        | 42/200 [03:41<13:32,  5.14s/it] "
          ]
        },
        {
          "output_type": "stream",
          "name": "stdout",
          "text": [
            "Iter 41 - agent_0 alpha: 1.200020, grad mean: 10.386022\n",
            "Iter 41 - agent_0 lam: 1.500020, grad mean: 1.149105\n",
            "Iter 41 - agent_0 w_plus_prime_gamma: 0.500008, grad mean: 0.000000\n",
            "Iter 41 - agent_0 w_minus_prime_gamma: 0.689980, grad mean: 29.850142\n",
            "Iter 41 - agent_1 alpha: 1.200020, grad mean: 8.308845\n",
            "Iter 41 - agent_1 lam: 1.200020, grad mean: 1.149105\n",
            "Iter 41 - agent_1 w_plus_prime_gamma: 0.500008, grad mean: 0.000000\n",
            "Iter 41 - agent_1 w_minus_prime_gamma: 0.689980, grad mean: 23.880194\n"
          ]
        },
        {
          "output_type": "stream",
          "name": "stderr",
          "text": [
            "\repisode_reward_mean_agents = -238.47683715820312:  22%|██▏       | 43/200 [03:46<13:45,  5.26s/it]"
          ]
        },
        {
          "output_type": "stream",
          "name": "stdout",
          "text": [
            "Iter 42 - agent_0 alpha: 1.200020, grad mean: 20.490887\n",
            "Iter 42 - agent_0 lam: 1.500020, grad mean: 2.261329\n",
            "Iter 42 - agent_0 w_plus_prime_gamma: 0.500008, grad mean: 0.000001\n",
            "Iter 42 - agent_0 w_minus_prime_gamma: 0.689980, grad mean: 58.877087\n",
            "Iter 42 - agent_1 alpha: 1.200020, grad mean: 16.392754\n",
            "Iter 42 - agent_1 lam: 1.200020, grad mean: 2.261329\n",
            "Iter 42 - agent_1 w_plus_prime_gamma: 0.500008, grad mean: 0.000001\n",
            "Iter 42 - agent_1 w_minus_prime_gamma: 0.689980, grad mean: 47.101814\n"
          ]
        },
        {
          "output_type": "stream",
          "name": "stderr",
          "text": [
            "\repisode_reward_mean_agents = -288.0360412597656:  22%|██▏       | 44/200 [03:51<13:18,  5.12s/it] "
          ]
        },
        {
          "output_type": "stream",
          "name": "stdout",
          "text": [
            "Iter 43 - agent_0 alpha: 1.200020, grad mean: 30.500572\n",
            "Iter 43 - agent_0 lam: 1.500020, grad mean: 3.368545\n",
            "Iter 43 - agent_0 w_plus_prime_gamma: 0.500008, grad mean: 0.000001\n",
            "Iter 43 - agent_0 w_minus_prime_gamma: 0.689980, grad mean: 87.679420\n",
            "Iter 43 - agent_1 alpha: 1.200020, grad mean: 24.400524\n",
            "Iter 43 - agent_1 lam: 1.200020, grad mean: 3.368545\n",
            "Iter 43 - agent_1 w_plus_prime_gamma: 0.500008, grad mean: 0.000001\n",
            "Iter 43 - agent_1 w_minus_prime_gamma: 0.689980, grad mean: 70.143799\n"
          ]
        },
        {
          "output_type": "stream",
          "name": "stderr",
          "text": [
            "\repisode_reward_mean_agents = -279.054443359375:  22%|██▎       | 45/200 [03:56<13:27,  5.21s/it] "
          ]
        },
        {
          "output_type": "stream",
          "name": "stdout",
          "text": [
            "Iter 44 - agent_0 alpha: 1.200020, grad mean: 40.317997\n",
            "Iter 44 - agent_0 lam: 1.500020, grad mean: 4.449492\n",
            "Iter 44 - agent_0 w_plus_prime_gamma: 0.500008, grad mean: 0.000001\n",
            "Iter 44 - agent_0 w_minus_prime_gamma: 0.689980, grad mean: 115.967316\n",
            "Iter 44 - agent_1 alpha: 1.200020, grad mean: 32.254482\n",
            "Iter 44 - agent_1 lam: 1.200020, grad mean: 4.449492\n",
            "Iter 44 - agent_1 w_plus_prime_gamma: 0.500008, grad mean: 0.000001\n",
            "Iter 44 - agent_1 w_minus_prime_gamma: 0.689980, grad mean: 92.774162\n"
          ]
        },
        {
          "output_type": "stream",
          "name": "stderr",
          "text": [
            "\repisode_reward_mean_agents = -318.0399169921875:  23%|██▎       | 46/200 [04:01<13:07,  5.12s/it]"
          ]
        },
        {
          "output_type": "stream",
          "name": "stdout",
          "text": [
            "Iter 45 - agent_0 alpha: 1.200020, grad mean: 50.042191\n",
            "Iter 45 - agent_0 lam: 1.500020, grad mean: 5.524855\n",
            "Iter 45 - agent_0 w_plus_prime_gamma: 0.500008, grad mean: 0.000001\n",
            "Iter 45 - agent_0 w_minus_prime_gamma: 0.689980, grad mean: 144.002106\n",
            "Iter 45 - agent_1 alpha: 1.200020, grad mean: 40.033863\n",
            "Iter 45 - agent_1 lam: 1.200020, grad mean: 5.524855\n",
            "Iter 45 - agent_1 w_plus_prime_gamma: 0.500008, grad mean: 0.000001\n",
            "Iter 45 - agent_1 w_minus_prime_gamma: 0.689980, grad mean: 115.202011\n"
          ]
        },
        {
          "output_type": "stream",
          "name": "stderr",
          "text": [
            "\repisode_reward_mean_agents = -371.1559753417969:  24%|██▎       | 47/200 [04:06<12:49,  5.03s/it]"
          ]
        },
        {
          "output_type": "stream",
          "name": "stdout",
          "text": [
            "Iter 46 - agent_0 alpha: 1.200020, grad mean: 59.497189\n",
            "Iter 46 - agent_0 lam: 1.500020, grad mean: 6.566241\n",
            "Iter 46 - agent_0 w_plus_prime_gamma: 0.500008, grad mean: 0.000002\n",
            "Iter 46 - agent_0 w_minus_prime_gamma: 0.689980, grad mean: 171.324677\n",
            "Iter 46 - agent_1 alpha: 1.200020, grad mean: 47.597900\n",
            "Iter 46 - agent_1 lam: 1.200020, grad mean: 6.566241\n",
            "Iter 46 - agent_1 w_plus_prime_gamma: 0.500008, grad mean: 0.000002\n",
            "Iter 46 - agent_1 w_minus_prime_gamma: 0.689980, grad mean: 137.060028\n"
          ]
        },
        {
          "output_type": "stream",
          "name": "stderr",
          "text": [
            "\repisode_reward_mean_agents = -355.0579528808594:  24%|██▍       | 48/200 [04:11<12:58,  5.12s/it]"
          ]
        },
        {
          "output_type": "stream",
          "name": "stdout",
          "text": [
            "Iter 47 - agent_0 alpha: 1.200020, grad mean: 68.926735\n",
            "Iter 47 - agent_0 lam: 1.500020, grad mean: 7.605945\n",
            "Iter 47 - agent_0 w_plus_prime_gamma: 0.500008, grad mean: 0.000002\n",
            "Iter 47 - agent_0 w_minus_prime_gamma: 0.689980, grad mean: 198.520905\n",
            "Iter 47 - agent_1 alpha: 1.200020, grad mean: 55.141560\n",
            "Iter 47 - agent_1 lam: 1.200020, grad mean: 7.605945\n",
            "Iter 47 - agent_1 w_plus_prime_gamma: 0.500008, grad mean: 0.000002\n",
            "Iter 47 - agent_1 w_minus_prime_gamma: 0.689980, grad mean: 158.816956\n"
          ]
        },
        {
          "output_type": "stream",
          "name": "stderr",
          "text": [
            "\repisode_reward_mean_agents = -374.4197692871094:  24%|██▍       | 49/200 [04:16<12:38,  5.02s/it]"
          ]
        },
        {
          "output_type": "stream",
          "name": "stdout",
          "text": [
            "Iter 48 - agent_0 alpha: 1.200020, grad mean: 78.045967\n",
            "Iter 48 - agent_0 lam: 1.500020, grad mean: 8.611871\n",
            "Iter 48 - agent_0 w_plus_prime_gamma: 0.500008, grad mean: 0.000002\n",
            "Iter 48 - agent_0 w_minus_prime_gamma: 0.689980, grad mean: 224.899231\n",
            "Iter 48 - agent_1 alpha: 1.200020, grad mean: 62.436932\n",
            "Iter 48 - agent_1 lam: 1.200020, grad mean: 8.611871\n",
            "Iter 48 - agent_1 w_plus_prime_gamma: 0.500008, grad mean: 0.000002\n",
            "Iter 48 - agent_1 w_minus_prime_gamma: 0.689980, grad mean: 179.919678\n"
          ]
        },
        {
          "output_type": "stream",
          "name": "stderr",
          "text": [
            "\repisode_reward_mean_agents = -337.7549743652344:  25%|██▌       | 50/200 [04:22<12:54,  5.16s/it]"
          ]
        },
        {
          "output_type": "stream",
          "name": "stdout",
          "text": [
            "Iter 49 - agent_0 alpha: 1.200020, grad mean: 86.743652\n",
            "Iter 49 - agent_0 lam: 1.500020, grad mean: 9.569551\n",
            "Iter 49 - agent_0 w_plus_prime_gamma: 0.500008, grad mean: 0.000003\n",
            "Iter 49 - agent_0 w_minus_prime_gamma: 0.689980, grad mean: 250.136337\n",
            "Iter 49 - agent_1 alpha: 1.200020, grad mean: 69.395073\n",
            "Iter 49 - agent_1 lam: 1.200020, grad mean: 9.569551\n",
            "Iter 49 - agent_1 w_plus_prime_gamma: 0.500008, grad mean: 0.000003\n",
            "Iter 49 - agent_1 w_minus_prime_gamma: 0.689980, grad mean: 200.109528\n"
          ]
        },
        {
          "output_type": "stream",
          "name": "stderr",
          "text": [
            "\repisode_reward_mean_agents = -355.4058837890625:  26%|██▌       | 51/200 [04:27<12:36,  5.08s/it]"
          ]
        },
        {
          "output_type": "stream",
          "name": "stdout",
          "text": [
            "Iteration 50: Adaptive loss = 0.24668258428573608, dynamic factor = 7.1450042724609375\n"
          ]
        },
        {
          "output_type": "stream",
          "name": "stderr",
          "text": [
            "\repisode_reward_mean_agents = -448.6462097167969:  26%|██▌       | 52/200 [04:32<12:35,  5.11s/it]"
          ]
        },
        {
          "output_type": "stream",
          "name": "stdout",
          "text": [
            "Iter 51 - agent_0 alpha: 1.200030, grad mean: 8.515456\n",
            "Iter 51 - agent_0 lam: 1.500030, grad mean: 0.931488\n",
            "Iter 51 - agent_0 w_plus_prime_gamma: 0.500013, grad mean: 0.000000\n",
            "Iter 51 - agent_0 w_minus_prime_gamma: 0.689970, grad mean: 24.697744\n",
            "Iter 51 - agent_1 alpha: 1.200030, grad mean: 6.812396\n",
            "Iter 51 - agent_1 lam: 1.200030, grad mean: 0.931488\n",
            "Iter 51 - agent_1 w_plus_prime_gamma: 0.500013, grad mean: 0.000000\n",
            "Iter 51 - agent_1 w_minus_prime_gamma: 0.689970, grad mean: 19.758291\n"
          ]
        },
        {
          "output_type": "stream",
          "name": "stderr",
          "text": [
            "\repisode_reward_mean_agents = -272.0198059082031:  26%|██▋       | 53/200 [04:37<12:35,  5.14s/it]"
          ]
        },
        {
          "output_type": "stream",
          "name": "stdout",
          "text": [
            "Iter 52 - agent_0 alpha: 1.200030, grad mean: 16.932806\n",
            "Iter 52 - agent_0 lam: 1.500030, grad mean: 1.863405\n",
            "Iter 52 - agent_0 w_plus_prime_gamma: 0.500013, grad mean: 0.000000\n",
            "Iter 52 - agent_0 w_minus_prime_gamma: 0.689970, grad mean: 49.045643\n",
            "Iter 52 - agent_1 alpha: 1.200030, grad mean: 13.546307\n",
            "Iter 52 - agent_1 lam: 1.200030, grad mean: 1.863405\n",
            "Iter 52 - agent_1 w_plus_prime_gamma: 0.500013, grad mean: 0.000000\n",
            "Iter 52 - agent_1 w_minus_prime_gamma: 0.689970, grad mean: 39.236660\n"
          ]
        },
        {
          "output_type": "stream",
          "name": "stderr",
          "text": [
            "\repisode_reward_mean_agents = -317.9395751953125:  27%|██▋       | 54/200 [04:42<12:20,  5.07s/it]"
          ]
        },
        {
          "output_type": "stream",
          "name": "stdout",
          "text": [
            "Iter 53 - agent_0 alpha: 1.200030, grad mean: 24.881948\n",
            "Iter 53 - agent_0 lam: 1.500030, grad mean: 2.733007\n",
            "Iter 53 - agent_0 w_plus_prime_gamma: 0.500013, grad mean: 0.000001\n",
            "Iter 53 - agent_0 w_minus_prime_gamma: 0.689970, grad mean: 72.190193\n",
            "Iter 53 - agent_1 alpha: 1.200030, grad mean: 19.905655\n",
            "Iter 53 - agent_1 lam: 1.200030, grad mean: 2.733007\n",
            "Iter 53 - agent_1 w_plus_prime_gamma: 0.500013, grad mean: 0.000001\n",
            "Iter 53 - agent_1 w_minus_prime_gamma: 0.689970, grad mean: 57.752392\n"
          ]
        },
        {
          "output_type": "stream",
          "name": "stderr",
          "text": [
            "\repisode_reward_mean_agents = -312.3946228027344:  28%|██▊       | 55/200 [04:47<12:36,  5.22s/it]"
          ]
        },
        {
          "output_type": "stream",
          "name": "stdout",
          "text": [
            "Iter 54 - agent_0 alpha: 1.200030, grad mean: 32.965450\n",
            "Iter 54 - agent_0 lam: 1.500030, grad mean: 3.623982\n",
            "Iter 54 - agent_0 w_plus_prime_gamma: 0.500013, grad mean: 0.000001\n",
            "Iter 54 - agent_0 w_minus_prime_gamma: 0.689970, grad mean: 95.635643\n",
            "Iter 54 - agent_1 alpha: 1.200030, grad mean: 26.372494\n",
            "Iter 54 - agent_1 lam: 1.200030, grad mean: 3.623982\n",
            "Iter 54 - agent_1 w_plus_prime_gamma: 0.500013, grad mean: 0.000001\n",
            "Iter 54 - agent_1 w_minus_prime_gamma: 0.689970, grad mean: 76.508820\n"
          ]
        },
        {
          "output_type": "stream",
          "name": "stderr",
          "text": [
            "\repisode_reward_mean_agents = -357.883056640625:  28%|██▊       | 56/200 [04:52<12:10,  5.07s/it] "
          ]
        },
        {
          "output_type": "stream",
          "name": "stdout",
          "text": [
            "Iter 55 - agent_0 alpha: 1.200030, grad mean: 40.807468\n",
            "Iter 55 - agent_0 lam: 1.500030, grad mean: 4.488925\n",
            "Iter 55 - agent_0 w_plus_prime_gamma: 0.500013, grad mean: 0.000001\n",
            "Iter 55 - agent_0 w_minus_prime_gamma: 0.689970, grad mean: 118.436722\n",
            "Iter 55 - agent_1 alpha: 1.200030, grad mean: 32.646122\n",
            "Iter 55 - agent_1 lam: 1.200030, grad mean: 4.488925\n",
            "Iter 55 - agent_1 w_plus_prime_gamma: 0.500013, grad mean: 0.000001\n",
            "Iter 55 - agent_1 w_minus_prime_gamma: 0.689970, grad mean: 94.749771\n"
          ]
        },
        {
          "output_type": "stream",
          "name": "stderr",
          "text": [
            "\repisode_reward_mean_agents = -337.53857421875:  28%|██▊       | 57/200 [04:57<12:18,  5.16s/it] "
          ]
        },
        {
          "output_type": "stream",
          "name": "stdout",
          "text": [
            "Iter 56 - agent_0 alpha: 1.200030, grad mean: 48.618286\n",
            "Iter 56 - agent_0 lam: 1.500030, grad mean: 5.352906\n",
            "Iter 56 - agent_0 w_plus_prime_gamma: 0.500013, grad mean: 0.000001\n",
            "Iter 56 - agent_0 w_minus_prime_gamma: 0.689970, grad mean: 141.241959\n",
            "Iter 56 - agent_1 alpha: 1.200030, grad mean: 38.894810\n",
            "Iter 56 - agent_1 lam: 1.200030, grad mean: 5.352906\n",
            "Iter 56 - agent_1 w_plus_prime_gamma: 0.500013, grad mean: 0.000001\n",
            "Iter 56 - agent_1 w_minus_prime_gamma: 0.689970, grad mean: 112.994011\n"
          ]
        },
        {
          "output_type": "stream",
          "name": "stderr",
          "text": [
            "\repisode_reward_mean_agents = -318.4130554199219:  29%|██▉       | 58/200 [05:02<11:59,  5.07s/it]"
          ]
        },
        {
          "output_type": "stream",
          "name": "stdout",
          "text": [
            "Iter 57 - agent_0 alpha: 1.200030, grad mean: 56.291779\n",
            "Iter 57 - agent_0 lam: 1.500030, grad mean: 6.198269\n",
            "Iter 57 - agent_0 w_plus_prime_gamma: 0.500013, grad mean: 0.000002\n",
            "Iter 57 - agent_0 w_minus_prime_gamma: 0.689970, grad mean: 163.587112\n",
            "Iter 57 - agent_1 alpha: 1.200030, grad mean: 45.033627\n",
            "Iter 57 - agent_1 lam: 1.200030, grad mean: 6.198269\n",
            "Iter 57 - agent_1 w_plus_prime_gamma: 0.500013, grad mean: 0.000002\n",
            "Iter 57 - agent_1 w_minus_prime_gamma: 0.689970, grad mean: 130.870209\n"
          ]
        },
        {
          "output_type": "stream",
          "name": "stderr",
          "text": [
            "\repisode_reward_mean_agents = -303.0152893066406:  30%|██▉       | 59/200 [05:07<11:53,  5.06s/it]"
          ]
        },
        {
          "output_type": "stream",
          "name": "stdout",
          "text": [
            "Iter 58 - agent_0 alpha: 1.200030, grad mean: 63.793659\n",
            "Iter 58 - agent_0 lam: 1.500030, grad mean: 7.028088\n",
            "Iter 58 - agent_0 w_plus_prime_gamma: 0.500013, grad mean: 0.000002\n",
            "Iter 58 - agent_0 w_minus_prime_gamma: 0.689970, grad mean: 185.501877\n",
            "Iter 58 - agent_1 alpha: 1.200030, grad mean: 51.035164\n",
            "Iter 58 - agent_1 lam: 1.200030, grad mean: 7.028088\n",
            "Iter 58 - agent_1 w_plus_prime_gamma: 0.500013, grad mean: 0.000002\n",
            "Iter 58 - agent_1 w_minus_prime_gamma: 0.689970, grad mean: 148.402100\n"
          ]
        },
        {
          "output_type": "stream",
          "name": "stderr",
          "text": [
            "\repisode_reward_mean_agents = -415.1454772949219:  30%|███       | 60/200 [05:13<11:58,  5.13s/it]"
          ]
        },
        {
          "output_type": "stream",
          "name": "stdout",
          "text": [
            "Iter 59 - agent_0 alpha: 1.200030, grad mean: 71.297203\n",
            "Iter 59 - agent_0 lam: 1.500030, grad mean: 7.855323\n",
            "Iter 59 - agent_0 w_plus_prime_gamma: 0.500013, grad mean: 0.000002\n",
            "Iter 59 - agent_0 w_minus_prime_gamma: 0.689970, grad mean: 207.355560\n",
            "Iter 59 - agent_1 alpha: 1.200030, grad mean: 57.038044\n",
            "Iter 59 - agent_1 lam: 1.200030, grad mean: 7.855323\n",
            "Iter 59 - agent_1 w_plus_prime_gamma: 0.500013, grad mean: 0.000002\n",
            "Iter 59 - agent_1 w_minus_prime_gamma: 0.689970, grad mean: 165.885010\n"
          ]
        },
        {
          "output_type": "stream",
          "name": "stderr",
          "text": [
            "\repisode_reward_mean_agents = -420.90869140625:  30%|███       | 61/200 [05:18<11:42,  5.06s/it]  "
          ]
        },
        {
          "output_type": "stream",
          "name": "stdout",
          "text": [
            "Iteration 60: Adaptive loss = 0.1401955783367157, dynamic factor = 4.521968841552734\n"
          ]
        },
        {
          "output_type": "stream",
          "name": "stderr",
          "text": [
            "\repisode_reward_mean_agents = -369.1796569824219:  31%|███       | 62/200 [05:23<11:55,  5.19s/it]"
          ]
        },
        {
          "output_type": "stream",
          "name": "stdout",
          "text": [
            "Iter 61 - agent_0 alpha: 1.200040, grad mean: 7.230236\n",
            "Iter 61 - agent_0 lam: 1.500040, grad mean: 0.800629\n",
            "Iter 61 - agent_0 w_plus_prime_gamma: 0.500017, grad mean: 0.000000\n",
            "Iter 61 - agent_0 w_minus_prime_gamma: 0.689960, grad mean: 21.130188\n",
            "Iter 61 - agent_1 alpha: 1.200040, grad mean: 5.784224\n",
            "Iter 61 - agent_1 lam: 1.200040, grad mean: 0.800629\n",
            "Iter 61 - agent_1 w_plus_prime_gamma: 0.500017, grad mean: 0.000000\n",
            "Iter 61 - agent_1 w_minus_prime_gamma: 0.689960, grad mean: 16.904268\n"
          ]
        },
        {
          "output_type": "stream",
          "name": "stderr",
          "text": [
            "\repisode_reward_mean_agents = -477.0048522949219:  32%|███▏      | 63/200 [05:28<11:38,  5.10s/it]"
          ]
        },
        {
          "output_type": "stream",
          "name": "stdout",
          "text": [
            "Iter 62 - agent_0 alpha: 1.200040, grad mean: 14.286224\n",
            "Iter 62 - agent_0 lam: 1.500040, grad mean: 1.577875\n",
            "Iter 62 - agent_0 w_plus_prime_gamma: 0.500017, grad mean: 0.000000\n",
            "Iter 62 - agent_0 w_minus_prime_gamma: 0.689960, grad mean: 41.771271\n",
            "Iter 62 - agent_1 alpha: 1.200040, grad mean: 11.429055\n",
            "Iter 62 - agent_1 lam: 1.200040, grad mean: 1.577875\n",
            "Iter 62 - agent_1 w_plus_prime_gamma: 0.500017, grad mean: 0.000000\n",
            "Iter 62 - agent_1 w_minus_prime_gamma: 0.689960, grad mean: 33.417271\n"
          ]
        },
        {
          "output_type": "stream",
          "name": "stderr",
          "text": [
            "\repisode_reward_mean_agents = -352.9727783203125:  32%|███▏      | 64/200 [05:33<11:45,  5.19s/it]"
          ]
        },
        {
          "output_type": "stream",
          "name": "stdout",
          "text": [
            "Iter 63 - agent_0 alpha: 1.200040, grad mean: 21.538687\n",
            "Iter 63 - agent_0 lam: 1.500040, grad mean: 2.381887\n",
            "Iter 63 - agent_0 w_plus_prime_gamma: 0.500017, grad mean: 0.000001\n",
            "Iter 63 - agent_0 w_minus_prime_gamma: 0.689960, grad mean: 62.947418\n",
            "Iter 63 - agent_1 alpha: 1.200040, grad mean: 17.231071\n",
            "Iter 63 - agent_1 lam: 1.200040, grad mean: 2.381887\n",
            "Iter 63 - agent_1 w_plus_prime_gamma: 0.500017, grad mean: 0.000001\n",
            "Iter 63 - agent_1 w_minus_prime_gamma: 0.689960, grad mean: 50.358311\n"
          ]
        },
        {
          "output_type": "stream",
          "name": "stderr",
          "text": [
            "\repisode_reward_mean_agents = -380.178466796875:  32%|███▎      | 65/200 [05:38<11:31,  5.13s/it] "
          ]
        },
        {
          "output_type": "stream",
          "name": "stdout",
          "text": [
            "Iter 64 - agent_0 alpha: 1.200040, grad mean: 28.579020\n",
            "Iter 64 - agent_0 lam: 1.500040, grad mean: 3.155495\n",
            "Iter 64 - agent_0 w_plus_prime_gamma: 0.500017, grad mean: 0.000001\n",
            "Iter 64 - agent_0 w_minus_prime_gamma: 0.689960, grad mean: 83.549347\n",
            "Iter 64 - agent_1 alpha: 1.200040, grad mean: 22.863369\n",
            "Iter 64 - agent_1 lam: 1.200040, grad mean: 3.155495\n",
            "Iter 64 - agent_1 w_plus_prime_gamma: 0.500017, grad mean: 0.000001\n",
            "Iter 64 - agent_1 w_minus_prime_gamma: 0.689960, grad mean: 66.839928\n"
          ]
        },
        {
          "output_type": "stream",
          "name": "stderr",
          "text": [
            "\repisode_reward_mean_agents = -424.1358337402344:  33%|███▎      | 66/200 [05:43<11:27,  5.13s/it]"
          ]
        },
        {
          "output_type": "stream",
          "name": "stdout",
          "text": [
            "Iter 65 - agent_0 alpha: 1.200040, grad mean: 35.192211\n",
            "Iter 65 - agent_0 lam: 1.500040, grad mean: 3.885060\n",
            "Iter 65 - agent_0 w_plus_prime_gamma: 0.500017, grad mean: 0.000001\n",
            "Iter 65 - agent_0 w_minus_prime_gamma: 0.689960, grad mean: 102.944466\n",
            "Iter 65 - agent_1 alpha: 1.200040, grad mean: 28.153973\n",
            "Iter 65 - agent_1 lam: 1.200040, grad mean: 3.885060\n",
            "Iter 65 - agent_1 w_plus_prime_gamma: 0.500017, grad mean: 0.000001\n",
            "Iter 65 - agent_1 w_minus_prime_gamma: 0.689960, grad mean: 82.356163\n"
          ]
        },
        {
          "output_type": "stream",
          "name": "stderr",
          "text": [
            "\repisode_reward_mean_agents = -630.3722534179688:  34%|███▎      | 67/200 [05:49<11:36,  5.24s/it]"
          ]
        },
        {
          "output_type": "stream",
          "name": "stdout",
          "text": [
            "Iter 66 - agent_0 alpha: 1.200040, grad mean: 41.901543\n",
            "Iter 66 - agent_0 lam: 1.500040, grad mean: 4.617319\n",
            "Iter 66 - agent_0 w_plus_prime_gamma: 0.500017, grad mean: 0.000001\n",
            "Iter 66 - agent_0 w_minus_prime_gamma: 0.689960, grad mean: 122.557457\n",
            "Iter 66 - agent_1 alpha: 1.200040, grad mean: 33.521477\n",
            "Iter 66 - agent_1 lam: 1.200040, grad mean: 4.617319\n",
            "Iter 66 - agent_1 w_plus_prime_gamma: 0.500017, grad mean: 0.000001\n",
            "Iter 66 - agent_1 w_minus_prime_gamma: 0.689960, grad mean: 98.046684\n"
          ]
        },
        {
          "output_type": "stream",
          "name": "stderr",
          "text": [
            "\repisode_reward_mean_agents = -378.7799987792969:  34%|███▍      | 68/200 [05:54<11:16,  5.12s/it]"
          ]
        },
        {
          "output_type": "stream",
          "name": "stdout",
          "text": [
            "Iter 67 - agent_0 alpha: 1.200040, grad mean: 48.574947\n",
            "Iter 67 - agent_0 lam: 1.500040, grad mean: 5.349730\n",
            "Iter 67 - agent_0 w_plus_prime_gamma: 0.500017, grad mean: 0.000002\n",
            "Iter 67 - agent_0 w_minus_prime_gamma: 0.689960, grad mean: 142.080902\n",
            "Iter 67 - agent_1 alpha: 1.200040, grad mean: 38.860245\n",
            "Iter 67 - agent_1 lam: 1.200040, grad mean: 5.349730\n",
            "Iter 67 - agent_1 w_plus_prime_gamma: 0.500017, grad mean: 0.000002\n",
            "Iter 67 - agent_1 w_minus_prime_gamma: 0.689960, grad mean: 113.665512\n"
          ]
        },
        {
          "output_type": "stream",
          "name": "stderr",
          "text": [
            "\repisode_reward_mean_agents = -507.8124084472656:  34%|███▍      | 69/200 [05:59<11:24,  5.23s/it]"
          ]
        },
        {
          "output_type": "stream",
          "name": "stdout",
          "text": [
            "Iter 68 - agent_0 alpha: 1.200040, grad mean: 55.214214\n",
            "Iter 68 - agent_0 lam: 1.500040, grad mean: 6.073960\n",
            "Iter 68 - agent_0 w_plus_prime_gamma: 0.500017, grad mean: 0.000002\n",
            "Iter 68 - agent_0 w_minus_prime_gamma: 0.689960, grad mean: 161.449600\n",
            "Iter 68 - agent_1 alpha: 1.200040, grad mean: 44.171703\n",
            "Iter 68 - agent_1 lam: 1.200040, grad mean: 6.073960\n",
            "Iter 68 - agent_1 w_plus_prime_gamma: 0.500017, grad mean: 0.000002\n",
            "Iter 68 - agent_1 w_minus_prime_gamma: 0.689960, grad mean: 129.160645\n"
          ]
        },
        {
          "output_type": "stream",
          "name": "stderr",
          "text": [
            "\repisode_reward_mean_agents = -586.3829956054688:  35%|███▌      | 70/200 [06:04<11:02,  5.10s/it]"
          ]
        },
        {
          "output_type": "stream",
          "name": "stdout",
          "text": [
            "Iter 69 - agent_0 alpha: 1.200040, grad mean: 61.961433\n",
            "Iter 69 - agent_0 lam: 1.500040, grad mean: 6.814203\n",
            "Iter 69 - agent_0 w_plus_prime_gamma: 0.500017, grad mean: 0.000002\n",
            "Iter 69 - agent_0 w_minus_prime_gamma: 0.689960, grad mean: 181.175171\n",
            "Iter 69 - agent_1 alpha: 1.200040, grad mean: 49.569534\n",
            "Iter 69 - agent_1 lam: 1.200040, grad mean: 6.814203\n",
            "Iter 69 - agent_1 w_plus_prime_gamma: 0.500017, grad mean: 0.000002\n",
            "Iter 69 - agent_1 w_minus_prime_gamma: 0.689960, grad mean: 144.941223\n"
          ]
        },
        {
          "output_type": "stream",
          "name": "stderr",
          "text": [
            "\repisode_reward_mean_agents = -447.7021179199219:  36%|███▌      | 71/200 [06:09<11:04,  5.15s/it]"
          ]
        },
        {
          "output_type": "stream",
          "name": "stdout",
          "text": [
            "Iteration 70: Adaptive loss = 0.11009025573730469, dynamic factor = 3.920167922973633\n"
          ]
        },
        {
          "output_type": "stream",
          "name": "stderr",
          "text": [
            "\repisode_reward_mean_agents = -326.92181396484375:  36%|███▌      | 72/200 [06:14<10:53,  5.10s/it]"
          ]
        },
        {
          "output_type": "stream",
          "name": "stdout",
          "text": [
            "Iter 71 - agent_0 alpha: 1.200050, grad mean: 6.362128\n",
            "Iter 71 - agent_0 lam: 1.500050, grad mean: 0.698711\n",
            "Iter 71 - agent_0 w_plus_prime_gamma: 0.500021, grad mean: 0.000000\n",
            "Iter 71 - agent_0 w_minus_prime_gamma: 0.689950, grad mean: 18.608772\n",
            "Iter 71 - agent_1 alpha: 1.200050, grad mean: 5.089746\n",
            "Iter 71 - agent_1 lam: 1.200050, grad mean: 0.698711\n",
            "Iter 71 - agent_1 w_plus_prime_gamma: 0.500021, grad mean: 0.000000\n",
            "Iter 71 - agent_1 w_minus_prime_gamma: 0.689950, grad mean: 14.887146\n"
          ]
        },
        {
          "output_type": "stream",
          "name": "stderr",
          "text": [
            "\repisode_reward_mean_agents = -469.6686706542969:  36%|███▋      | 73/200 [06:19<10:40,  5.04s/it] "
          ]
        },
        {
          "output_type": "stream",
          "name": "stdout",
          "text": [
            "Iter 72 - agent_0 alpha: 1.200050, grad mean: 12.841614\n",
            "Iter 72 - agent_0 lam: 1.500050, grad mean: 1.408205\n",
            "Iter 72 - agent_0 w_plus_prime_gamma: 0.500021, grad mean: 0.000000\n",
            "Iter 72 - agent_0 w_minus_prime_gamma: 0.689950, grad mean: 37.518902\n",
            "Iter 72 - agent_1 alpha: 1.200050, grad mean: 10.273374\n",
            "Iter 72 - agent_1 lam: 1.200050, grad mean: 1.408205\n",
            "Iter 72 - agent_1 w_plus_prime_gamma: 0.500021, grad mean: 0.000000\n",
            "Iter 72 - agent_1 w_minus_prime_gamma: 0.689950, grad mean: 30.015371\n"
          ]
        },
        {
          "output_type": "stream",
          "name": "stderr",
          "text": [
            "\repisode_reward_mean_agents = -359.318359375:  37%|███▋      | 74/200 [06:25<10:54,  5.19s/it]    "
          ]
        },
        {
          "output_type": "stream",
          "name": "stdout",
          "text": [
            "Iter 73 - agent_0 alpha: 1.200050, grad mean: 19.161951\n",
            "Iter 73 - agent_0 lam: 1.500050, grad mean: 2.094408\n",
            "Iter 73 - agent_0 w_plus_prime_gamma: 0.500021, grad mean: 0.000001\n",
            "Iter 73 - agent_0 w_minus_prime_gamma: 0.689950, grad mean: 55.980244\n",
            "Iter 73 - agent_1 alpha: 1.200050, grad mean: 15.329679\n",
            "Iter 73 - agent_1 lam: 1.200050, grad mean: 2.094408\n",
            "Iter 73 - agent_1 w_plus_prime_gamma: 0.500021, grad mean: 0.000001\n",
            "Iter 73 - agent_1 w_minus_prime_gamma: 0.689950, grad mean: 44.784538\n"
          ]
        },
        {
          "output_type": "stream",
          "name": "stderr",
          "text": [
            "\repisode_reward_mean_agents = -447.9784851074219:  38%|███▊      | 75/200 [06:30<10:35,  5.09s/it]"
          ]
        },
        {
          "output_type": "stream",
          "name": "stdout",
          "text": [
            "Iter 74 - agent_0 alpha: 1.200050, grad mean: 25.475798\n",
            "Iter 74 - agent_0 lam: 1.500050, grad mean: 2.789035\n",
            "Iter 74 - agent_0 w_plus_prime_gamma: 0.500021, grad mean: 0.000001\n",
            "Iter 74 - agent_0 w_minus_prime_gamma: 0.689950, grad mean: 74.460030\n",
            "Iter 74 - agent_1 alpha: 1.200050, grad mean: 20.380808\n",
            "Iter 74 - agent_1 lam: 1.200050, grad mean: 2.789035\n",
            "Iter 74 - agent_1 w_plus_prime_gamma: 0.500021, grad mean: 0.000001\n",
            "Iter 74 - agent_1 w_minus_prime_gamma: 0.689950, grad mean: 59.568485\n"
          ]
        },
        {
          "output_type": "stream",
          "name": "stderr",
          "text": [
            "\repisode_reward_mean_agents = -417.88580322265625:  38%|███▊      | 76/200 [06:35<10:46,  5.21s/it]"
          ]
        },
        {
          "output_type": "stream",
          "name": "stdout",
          "text": [
            "Iter 75 - agent_0 alpha: 1.200050, grad mean: 31.997332\n",
            "Iter 75 - agent_0 lam: 1.500050, grad mean: 3.501812\n",
            "Iter 75 - agent_0 w_plus_prime_gamma: 0.500021, grad mean: 0.000001\n",
            "Iter 75 - agent_0 w_minus_prime_gamma: 0.689950, grad mean: 93.486740\n",
            "Iter 75 - agent_1 alpha: 1.200050, grad mean: 25.598082\n",
            "Iter 75 - agent_1 lam: 1.200050, grad mean: 3.501812\n",
            "Iter 75 - agent_1 w_plus_prime_gamma: 0.500021, grad mean: 0.000001\n",
            "Iter 75 - agent_1 w_minus_prime_gamma: 0.689950, grad mean: 74.790016\n"
          ]
        },
        {
          "output_type": "stream",
          "name": "stderr",
          "text": [
            "\repisode_reward_mean_agents = -466.9668884277344:  38%|███▊      | 77/200 [06:40<10:24,  5.08s/it] "
          ]
        },
        {
          "output_type": "stream",
          "name": "stdout",
          "text": [
            "Iter 76 - agent_0 alpha: 1.200050, grad mean: 38.538662\n",
            "Iter 76 - agent_0 lam: 1.500050, grad mean: 4.219863\n",
            "Iter 76 - agent_0 w_plus_prime_gamma: 0.500021, grad mean: 0.000001\n",
            "Iter 76 - agent_0 w_minus_prime_gamma: 0.689950, grad mean: 112.556763\n",
            "Iter 76 - agent_1 alpha: 1.200050, grad mean: 30.831190\n",
            "Iter 76 - agent_1 lam: 1.200050, grad mean: 4.219863\n",
            "Iter 76 - agent_1 w_plus_prime_gamma: 0.500021, grad mean: 0.000001\n",
            "Iter 76 - agent_1 w_minus_prime_gamma: 0.689950, grad mean: 90.046143\n"
          ]
        },
        {
          "output_type": "stream",
          "name": "stderr",
          "text": [
            "\repisode_reward_mean_agents = -408.792236328125:  39%|███▉      | 78/200 [06:45<10:21,  5.10s/it] "
          ]
        },
        {
          "output_type": "stream",
          "name": "stdout",
          "text": [
            "Iter 77 - agent_0 alpha: 1.200050, grad mean: 44.645416\n",
            "Iter 77 - agent_0 lam: 1.500050, grad mean: 4.884451\n",
            "Iter 77 - agent_0 w_plus_prime_gamma: 0.500021, grad mean: 0.000001\n",
            "Iter 77 - agent_0 w_minus_prime_gamma: 0.689950, grad mean: 130.486740\n",
            "Iter 77 - agent_1 alpha: 1.200050, grad mean: 35.716660\n",
            "Iter 77 - agent_1 lam: 1.200050, grad mean: 4.884451\n",
            "Iter 77 - agent_1 w_plus_prime_gamma: 0.500021, grad mean: 0.000001\n",
            "Iter 77 - agent_1 w_minus_prime_gamma: 0.689950, grad mean: 104.390259\n"
          ]
        },
        {
          "output_type": "stream",
          "name": "stderr",
          "text": [
            "\repisode_reward_mean_agents = -512.6492919921875:  40%|███▉      | 79/200 [06:50<10:19,  5.12s/it]"
          ]
        },
        {
          "output_type": "stream",
          "name": "stdout",
          "text": [
            "Iter 78 - agent_0 alpha: 1.200050, grad mean: 50.979336\n",
            "Iter 78 - agent_0 lam: 1.500050, grad mean: 5.584033\n",
            "Iter 78 - agent_0 w_plus_prime_gamma: 0.500021, grad mean: 0.000002\n",
            "Iter 78 - agent_0 w_minus_prime_gamma: 0.689950, grad mean: 148.882263\n",
            "Iter 78 - agent_1 alpha: 1.200050, grad mean: 40.783855\n",
            "Iter 78 - agent_1 lam: 1.200050, grad mean: 5.584033\n",
            "Iter 78 - agent_1 w_plus_prime_gamma: 0.500021, grad mean: 0.000002\n",
            "Iter 78 - agent_1 w_minus_prime_gamma: 0.689950, grad mean: 119.106857\n"
          ]
        },
        {
          "output_type": "stream",
          "name": "stderr",
          "text": [
            "\repisode_reward_mean_agents = -460.3768615722656:  40%|████      | 80/200 [06:55<10:07,  5.07s/it]"
          ]
        },
        {
          "output_type": "stream",
          "name": "stdout",
          "text": [
            "Iter 79 - agent_0 alpha: 1.200050, grad mean: 57.116764\n",
            "Iter 79 - agent_0 lam: 1.500050, grad mean: 6.250177\n",
            "Iter 79 - agent_0 w_plus_prime_gamma: 0.500021, grad mean: 0.000002\n",
            "Iter 79 - agent_0 w_minus_prime_gamma: 0.689950, grad mean: 166.856018\n",
            "Iter 79 - agent_1 alpha: 1.200050, grad mean: 45.693821\n",
            "Iter 79 - agent_1 lam: 1.200050, grad mean: 6.250177\n",
            "Iter 79 - agent_1 w_plus_prime_gamma: 0.500021, grad mean: 0.000002\n",
            "Iter 79 - agent_1 w_minus_prime_gamma: 0.689950, grad mean: 133.486053\n"
          ]
        },
        {
          "output_type": "stream",
          "name": "stderr",
          "text": [
            "\repisode_reward_mean_agents = -424.61846923828125:  40%|████      | 81/200 [07:01<10:14,  5.16s/it]"
          ]
        },
        {
          "output_type": "stream",
          "name": "stdout",
          "text": [
            "Iteration 80: Adaptive loss = 0.12108708918094635, dynamic factor = 5.035272598266602\n"
          ]
        },
        {
          "output_type": "stream",
          "name": "stderr",
          "text": [
            "\repisode_reward_mean_agents = -418.48297119140625:  41%|████      | 82/200 [07:05<09:56,  5.05s/it]"
          ]
        },
        {
          "output_type": "stream",
          "name": "stdout",
          "text": [
            "Iter 81 - agent_0 alpha: 1.200060, grad mean: 5.935126\n",
            "Iter 81 - agent_0 lam: 1.500060, grad mean: 0.644738\n",
            "Iter 81 - agent_0 w_plus_prime_gamma: 0.500026, grad mean: 0.000000\n",
            "Iter 81 - agent_0 w_minus_prime_gamma: 0.689940, grad mean: 17.344540\n",
            "Iter 81 - agent_1 alpha: 1.200060, grad mean: 4.748147\n",
            "Iter 81 - agent_1 lam: 1.200060, grad mean: 0.644738\n",
            "Iter 81 - agent_1 w_plus_prime_gamma: 0.500026, grad mean: 0.000000\n",
            "Iter 81 - agent_1 w_minus_prime_gamma: 0.689940, grad mean: 13.875780\n"
          ]
        },
        {
          "output_type": "stream",
          "name": "stderr",
          "text": [
            "\repisode_reward_mean_agents = -401.0982360839844:  42%|████▏     | 83/200 [07:11<10:08,  5.20s/it] "
          ]
        },
        {
          "output_type": "stream",
          "name": "stdout",
          "text": [
            "Iter 82 - agent_0 alpha: 1.200060, grad mean: 11.805928\n",
            "Iter 82 - agent_0 lam: 1.500060, grad mean: 1.285511\n",
            "Iter 82 - agent_0 w_plus_prime_gamma: 0.500026, grad mean: 0.000000\n",
            "Iter 82 - agent_0 w_minus_prime_gamma: 0.689940, grad mean: 34.511974\n",
            "Iter 82 - agent_1 alpha: 1.200060, grad mean: 9.444835\n",
            "Iter 82 - agent_1 lam: 1.200060, grad mean: 1.285511\n",
            "Iter 82 - agent_1 w_plus_prime_gamma: 0.500026, grad mean: 0.000000\n",
            "Iter 82 - agent_1 w_minus_prime_gamma: 0.689940, grad mean: 27.609859\n"
          ]
        },
        {
          "output_type": "stream",
          "name": "stderr",
          "text": [
            "\repisode_reward_mean_agents = -412.62017822265625:  42%|████▏     | 84/200 [07:16<09:52,  5.10s/it]"
          ]
        },
        {
          "output_type": "stream",
          "name": "stdout",
          "text": [
            "Iter 83 - agent_0 alpha: 1.200060, grad mean: 17.617725\n",
            "Iter 83 - agent_0 lam: 1.500060, grad mean: 1.919481\n",
            "Iter 83 - agent_0 w_plus_prime_gamma: 0.500026, grad mean: 0.000001\n",
            "Iter 83 - agent_0 w_minus_prime_gamma: 0.689940, grad mean: 51.500988\n",
            "Iter 83 - agent_1 alpha: 1.200060, grad mean: 14.094324\n",
            "Iter 83 - agent_1 lam: 1.200060, grad mean: 1.919481\n",
            "Iter 83 - agent_1 w_plus_prime_gamma: 0.500026, grad mean: 0.000001\n",
            "Iter 83 - agent_1 w_minus_prime_gamma: 0.689940, grad mean: 41.201214\n"
          ]
        },
        {
          "output_type": "stream",
          "name": "stderr",
          "text": [
            "\repisode_reward_mean_agents = -410.1794128417969:  42%|████▎     | 85/200 [07:21<09:46,  5.10s/it] "
          ]
        },
        {
          "output_type": "stream",
          "name": "stdout",
          "text": [
            "Iter 84 - agent_0 alpha: 1.200060, grad mean: 23.389612\n",
            "Iter 84 - agent_0 lam: 1.500060, grad mean: 2.550033\n",
            "Iter 84 - agent_0 w_plus_prime_gamma: 0.500026, grad mean: 0.000001\n",
            "Iter 84 - agent_0 w_minus_prime_gamma: 0.689940, grad mean: 68.369652\n",
            "Iter 84 - agent_1 alpha: 1.200060, grad mean: 18.711891\n",
            "Iter 84 - agent_1 lam: 1.200060, grad mean: 2.550033\n",
            "Iter 84 - agent_1 w_plus_prime_gamma: 0.500026, grad mean: 0.000001\n",
            "Iter 84 - agent_1 w_minus_prime_gamma: 0.689940, grad mean: 54.696281\n"
          ]
        },
        {
          "output_type": "stream",
          "name": "stderr",
          "text": [
            "\repisode_reward_mean_agents = -442.6257019042969:  43%|████▎     | 86/200 [07:26<09:46,  5.14s/it]"
          ]
        },
        {
          "output_type": "stream",
          "name": "stdout",
          "text": [
            "Iter 85 - agent_0 alpha: 1.200060, grad mean: 29.083750\n",
            "Iter 85 - agent_0 lam: 1.500060, grad mean: 3.171283\n",
            "Iter 85 - agent_0 w_plus_prime_gamma: 0.500026, grad mean: 0.000001\n",
            "Iter 85 - agent_0 w_minus_prime_gamma: 0.689940, grad mean: 84.977539\n",
            "Iter 85 - agent_1 alpha: 1.200060, grad mean: 23.267254\n",
            "Iter 85 - agent_1 lam: 1.200060, grad mean: 3.171283\n",
            "Iter 85 - agent_1 w_plus_prime_gamma: 0.500026, grad mean: 0.000001\n",
            "Iter 85 - agent_1 w_minus_prime_gamma: 0.689940, grad mean: 67.982704\n"
          ]
        },
        {
          "output_type": "stream",
          "name": "stderr",
          "text": [
            "\repisode_reward_mean_agents = -470.2922058105469:  44%|████▎     | 87/200 [07:32<09:54,  5.26s/it]"
          ]
        },
        {
          "output_type": "stream",
          "name": "stdout",
          "text": [
            "Iter 86 - agent_0 alpha: 1.200060, grad mean: 34.698456\n",
            "Iter 86 - agent_0 lam: 1.500060, grad mean: 3.782798\n",
            "Iter 86 - agent_0 w_plus_prime_gamma: 0.500026, grad mean: 0.000001\n",
            "Iter 86 - agent_0 w_minus_prime_gamma: 0.689940, grad mean: 101.454643\n",
            "Iter 86 - agent_1 alpha: 1.200060, grad mean: 27.759056\n",
            "Iter 86 - agent_1 lam: 1.200060, grad mean: 3.782798\n",
            "Iter 86 - agent_1 w_plus_prime_gamma: 0.500026, grad mean: 0.000001\n",
            "Iter 86 - agent_1 w_minus_prime_gamma: 0.689940, grad mean: 81.164566\n"
          ]
        },
        {
          "output_type": "stream",
          "name": "stderr",
          "text": [
            "\repisode_reward_mean_agents = -551.0076904296875:  44%|████▍     | 88/200 [07:37<09:54,  5.31s/it]"
          ]
        },
        {
          "output_type": "stream",
          "name": "stdout",
          "text": [
            "Iter 87 - agent_0 alpha: 1.200060, grad mean: 40.317486\n",
            "Iter 87 - agent_0 lam: 1.500060, grad mean: 4.400458\n",
            "Iter 87 - agent_0 w_plus_prime_gamma: 0.500026, grad mean: 0.000001\n",
            "Iter 87 - agent_0 w_minus_prime_gamma: 0.689940, grad mean: 117.862549\n",
            "Iter 87 - agent_1 alpha: 1.200060, grad mean: 32.254333\n",
            "Iter 87 - agent_1 lam: 1.200060, grad mean: 4.400458\n",
            "Iter 87 - agent_1 w_plus_prime_gamma: 0.500026, grad mean: 0.000001\n",
            "Iter 87 - agent_1 w_minus_prime_gamma: 0.689940, grad mean: 94.291039\n"
          ]
        },
        {
          "output_type": "stream",
          "name": "stderr",
          "text": [
            "\repisode_reward_mean_agents = -417.42901611328125:  44%|████▍     | 89/200 [07:42<09:36,  5.19s/it]"
          ]
        },
        {
          "output_type": "stream",
          "name": "stdout",
          "text": [
            "Iter 88 - agent_0 alpha: 1.200060, grad mean: 45.994343\n",
            "Iter 88 - agent_0 lam: 1.500060, grad mean: 5.017316\n",
            "Iter 88 - agent_0 w_plus_prime_gamma: 0.500026, grad mean: 0.000002\n",
            "Iter 88 - agent_0 w_minus_prime_gamma: 0.689940, grad mean: 134.465057\n",
            "Iter 88 - agent_1 alpha: 1.200060, grad mean: 36.795856\n",
            "Iter 88 - agent_1 lam: 1.200060, grad mean: 5.017316\n",
            "Iter 88 - agent_1 w_plus_prime_gamma: 0.500026, grad mean: 0.000002\n",
            "Iter 88 - agent_1 w_minus_prime_gamma: 0.689940, grad mean: 107.573250\n"
          ]
        },
        {
          "output_type": "stream",
          "name": "stderr",
          "text": [
            "\repisode_reward_mean_agents = -463.2416687011719:  45%|████▌     | 90/200 [07:47<09:39,  5.27s/it] "
          ]
        },
        {
          "output_type": "stream",
          "name": "stdout",
          "text": [
            "Iter 89 - agent_0 alpha: 1.200060, grad mean: 51.556026\n",
            "Iter 89 - agent_0 lam: 1.500060, grad mean: 5.620864\n",
            "Iter 89 - agent_0 w_plus_prime_gamma: 0.500026, grad mean: 0.000002\n",
            "Iter 89 - agent_0 w_minus_prime_gamma: 0.689940, grad mean: 150.733231\n",
            "Iter 89 - agent_1 alpha: 1.200060, grad mean: 41.245239\n",
            "Iter 89 - agent_1 lam: 1.200060, grad mean: 5.620864\n",
            "Iter 89 - agent_1 w_plus_prime_gamma: 0.500026, grad mean: 0.000002\n",
            "Iter 89 - agent_1 w_minus_prime_gamma: 0.689940, grad mean: 120.587868\n"
          ]
        },
        {
          "output_type": "stream",
          "name": "stderr",
          "text": [
            "\repisode_reward_mean_agents = -529.0089721679688:  46%|████▌     | 91/200 [07:52<09:24,  5.18s/it]"
          ]
        },
        {
          "output_type": "stream",
          "name": "stdout",
          "text": [
            "Iteration 90: Adaptive loss = 0.0380854532122612, dynamic factor = 1.6260757446289062\n"
          ]
        },
        {
          "output_type": "stream",
          "name": "stderr",
          "text": [
            "\repisode_reward_mean_agents = -577.2557983398438:  46%|████▌     | 92/200 [07:58<09:21,  5.19s/it]"
          ]
        },
        {
          "output_type": "stream",
          "name": "stdout",
          "text": [
            "Iter 91 - agent_0 alpha: 1.200070, grad mean: 5.452456\n",
            "Iter 91 - agent_0 lam: 1.500070, grad mean: 0.594885\n",
            "Iter 91 - agent_0 w_plus_prime_gamma: 0.500030, grad mean: 0.000000\n",
            "Iter 91 - agent_0 w_minus_prime_gamma: 0.689930, grad mean: 15.884701\n",
            "Iter 91 - agent_1 alpha: 1.200070, grad mean: 4.362017\n",
            "Iter 91 - agent_1 lam: 1.200070, grad mean: 0.594885\n",
            "Iter 91 - agent_1 w_plus_prime_gamma: 0.500030, grad mean: 0.000000\n",
            "Iter 91 - agent_1 w_minus_prime_gamma: 0.689930, grad mean: 12.707907\n"
          ]
        },
        {
          "output_type": "stream",
          "name": "stderr",
          "text": [
            "\repisode_reward_mean_agents = -517.7755126953125:  46%|████▋     | 93/200 [08:03<09:13,  5.17s/it]"
          ]
        },
        {
          "output_type": "stream",
          "name": "stdout",
          "text": [
            "Iter 92 - agent_0 alpha: 1.200070, grad mean: 10.734095\n",
            "Iter 92 - agent_0 lam: 1.500070, grad mean: 1.168421\n",
            "Iter 92 - agent_0 w_plus_prime_gamma: 0.500030, grad mean: 0.000000\n",
            "Iter 92 - agent_0 w_minus_prime_gamma: 0.689930, grad mean: 31.320860\n",
            "Iter 92 - agent_1 alpha: 1.200070, grad mean: 8.587378\n",
            "Iter 92 - agent_1 lam: 1.200070, grad mean: 1.168421\n",
            "Iter 92 - agent_1 w_plus_prime_gamma: 0.500030, grad mean: 0.000000\n",
            "Iter 92 - agent_1 w_minus_prime_gamma: 0.689930, grad mean: 25.056984\n"
          ]
        },
        {
          "output_type": "stream",
          "name": "stderr",
          "text": [
            "\repisode_reward_mean_agents = -550.9685668945312:  47%|████▋     | 94/200 [08:08<08:59,  5.09s/it]"
          ]
        },
        {
          "output_type": "stream",
          "name": "stdout",
          "text": [
            "Iter 93 - agent_0 alpha: 1.200070, grad mean: 16.114656\n",
            "Iter 93 - agent_0 lam: 1.500070, grad mean: 1.756913\n",
            "Iter 93 - agent_0 w_plus_prime_gamma: 0.500030, grad mean: 0.000001\n",
            "Iter 93 - agent_0 w_minus_prime_gamma: 0.689930, grad mean: 46.977329\n",
            "Iter 93 - agent_1 alpha: 1.200070, grad mean: 12.891881\n",
            "Iter 93 - agent_1 lam: 1.200070, grad mean: 1.756913\n",
            "Iter 93 - agent_1 w_plus_prime_gamma: 0.500030, grad mean: 0.000001\n",
            "Iter 93 - agent_1 w_minus_prime_gamma: 0.689930, grad mean: 37.582314\n"
          ]
        },
        {
          "output_type": "stream",
          "name": "stderr",
          "text": [
            "\repisode_reward_mean_agents = -412.01104736328125:  48%|████▊     | 95/200 [08:13<09:07,  5.21s/it]"
          ]
        },
        {
          "output_type": "stream",
          "name": "stdout",
          "text": [
            "Iter 94 - agent_0 alpha: 1.200070, grad mean: 21.296528\n",
            "Iter 94 - agent_0 lam: 1.500070, grad mean: 2.316514\n",
            "Iter 94 - agent_0 w_plus_prime_gamma: 0.500030, grad mean: 0.000001\n",
            "Iter 94 - agent_0 w_minus_prime_gamma: 0.689930, grad mean: 62.096981\n",
            "Iter 94 - agent_1 alpha: 1.200070, grad mean: 17.037432\n",
            "Iter 94 - agent_1 lam: 1.200070, grad mean: 2.316514\n",
            "Iter 94 - agent_1 w_plus_prime_gamma: 0.500030, grad mean: 0.000001\n",
            "Iter 94 - agent_1 w_minus_prime_gamma: 0.689930, grad mean: 49.678177\n"
          ]
        },
        {
          "output_type": "stream",
          "name": "stderr",
          "text": [
            "\repisode_reward_mean_agents = -515.1778564453125:  48%|████▊     | 96/200 [08:18<08:50,  5.11s/it] "
          ]
        },
        {
          "output_type": "stream",
          "name": "stdout",
          "text": [
            "Iter 95 - agent_0 alpha: 1.200070, grad mean: 26.480892\n",
            "Iter 95 - agent_0 lam: 1.500070, grad mean: 2.882269\n",
            "Iter 95 - agent_0 w_plus_prime_gamma: 0.500030, grad mean: 0.000001\n",
            "Iter 95 - agent_0 w_minus_prime_gamma: 0.689930, grad mean: 77.229347\n",
            "Iter 95 - agent_1 alpha: 1.200070, grad mean: 21.184969\n",
            "Iter 95 - agent_1 lam: 1.200070, grad mean: 2.882269\n",
            "Iter 95 - agent_1 w_plus_prime_gamma: 0.500030, grad mean: 0.000001\n",
            "Iter 95 - agent_1 w_minus_prime_gamma: 0.689930, grad mean: 61.784180\n"
          ]
        },
        {
          "output_type": "stream",
          "name": "stderr",
          "text": [
            "\repisode_reward_mean_agents = -566.5494384765625:  48%|████▊     | 97/200 [08:23<08:55,  5.20s/it]"
          ]
        },
        {
          "output_type": "stream",
          "name": "stdout",
          "text": [
            "Iter 96 - agent_0 alpha: 1.200070, grad mean: 31.468948\n",
            "Iter 96 - agent_0 lam: 1.500070, grad mean: 3.425303\n",
            "Iter 96 - agent_0 w_plus_prime_gamma: 0.500030, grad mean: 0.000001\n",
            "Iter 96 - agent_0 w_minus_prime_gamma: 0.689930, grad mean: 91.795120\n",
            "Iter 96 - agent_1 alpha: 1.200070, grad mean: 25.175470\n",
            "Iter 96 - agent_1 lam: 1.200070, grad mean: 3.425303\n",
            "Iter 96 - agent_1 w_plus_prime_gamma: 0.500030, grad mean: 0.000001\n",
            "Iter 96 - agent_1 w_minus_prime_gamma: 0.689930, grad mean: 73.436852\n"
          ]
        },
        {
          "output_type": "stream",
          "name": "stderr",
          "text": [
            "\repisode_reward_mean_agents = -368.44659423828125:  49%|████▉     | 98/200 [08:28<08:41,  5.11s/it]"
          ]
        },
        {
          "output_type": "stream",
          "name": "stdout",
          "text": [
            "Iter 97 - agent_0 alpha: 1.200070, grad mean: 36.652679\n",
            "Iter 97 - agent_0 lam: 1.500070, grad mean: 3.984512\n",
            "Iter 97 - agent_0 w_plus_prime_gamma: 0.500030, grad mean: 0.000001\n",
            "Iter 97 - agent_0 w_minus_prime_gamma: 0.689930, grad mean: 106.930634\n",
            "Iter 97 - agent_1 alpha: 1.200070, grad mean: 29.322481\n",
            "Iter 97 - agent_1 lam: 1.200070, grad mean: 3.984512\n",
            "Iter 97 - agent_1 w_plus_prime_gamma: 0.500030, grad mean: 0.000001\n",
            "Iter 97 - agent_1 w_minus_prime_gamma: 0.689930, grad mean: 85.545349\n"
          ]
        },
        {
          "output_type": "stream",
          "name": "stderr",
          "text": [
            "\repisode_reward_mean_agents = -496.5257873535156:  50%|████▉     | 99/200 [08:33<08:35,  5.11s/it] "
          ]
        },
        {
          "output_type": "stream",
          "name": "stdout",
          "text": [
            "Iter 98 - agent_0 alpha: 1.200070, grad mean: 41.870789\n",
            "Iter 98 - agent_0 lam: 1.500070, grad mean: 4.553684\n",
            "Iter 98 - agent_0 w_plus_prime_gamma: 0.500030, grad mean: 0.000001\n",
            "Iter 98 - agent_0 w_minus_prime_gamma: 0.689930, grad mean: 122.164642\n",
            "Iter 98 - agent_1 alpha: 1.200070, grad mean: 33.497005\n",
            "Iter 98 - agent_1 lam: 1.200070, grad mean: 4.553684\n",
            "Iter 98 - agent_1 w_plus_prime_gamma: 0.500030, grad mean: 0.000001\n",
            "Iter 98 - agent_1 w_minus_prime_gamma: 0.689930, grad mean: 97.732651\n"
          ]
        },
        {
          "output_type": "stream",
          "name": "stderr",
          "text": [
            "\repisode_reward_mean_agents = -615.3317260742188:  50%|█████     | 100/200 [08:39<08:37,  5.18s/it]"
          ]
        },
        {
          "output_type": "stream",
          "name": "stdout",
          "text": [
            "Iter 99 - agent_0 alpha: 1.200070, grad mean: 46.900673\n",
            "Iter 99 - agent_0 lam: 1.500070, grad mean: 5.107388\n",
            "Iter 99 - agent_0 w_plus_prime_gamma: 0.500030, grad mean: 0.000002\n",
            "Iter 99 - agent_0 w_minus_prime_gamma: 0.689930, grad mean: 136.803436\n",
            "Iter 99 - agent_1 alpha: 1.200070, grad mean: 37.520939\n",
            "Iter 99 - agent_1 lam: 1.200070, grad mean: 5.107388\n",
            "Iter 99 - agent_1 w_plus_prime_gamma: 0.500030, grad mean: 0.000002\n",
            "Iter 99 - agent_1 w_minus_prime_gamma: 0.689930, grad mean: 109.443863\n"
          ]
        },
        {
          "output_type": "stream",
          "name": "stderr",
          "text": [
            "\repisode_reward_mean_agents = -555.2200317382812:  50%|█████     | 101/200 [08:44<08:31,  5.17s/it]"
          ]
        },
        {
          "output_type": "stream",
          "name": "stdout",
          "text": [
            "Iteration 100: Adaptive loss = 0.043386079370975494, dynamic factor = 1.7918128967285156\n"
          ]
        },
        {
          "output_type": "stream",
          "name": "stderr",
          "text": [
            "\repisode_reward_mean_agents = -451.2821960449219:  51%|█████     | 102/200 [08:49<08:38,  5.29s/it]"
          ]
        },
        {
          "output_type": "stream",
          "name": "stdout",
          "text": [
            "Iter 101 - agent_0 alpha: 1.200080, grad mean: 5.014759\n",
            "Iter 101 - agent_0 lam: 1.500080, grad mean: 0.541438\n",
            "Iter 101 - agent_0 w_plus_prime_gamma: 0.500035, grad mean: 0.000000\n",
            "Iter 101 - agent_0 w_minus_prime_gamma: 0.689920, grad mean: 14.585978\n",
            "Iter 101 - agent_1 alpha: 1.200080, grad mean: 4.011861\n",
            "Iter 101 - agent_1 lam: 1.200080, grad mean: 0.541438\n",
            "Iter 101 - agent_1 w_plus_prime_gamma: 0.500035, grad mean: 0.000000\n",
            "Iter 101 - agent_1 w_minus_prime_gamma: 0.689920, grad mean: 11.668935\n"
          ]
        },
        {
          "output_type": "stream",
          "name": "stderr",
          "text": [
            "\repisode_reward_mean_agents = -495.6954040527344:  52%|█████▏    | 103/200 [08:54<08:21,  5.17s/it]"
          ]
        },
        {
          "output_type": "stream",
          "name": "stdout",
          "text": [
            "Iter 102 - agent_0 alpha: 1.200080, grad mean: 10.025071\n",
            "Iter 102 - agent_0 lam: 1.500080, grad mean: 1.089030\n",
            "Iter 102 - agent_0 w_plus_prime_gamma: 0.500035, grad mean: 0.000000\n",
            "Iter 102 - agent_0 w_minus_prime_gamma: 0.689920, grad mean: 29.167982\n",
            "Iter 102 - agent_1 alpha: 1.200080, grad mean: 8.020163\n",
            "Iter 102 - agent_1 lam: 1.200080, grad mean: 1.089030\n",
            "Iter 102 - agent_1 w_plus_prime_gamma: 0.500035, grad mean: 0.000000\n",
            "Iter 102 - agent_1 w_minus_prime_gamma: 0.689920, grad mean: 23.334696\n"
          ]
        },
        {
          "output_type": "stream",
          "name": "stderr",
          "text": [
            "\repisode_reward_mean_agents = -489.30078125:  52%|█████▏    | 104/200 [09:00<08:22,  5.24s/it]     "
          ]
        },
        {
          "output_type": "stream",
          "name": "stdout",
          "text": [
            "Iter 103 - agent_0 alpha: 1.200080, grad mean: 14.803215\n",
            "Iter 103 - agent_0 lam: 1.500080, grad mean: 1.609392\n",
            "Iter 103 - agent_0 w_plus_prime_gamma: 0.500035, grad mean: 0.000001\n",
            "Iter 103 - agent_0 w_minus_prime_gamma: 0.689920, grad mean: 43.102093\n",
            "Iter 103 - agent_1 alpha: 1.200080, grad mean: 11.842731\n",
            "Iter 103 - agent_1 lam: 1.200080, grad mean: 1.609392\n",
            "Iter 103 - agent_1 w_plus_prime_gamma: 0.500035, grad mean: 0.000001\n",
            "Iter 103 - agent_1 w_minus_prime_gamma: 0.689920, grad mean: 34.482117\n"
          ]
        },
        {
          "output_type": "stream",
          "name": "stderr",
          "text": [
            "\repisode_reward_mean_agents = -428.41192626953125:  52%|█████▎    | 105/200 [09:05<08:04,  5.10s/it]"
          ]
        },
        {
          "output_type": "stream",
          "name": "stdout",
          "text": [
            "Iter 104 - agent_0 alpha: 1.200080, grad mean: 19.491467\n",
            "Iter 104 - agent_0 lam: 1.500080, grad mean: 2.120522\n",
            "Iter 104 - agent_0 w_plus_prime_gamma: 0.500035, grad mean: 0.000001\n",
            "Iter 104 - agent_0 w_minus_prime_gamma: 0.689920, grad mean: 56.766273\n",
            "Iter 104 - agent_1 alpha: 1.200080, grad mean: 15.593376\n",
            "Iter 104 - agent_1 lam: 1.200080, grad mean: 2.120522\n",
            "Iter 104 - agent_1 w_plus_prime_gamma: 0.500035, grad mean: 0.000001\n",
            "Iter 104 - agent_1 w_minus_prime_gamma: 0.689920, grad mean: 45.413582\n"
          ]
        },
        {
          "output_type": "stream",
          "name": "stderr",
          "text": [
            "\repisode_reward_mean_agents = -477.3158264160156:  53%|█████▎    | 106/200 [09:10<08:02,  5.13s/it] "
          ]
        },
        {
          "output_type": "stream",
          "name": "stdout",
          "text": [
            "Iter 105 - agent_0 alpha: 1.200080, grad mean: 24.204271\n",
            "Iter 105 - agent_0 lam: 1.500080, grad mean: 2.629457\n",
            "Iter 105 - agent_0 w_plus_prime_gamma: 0.500035, grad mean: 0.000001\n",
            "Iter 105 - agent_0 w_minus_prime_gamma: 0.689920, grad mean: 70.490967\n",
            "Iter 105 - agent_1 alpha: 1.200080, grad mean: 19.363665\n",
            "Iter 105 - agent_1 lam: 1.200080, grad mean: 2.629457\n",
            "Iter 105 - agent_1 w_plus_prime_gamma: 0.500035, grad mean: 0.000001\n",
            "Iter 105 - agent_1 w_minus_prime_gamma: 0.689920, grad mean: 56.393467\n"
          ]
        },
        {
          "output_type": "stream",
          "name": "stderr",
          "text": [
            "\repisode_reward_mean_agents = -514.29345703125:  54%|█████▎    | 107/200 [09:15<07:59,  5.15s/it]  "
          ]
        },
        {
          "output_type": "stream",
          "name": "stdout",
          "text": [
            "Iter 106 - agent_0 alpha: 1.200080, grad mean: 28.836636\n",
            "Iter 106 - agent_0 lam: 1.500080, grad mean: 3.133185\n",
            "Iter 106 - agent_0 w_plus_prime_gamma: 0.500035, grad mean: 0.000001\n",
            "Iter 106 - agent_0 w_minus_prime_gamma: 0.689920, grad mean: 83.998734\n",
            "Iter 106 - agent_1 alpha: 1.200080, grad mean: 23.069609\n",
            "Iter 106 - agent_1 lam: 1.200080, grad mean: 3.133185\n",
            "Iter 106 - agent_1 w_plus_prime_gamma: 0.500035, grad mean: 0.000001\n",
            "Iter 106 - agent_1 w_minus_prime_gamma: 0.689920, grad mean: 67.199814\n"
          ]
        },
        {
          "output_type": "stream",
          "name": "stderr",
          "text": [
            "\repisode_reward_mean_agents = -559.6727294921875:  54%|█████▍    | 108/200 [09:20<07:46,  5.07s/it]"
          ]
        },
        {
          "output_type": "stream",
          "name": "stdout",
          "text": [
            "Iter 107 - agent_0 alpha: 1.200080, grad mean: 33.659527\n",
            "Iter 107 - agent_0 lam: 1.500080, grad mean: 3.650673\n",
            "Iter 107 - agent_0 w_plus_prime_gamma: 0.500035, grad mean: 0.000001\n",
            "Iter 107 - agent_0 w_minus_prime_gamma: 0.689920, grad mean: 98.027061\n",
            "Iter 107 - agent_1 alpha: 1.200080, grad mean: 26.927994\n",
            "Iter 107 - agent_1 lam: 1.200080, grad mean: 3.650673\n",
            "Iter 107 - agent_1 w_plus_prime_gamma: 0.500035, grad mean: 0.000001\n",
            "Iter 107 - agent_1 w_minus_prime_gamma: 0.689920, grad mean: 78.422623\n"
          ]
        },
        {
          "output_type": "stream",
          "name": "stderr",
          "text": [
            "\repisode_reward_mean_agents = -651.5548095703125:  55%|█████▍    | 109/200 [09:25<07:53,  5.20s/it]"
          ]
        },
        {
          "output_type": "stream",
          "name": "stdout",
          "text": [
            "Iter 108 - agent_0 alpha: 1.200080, grad mean: 38.371559\n",
            "Iter 108 - agent_0 lam: 1.500080, grad mean: 4.157896\n",
            "Iter 108 - agent_0 w_plus_prime_gamma: 0.500035, grad mean: 0.000001\n",
            "Iter 108 - agent_0 w_minus_prime_gamma: 0.689920, grad mean: 111.766136\n",
            "Iter 108 - agent_1 alpha: 1.200080, grad mean: 30.697687\n",
            "Iter 108 - agent_1 lam: 1.200080, grad mean: 4.157896\n",
            "Iter 108 - agent_1 w_plus_prime_gamma: 0.500035, grad mean: 0.000001\n",
            "Iter 108 - agent_1 w_minus_prime_gamma: 0.689920, grad mean: 89.414070\n"
          ]
        },
        {
          "output_type": "stream",
          "name": "stderr",
          "text": [
            "\repisode_reward_mean_agents = -556.8292846679688:  55%|█████▌    | 110/200 [09:30<07:37,  5.09s/it]"
          ]
        },
        {
          "output_type": "stream",
          "name": "stdout",
          "text": [
            "Iter 109 - agent_0 alpha: 1.200080, grad mean: 43.015743\n",
            "Iter 109 - agent_0 lam: 1.500080, grad mean: 4.655587\n",
            "Iter 109 - agent_0 w_plus_prime_gamma: 0.500035, grad mean: 0.000001\n",
            "Iter 109 - agent_0 w_minus_prime_gamma: 0.689920, grad mean: 125.289177\n",
            "Iter 109 - agent_1 alpha: 1.200080, grad mean: 34.413063\n",
            "Iter 109 - agent_1 lam: 1.200080, grad mean: 4.655587\n",
            "Iter 109 - agent_1 w_plus_prime_gamma: 0.500035, grad mean: 0.000001\n",
            "Iter 109 - agent_1 w_minus_prime_gamma: 0.689920, grad mean: 100.232658\n"
          ]
        },
        {
          "output_type": "stream",
          "name": "stderr",
          "text": [
            "\repisode_reward_mean_agents = -459.5697326660156:  56%|█████▌    | 111/200 [09:36<07:43,  5.21s/it]"
          ]
        },
        {
          "output_type": "stream",
          "name": "stdout",
          "text": [
            "Iteration 110: Adaptive loss = 0.23823411762714386, dynamic factor = 7.705181121826172\n"
          ]
        },
        {
          "output_type": "stream",
          "name": "stderr",
          "text": [
            "\repisode_reward_mean_agents = -607.139404296875:  56%|█████▌    | 112/200 [09:41<07:30,  5.11s/it] "
          ]
        },
        {
          "output_type": "stream",
          "name": "stdout",
          "text": [
            "Iter 111 - agent_0 alpha: 1.200090, grad mean: 4.567508\n",
            "Iter 111 - agent_0 lam: 1.500090, grad mean: 0.492185\n",
            "Iter 111 - agent_0 w_plus_prime_gamma: 0.500039, grad mean: 0.000000\n",
            "Iter 111 - agent_0 w_minus_prime_gamma: 0.689910, grad mean: 13.255944\n",
            "Iter 111 - agent_1 alpha: 1.200090, grad mean: 3.654060\n",
            "Iter 111 - agent_1 lam: 1.200090, grad mean: 0.492185\n",
            "Iter 111 - agent_1 w_plus_prime_gamma: 0.500039, grad mean: 0.000000\n",
            "Iter 111 - agent_1 w_minus_prime_gamma: 0.689910, grad mean: 10.604916\n"
          ]
        },
        {
          "output_type": "stream",
          "name": "stderr",
          "text": [
            "\repisode_reward_mean_agents = -503.860107421875:  56%|█████▋    | 113/200 [09:45<07:16,  5.01s/it]"
          ]
        },
        {
          "output_type": "stream",
          "name": "stdout",
          "text": [
            "Iter 112 - agent_0 alpha: 1.200090, grad mean: 9.151545\n",
            "Iter 112 - agent_0 lam: 1.500090, grad mean: 0.987114\n",
            "Iter 112 - agent_0 w_plus_prime_gamma: 0.500039, grad mean: 0.000000\n",
            "Iter 112 - agent_0 w_minus_prime_gamma: 0.689910, grad mean: 26.594702\n",
            "Iter 112 - agent_1 alpha: 1.200090, grad mean: 7.321340\n",
            "Iter 112 - agent_1 lam: 1.200090, grad mean: 0.987114\n",
            "Iter 112 - agent_1 w_plus_prime_gamma: 0.500039, grad mean: 0.000000\n",
            "Iter 112 - agent_1 w_minus_prime_gamma: 0.689910, grad mean: 21.276089\n"
          ]
        },
        {
          "output_type": "stream",
          "name": "stderr",
          "text": [
            "\repisode_reward_mean_agents = -551.3898315429688:  57%|█████▋    | 114/200 [09:51<07:26,  5.19s/it]"
          ]
        },
        {
          "output_type": "stream",
          "name": "stdout",
          "text": [
            "Iter 113 - agent_0 alpha: 1.200090, grad mean: 13.596696\n",
            "Iter 113 - agent_0 lam: 1.500090, grad mean: 1.464160\n",
            "Iter 113 - agent_0 w_plus_prime_gamma: 0.500039, grad mean: 0.000000\n",
            "Iter 113 - agent_0 w_minus_prime_gamma: 0.689910, grad mean: 39.505909\n",
            "Iter 113 - agent_1 alpha: 1.200090, grad mean: 10.877513\n",
            "Iter 113 - agent_1 lam: 1.200090, grad mean: 1.464160\n",
            "Iter 113 - agent_1 w_plus_prime_gamma: 0.500039, grad mean: 0.000000\n",
            "Iter 113 - agent_1 w_minus_prime_gamma: 0.689910, grad mean: 31.605207\n"
          ]
        },
        {
          "output_type": "stream",
          "name": "stderr",
          "text": [
            "\repisode_reward_mean_agents = -553.9404296875:  57%|█████▊    | 115/200 [09:56<07:15,  5.12s/it]   "
          ]
        },
        {
          "output_type": "stream",
          "name": "stdout",
          "text": [
            "Iter 114 - agent_0 alpha: 1.200090, grad mean: 18.057671\n",
            "Iter 114 - agent_0 lam: 1.500090, grad mean: 1.942760\n",
            "Iter 114 - agent_0 w_plus_prime_gamma: 0.500039, grad mean: 0.000001\n",
            "Iter 114 - agent_0 w_minus_prime_gamma: 0.689910, grad mean: 52.496548\n",
            "Iter 114 - agent_1 alpha: 1.200090, grad mean: 14.446347\n",
            "Iter 114 - agent_1 lam: 1.200090, grad mean: 1.942760\n",
            "Iter 114 - agent_1 w_plus_prime_gamma: 0.500039, grad mean: 0.000001\n",
            "Iter 114 - agent_1 w_minus_prime_gamma: 0.689910, grad mean: 41.997841\n"
          ]
        },
        {
          "output_type": "stream",
          "name": "stderr",
          "text": [
            "\repisode_reward_mean_agents = -574.9894409179688:  58%|█████▊    | 116/200 [10:01<07:17,  5.21s/it]"
          ]
        },
        {
          "output_type": "stream",
          "name": "stdout",
          "text": [
            "Iter 115 - agent_0 alpha: 1.200090, grad mean: 22.468330\n",
            "Iter 115 - agent_0 lam: 1.500090, grad mean: 2.418318\n",
            "Iter 115 - agent_0 w_plus_prime_gamma: 0.500039, grad mean: 0.000001\n",
            "Iter 115 - agent_0 w_minus_prime_gamma: 0.689910, grad mean: 65.361259\n",
            "Iter 115 - agent_1 alpha: 1.200090, grad mean: 17.974941\n",
            "Iter 115 - agent_1 lam: 1.200090, grad mean: 2.418318\n",
            "Iter 115 - agent_1 w_plus_prime_gamma: 0.500039, grad mean: 0.000001\n",
            "Iter 115 - agent_1 w_minus_prime_gamma: 0.689910, grad mean: 52.289764\n"
          ]
        },
        {
          "output_type": "stream",
          "name": "stderr",
          "text": [
            "\repisode_reward_mean_agents = -408.5033874511719:  58%|█████▊    | 117/200 [10:06<07:03,  5.11s/it]"
          ]
        },
        {
          "output_type": "stream",
          "name": "stdout",
          "text": [
            "Iter 116 - agent_0 alpha: 1.200090, grad mean: 26.949821\n",
            "Iter 116 - agent_0 lam: 1.500090, grad mean: 2.900784\n",
            "Iter 116 - agent_0 w_plus_prime_gamma: 0.500039, grad mean: 0.000001\n",
            "Iter 116 - agent_0 w_minus_prime_gamma: 0.689910, grad mean: 78.379173\n",
            "Iter 116 - agent_1 alpha: 1.200090, grad mean: 21.560188\n",
            "Iter 116 - agent_1 lam: 1.200090, grad mean: 2.900784\n",
            "Iter 116 - agent_1 w_plus_prime_gamma: 0.500039, grad mean: 0.000001\n",
            "Iter 116 - agent_1 w_minus_prime_gamma: 0.689910, grad mean: 62.704231\n"
          ]
        },
        {
          "output_type": "stream",
          "name": "stderr",
          "text": [
            "\repisode_reward_mean_agents = -498.8067932128906:  59%|█████▉    | 118/200 [10:12<07:08,  5.23s/it]"
          ]
        },
        {
          "output_type": "stream",
          "name": "stdout",
          "text": [
            "Iter 117 - agent_0 alpha: 1.200090, grad mean: 31.261475\n",
            "Iter 117 - agent_0 lam: 1.500090, grad mean: 3.352828\n",
            "Iter 117 - agent_0 w_plus_prime_gamma: 0.500039, grad mean: 0.000001\n",
            "Iter 117 - agent_0 w_minus_prime_gamma: 0.689910, grad mean: 90.924721\n",
            "Iter 117 - agent_1 alpha: 1.200090, grad mean: 25.009575\n",
            "Iter 117 - agent_1 lam: 1.200090, grad mean: 3.352828\n",
            "Iter 117 - agent_1 w_plus_prime_gamma: 0.500039, grad mean: 0.000001\n",
            "Iter 117 - agent_1 w_minus_prime_gamma: 0.689910, grad mean: 72.740799\n"
          ]
        },
        {
          "output_type": "stream",
          "name": "stderr",
          "text": [
            "\repisode_reward_mean_agents = -437.7371520996094:  60%|█████▉    | 119/200 [10:17<06:55,  5.13s/it]"
          ]
        },
        {
          "output_type": "stream",
          "name": "stdout",
          "text": [
            "Iter 118 - agent_0 alpha: 1.200090, grad mean: 35.707264\n",
            "Iter 118 - agent_0 lam: 1.500090, grad mean: 3.837846\n",
            "Iter 118 - agent_0 w_plus_prime_gamma: 0.500039, grad mean: 0.000001\n",
            "Iter 118 - agent_0 w_minus_prime_gamma: 0.689910, grad mean: 103.871941\n",
            "Iter 118 - agent_1 alpha: 1.200090, grad mean: 28.566256\n",
            "Iter 118 - agent_1 lam: 1.200090, grad mean: 3.837846\n",
            "Iter 118 - agent_1 w_plus_prime_gamma: 0.500039, grad mean: 0.000001\n",
            "Iter 118 - agent_1 w_minus_prime_gamma: 0.689910, grad mean: 83.098648\n"
          ]
        },
        {
          "output_type": "stream",
          "name": "stderr",
          "text": [
            "\repisode_reward_mean_agents = -507.44659423828125:  60%|██████    | 120/200 [10:21<06:42,  5.04s/it]"
          ]
        },
        {
          "output_type": "stream",
          "name": "stdout",
          "text": [
            "Iter 119 - agent_0 alpha: 1.200090, grad mean: 40.135235\n",
            "Iter 119 - agent_0 lam: 1.500090, grad mean: 4.310285\n",
            "Iter 119 - agent_0 w_plus_prime_gamma: 0.500039, grad mean: 0.000001\n",
            "Iter 119 - agent_0 w_minus_prime_gamma: 0.689910, grad mean: 116.746162\n",
            "Iter 119 - agent_1 alpha: 1.200090, grad mean: 32.108704\n",
            "Iter 119 - agent_1 lam: 1.200090, grad mean: 4.310285\n",
            "Iter 119 - agent_1 w_plus_prime_gamma: 0.500039, grad mean: 0.000001\n",
            "Iter 119 - agent_1 w_minus_prime_gamma: 0.689910, grad mean: 93.398163\n"
          ]
        },
        {
          "output_type": "stream",
          "name": "stderr",
          "text": [
            "\repisode_reward_mean_agents = -604.1290893554688:  60%|██████    | 121/200 [10:27<06:49,  5.19s/it] "
          ]
        },
        {
          "output_type": "stream",
          "name": "stdout",
          "text": [
            "Iteration 120: Adaptive loss = 0.04146668687462807, dynamic factor = 1.3271121978759766\n"
          ]
        },
        {
          "output_type": "stream",
          "name": "stderr",
          "text": [
            "\repisode_reward_mean_agents = -525.4503173828125:  61%|██████    | 122/200 [10:32<06:38,  5.11s/it]"
          ]
        },
        {
          "output_type": "stream",
          "name": "stdout",
          "text": [
            "Iter 121 - agent_0 alpha: 1.200100, grad mean: 4.415084\n",
            "Iter 121 - agent_0 lam: 1.500100, grad mean: 0.472417\n",
            "Iter 121 - agent_0 w_plus_prime_gamma: 0.500043, grad mean: 0.000000\n",
            "Iter 121 - agent_0 w_minus_prime_gamma: 0.689900, grad mean: 12.826773\n",
            "Iter 121 - agent_1 alpha: 1.200100, grad mean: 3.532125\n",
            "Iter 121 - agent_1 lam: 1.200100, grad mean: 0.472417\n",
            "Iter 121 - agent_1 w_plus_prime_gamma: 0.500043, grad mean: 0.000000\n",
            "Iter 121 - agent_1 w_minus_prime_gamma: 0.689900, grad mean: 10.261589\n"
          ]
        },
        {
          "output_type": "stream",
          "name": "stderr",
          "text": [
            "\repisode_reward_mean_agents = -474.22509765625:  62%|██████▏   | 123/200 [10:37<06:40,  5.20s/it]  "
          ]
        },
        {
          "output_type": "stream",
          "name": "stdout",
          "text": [
            "Iter 122 - agent_0 alpha: 1.200100, grad mean: 8.841757\n",
            "Iter 122 - agent_0 lam: 1.500100, grad mean: 0.946838\n",
            "Iter 122 - agent_0 w_plus_prime_gamma: 0.500043, grad mean: 0.000000\n",
            "Iter 122 - agent_0 w_minus_prime_gamma: 0.689900, grad mean: 25.679144\n",
            "Iter 122 - agent_1 alpha: 1.200100, grad mean: 7.073521\n",
            "Iter 122 - agent_1 lam: 1.200100, grad mean: 0.946838\n",
            "Iter 122 - agent_1 w_plus_prime_gamma: 0.500043, grad mean: 0.000000\n",
            "Iter 122 - agent_1 w_minus_prime_gamma: 0.689900, grad mean: 20.543646\n"
          ]
        },
        {
          "output_type": "stream",
          "name": "stderr",
          "text": [
            "\repisode_reward_mean_agents = -512.66259765625:  62%|██████▏   | 124/200 [10:42<06:26,  5.09s/it]"
          ]
        },
        {
          "output_type": "stream",
          "name": "stdout",
          "text": [
            "Iter 123 - agent_0 alpha: 1.200100, grad mean: 13.308562\n",
            "Iter 123 - agent_0 lam: 1.500100, grad mean: 1.426705\n",
            "Iter 123 - agent_0 w_plus_prime_gamma: 0.500043, grad mean: 0.000000\n",
            "Iter 123 - agent_0 w_minus_prime_gamma: 0.689900, grad mean: 38.644207\n",
            "Iter 123 - agent_1 alpha: 1.200100, grad mean: 10.647032\n",
            "Iter 123 - agent_1 lam: 1.200100, grad mean: 1.426705\n",
            "Iter 123 - agent_1 w_plus_prime_gamma: 0.500043, grad mean: 0.000000\n",
            "Iter 123 - agent_1 w_minus_prime_gamma: 0.689900, grad mean: 30.915840\n"
          ]
        },
        {
          "output_type": "stream",
          "name": "stderr",
          "text": [
            "\repisode_reward_mean_agents = -440.2720642089844:  62%|██████▎   | 125/200 [10:47<06:27,  5.16s/it]"
          ]
        },
        {
          "output_type": "stream",
          "name": "stdout",
          "text": [
            "Iter 124 - agent_0 alpha: 1.200100, grad mean: 17.780119\n",
            "Iter 124 - agent_0 lam: 1.500100, grad mean: 1.906802\n",
            "Iter 124 - agent_0 w_plus_prime_gamma: 0.500043, grad mean: 0.000001\n",
            "Iter 124 - agent_0 w_minus_prime_gamma: 0.689900, grad mean: 51.624695\n",
            "Iter 124 - agent_1 alpha: 1.200100, grad mean: 14.224334\n",
            "Iter 124 - agent_1 lam: 1.200100, grad mean: 1.906802\n",
            "Iter 124 - agent_1 w_plus_prime_gamma: 0.500043, grad mean: 0.000001\n",
            "Iter 124 - agent_1 w_minus_prime_gamma: 0.689900, grad mean: 41.300400\n"
          ]
        },
        {
          "output_type": "stream",
          "name": "stderr",
          "text": [
            "\repisode_reward_mean_agents = -449.84649658203125:  63%|██████▎   | 126/200 [10:53<06:21,  5.16s/it]"
          ]
        },
        {
          "output_type": "stream",
          "name": "stdout",
          "text": [
            "Iter 125 - agent_0 alpha: 1.200100, grad mean: 22.281151\n",
            "Iter 125 - agent_0 lam: 1.500100, grad mean: 2.388165\n",
            "Iter 125 - agent_0 w_plus_prime_gamma: 0.500043, grad mean: 0.000001\n",
            "Iter 125 - agent_0 w_minus_prime_gamma: 0.689900, grad mean: 64.681519\n",
            "Iter 125 - agent_1 alpha: 1.200100, grad mean: 17.825222\n",
            "Iter 125 - agent_1 lam: 1.200100, grad mean: 2.388165\n",
            "Iter 125 - agent_1 w_plus_prime_gamma: 0.500043, grad mean: 0.000001\n",
            "Iter 125 - agent_1 w_minus_prime_gamma: 0.689900, grad mean: 51.746021\n"
          ]
        },
        {
          "output_type": "stream",
          "name": "stderr",
          "text": [
            "\repisode_reward_mean_agents = -525.5870361328125:  64%|██████▎   | 127/200 [10:58<06:13,  5.11s/it] "
          ]
        },
        {
          "output_type": "stream",
          "name": "stdout",
          "text": [
            "Iter 126 - agent_0 alpha: 1.200100, grad mean: 26.681110\n",
            "Iter 126 - agent_0 lam: 1.500100, grad mean: 2.857170\n",
            "Iter 126 - agent_0 w_plus_prime_gamma: 0.500043, grad mean: 0.000001\n",
            "Iter 126 - agent_0 w_minus_prime_gamma: 0.689900, grad mean: 77.469589\n",
            "Iter 126 - agent_1 alpha: 1.200100, grad mean: 21.345255\n",
            "Iter 126 - agent_1 lam: 1.200100, grad mean: 2.857170\n",
            "Iter 126 - agent_1 w_plus_prime_gamma: 0.500043, grad mean: 0.000001\n",
            "Iter 126 - agent_1 w_minus_prime_gamma: 0.689900, grad mean: 61.976620\n"
          ]
        },
        {
          "output_type": "stream",
          "name": "stderr",
          "text": [
            "\repisode_reward_mean_agents = -592.33642578125:  64%|██████▍   | 128/200 [11:03<06:15,  5.21s/it]  "
          ]
        },
        {
          "output_type": "stream",
          "name": "stdout",
          "text": [
            "Iter 127 - agent_0 alpha: 1.200100, grad mean: 31.084175\n",
            "Iter 127 - agent_0 lam: 1.500100, grad mean: 3.322639\n",
            "Iter 127 - agent_0 w_plus_prime_gamma: 0.500043, grad mean: 0.000001\n",
            "Iter 127 - agent_0 w_minus_prime_gamma: 0.689900, grad mean: 90.298172\n",
            "Iter 127 - agent_1 alpha: 1.200100, grad mean: 24.867739\n",
            "Iter 127 - agent_1 lam: 1.200100, grad mean: 3.322639\n",
            "Iter 127 - agent_1 w_plus_prime_gamma: 0.500043, grad mean: 0.000001\n",
            "Iter 127 - agent_1 w_minus_prime_gamma: 0.689900, grad mean: 72.239693\n"
          ]
        },
        {
          "output_type": "stream",
          "name": "stderr",
          "text": [
            "\repisode_reward_mean_agents = -608.3639526367188:  64%|██████▍   | 129/200 [11:08<06:02,  5.10s/it]"
          ]
        },
        {
          "output_type": "stream",
          "name": "stdout",
          "text": [
            "Iter 128 - agent_0 alpha: 1.200100, grad mean: 35.534161\n",
            "Iter 128 - agent_0 lam: 1.500100, grad mean: 3.797384\n",
            "Iter 128 - agent_0 w_plus_prime_gamma: 0.500043, grad mean: 0.000001\n",
            "Iter 128 - agent_0 w_minus_prime_gamma: 0.689900, grad mean: 103.175346\n",
            "Iter 128 - agent_1 alpha: 1.200100, grad mean: 28.427757\n",
            "Iter 128 - agent_1 lam: 1.200100, grad mean: 3.797384\n",
            "Iter 128 - agent_1 w_plus_prime_gamma: 0.500043, grad mean: 0.000001\n",
            "Iter 128 - agent_1 w_minus_prime_gamma: 0.689900, grad mean: 82.541595\n"
          ]
        },
        {
          "output_type": "stream",
          "name": "stderr",
          "text": [
            "\repisode_reward_mean_agents = -476.9266662597656:  65%|██████▌   | 130/200 [11:13<06:04,  5.21s/it]"
          ]
        },
        {
          "output_type": "stream",
          "name": "stdout",
          "text": [
            "Iter 129 - agent_0 alpha: 1.200100, grad mean: 40.080040\n",
            "Iter 129 - agent_0 lam: 1.500100, grad mean: 4.288538\n",
            "Iter 129 - agent_0 w_plus_prime_gamma: 0.500043, grad mean: 0.000001\n",
            "Iter 129 - agent_0 w_minus_prime_gamma: 0.689900, grad mean: 116.384331\n",
            "Iter 129 - agent_1 alpha: 1.200100, grad mean: 32.064541\n",
            "Iter 129 - agent_1 lam: 1.200100, grad mean: 4.288538\n",
            "Iter 129 - agent_1 w_plus_prime_gamma: 0.500043, grad mean: 0.000001\n",
            "Iter 129 - agent_1 w_minus_prime_gamma: 0.689900, grad mean: 93.108948\n"
          ]
        },
        {
          "output_type": "stream",
          "name": "stderr",
          "text": [
            "\repisode_reward_mean_agents = -619.8222045898438:  66%|██████▌   | 131/200 [11:18<05:53,  5.12s/it]"
          ]
        },
        {
          "output_type": "stream",
          "name": "stdout",
          "text": [
            "Iteration 130: Adaptive loss = 0.12704962491989136, dynamic factor = 3.7384815216064453\n"
          ]
        },
        {
          "output_type": "stream",
          "name": "stderr",
          "text": [
            "\repisode_reward_mean_agents = -521.5534057617188:  66%|██████▌   | 132/200 [11:24<05:55,  5.23s/it]"
          ]
        },
        {
          "output_type": "stream",
          "name": "stdout",
          "text": [
            "Iter 131 - agent_0 alpha: 1.200110, grad mean: 4.258932\n",
            "Iter 131 - agent_0 lam: 1.500110, grad mean: 0.453780\n",
            "Iter 131 - agent_0 w_plus_prime_gamma: 0.500048, grad mean: 0.000000\n",
            "Iter 131 - agent_0 w_minus_prime_gamma: 0.689890, grad mean: 12.407144\n",
            "Iter 131 - agent_1 alpha: 1.200110, grad mean: 3.407207\n",
            "Iter 131 - agent_1 lam: 1.200110, grad mean: 0.453780\n",
            "Iter 131 - agent_1 w_plus_prime_gamma: 0.500048, grad mean: 0.000000\n",
            "Iter 131 - agent_1 w_minus_prime_gamma: 0.689890, grad mean: 9.925899\n"
          ]
        },
        {
          "output_type": "stream",
          "name": "stderr",
          "text": [
            "\repisode_reward_mean_agents = -519.5029296875:  66%|██████▋   | 133/200 [11:29<05:47,  5.19s/it]   "
          ]
        },
        {
          "output_type": "stream",
          "name": "stdout",
          "text": [
            "Iter 132 - agent_0 alpha: 1.200110, grad mean: 8.786864\n",
            "Iter 132 - agent_0 lam: 1.500110, grad mean: 0.934490\n",
            "Iter 132 - agent_0 w_plus_prime_gamma: 0.500048, grad mean: 0.000000\n",
            "Iter 132 - agent_0 w_minus_prime_gamma: 0.689890, grad mean: 25.533457\n",
            "Iter 132 - agent_1 alpha: 1.200110, grad mean: 7.029617\n",
            "Iter 132 - agent_1 lam: 1.200110, grad mean: 0.934490\n",
            "Iter 132 - agent_1 w_plus_prime_gamma: 0.500048, grad mean: 0.000000\n",
            "Iter 132 - agent_1 w_minus_prime_gamma: 0.689890, grad mean: 20.427145\n"
          ]
        },
        {
          "output_type": "stream",
          "name": "stderr",
          "text": [
            "\repisode_reward_mean_agents = -424.80010986328125:  67%|██████▋   | 134/200 [11:34<05:36,  5.09s/it]"
          ]
        },
        {
          "output_type": "stream",
          "name": "stdout",
          "text": [
            "Iter 133 - agent_0 alpha: 1.200110, grad mean: 13.285052\n",
            "Iter 133 - agent_0 lam: 1.500110, grad mean: 1.408702\n",
            "Iter 133 - agent_0 w_plus_prime_gamma: 0.500048, grad mean: 0.000000\n",
            "Iter 133 - agent_0 w_minus_prime_gamma: 0.689890, grad mean: 38.597916\n",
            "Iter 133 - agent_1 alpha: 1.200110, grad mean: 10.628238\n",
            "Iter 133 - agent_1 lam: 1.200110, grad mean: 1.408702\n",
            "Iter 133 - agent_1 w_plus_prime_gamma: 0.500048, grad mean: 0.000000\n",
            "Iter 133 - agent_1 w_minus_prime_gamma: 0.689890, grad mean: 30.878920\n"
          ]
        },
        {
          "output_type": "stream",
          "name": "stderr",
          "text": [
            "\repisode_reward_mean_agents = -520.8834838867188:  68%|██████▊   | 135/200 [11:40<05:49,  5.38s/it] "
          ]
        },
        {
          "output_type": "stream",
          "name": "stdout",
          "text": [
            "Iter 134 - agent_0 alpha: 1.200110, grad mean: 17.637907\n",
            "Iter 134 - agent_0 lam: 1.500110, grad mean: 1.869017\n",
            "Iter 134 - agent_0 w_plus_prime_gamma: 0.500048, grad mean: 0.000001\n",
            "Iter 134 - agent_0 w_minus_prime_gamma: 0.689890, grad mean: 51.240765\n",
            "Iter 134 - agent_1 alpha: 1.200110, grad mean: 14.110581\n",
            "Iter 134 - agent_1 lam: 1.200110, grad mean: 1.869017\n",
            "Iter 134 - agent_1 w_plus_prime_gamma: 0.500048, grad mean: 0.000001\n",
            "Iter 134 - agent_1 w_minus_prime_gamma: 0.689890, grad mean: 40.993374\n"
          ]
        },
        {
          "output_type": "stream",
          "name": "stderr",
          "text": [
            "\repisode_reward_mean_agents = -559.9139404296875:  68%|██████▊   | 136/200 [11:45<05:33,  5.22s/it]"
          ]
        },
        {
          "output_type": "stream",
          "name": "stdout",
          "text": [
            "Iter 135 - agent_0 alpha: 1.200110, grad mean: 22.070604\n",
            "Iter 135 - agent_0 lam: 1.500110, grad mean: 2.343494\n",
            "Iter 135 - agent_0 w_plus_prime_gamma: 0.500048, grad mean: 0.000001\n",
            "Iter 135 - agent_0 w_minus_prime_gamma: 0.689890, grad mean: 64.100616\n",
            "Iter 135 - agent_1 alpha: 1.200110, grad mean: 17.656813\n",
            "Iter 135 - agent_1 lam: 1.200110, grad mean: 2.343494\n",
            "Iter 135 - agent_1 w_plus_prime_gamma: 0.500048, grad mean: 0.000001\n",
            "Iter 135 - agent_1 w_minus_prime_gamma: 0.689890, grad mean: 51.281471\n"
          ]
        },
        {
          "output_type": "stream",
          "name": "stderr",
          "text": [
            "\repisode_reward_mean_agents = -439.140625:  68%|██████▊   | 137/200 [11:50<05:33,  5.29s/it]       "
          ]
        },
        {
          "output_type": "stream",
          "name": "stdout",
          "text": [
            "Iter 136 - agent_0 alpha: 1.200110, grad mean: 26.552109\n",
            "Iter 136 - agent_0 lam: 1.500110, grad mean: 2.812627\n",
            "Iter 136 - agent_0 w_plus_prime_gamma: 0.500048, grad mean: 0.000001\n",
            "Iter 136 - agent_0 w_minus_prime_gamma: 0.689890, grad mean: 77.142311\n",
            "Iter 136 - agent_1 alpha: 1.200110, grad mean: 21.242071\n",
            "Iter 136 - agent_1 lam: 1.200110, grad mean: 2.812627\n",
            "Iter 136 - agent_1 w_plus_prime_gamma: 0.500048, grad mean: 0.000001\n",
            "Iter 136 - agent_1 w_minus_prime_gamma: 0.689890, grad mean: 61.714931\n"
          ]
        },
        {
          "output_type": "stream",
          "name": "stderr",
          "text": [
            "\repisode_reward_mean_agents = -487.66192626953125:  69%|██████▉   | 138/200 [11:55<05:19,  5.15s/it]"
          ]
        },
        {
          "output_type": "stream",
          "name": "stdout",
          "text": [
            "Iter 137 - agent_0 alpha: 1.200110, grad mean: 31.089823\n",
            "Iter 137 - agent_0 lam: 1.500110, grad mean: 3.292558\n",
            "Iter 137 - agent_0 w_plus_prime_gamma: 0.500048, grad mean: 0.000001\n",
            "Iter 137 - agent_0 w_minus_prime_gamma: 0.689890, grad mean: 90.299347\n",
            "Iter 137 - agent_1 alpha: 1.200110, grad mean: 24.872301\n",
            "Iter 137 - agent_1 lam: 1.200110, grad mean: 3.292558\n",
            "Iter 137 - agent_1 w_plus_prime_gamma: 0.500048, grad mean: 0.000001\n",
            "Iter 137 - agent_1 w_minus_prime_gamma: 0.689890, grad mean: 72.240730\n"
          ]
        },
        {
          "output_type": "stream",
          "name": "stderr",
          "text": [
            "\repisode_reward_mean_agents = -498.6615295410156:  70%|██████▉   | 139/200 [12:00<05:17,  5.21s/it] "
          ]
        },
        {
          "output_type": "stream",
          "name": "stdout",
          "text": [
            "Iter 138 - agent_0 alpha: 1.200110, grad mean: 35.755672\n",
            "Iter 138 - agent_0 lam: 1.500110, grad mean: 3.786693\n",
            "Iter 138 - agent_0 w_plus_prime_gamma: 0.500048, grad mean: 0.000001\n",
            "Iter 138 - agent_0 w_minus_prime_gamma: 0.689890, grad mean: 103.824120\n",
            "Iter 138 - agent_1 alpha: 1.200110, grad mean: 28.605032\n",
            "Iter 138 - agent_1 lam: 1.200110, grad mean: 3.786693\n",
            "Iter 138 - agent_1 w_plus_prime_gamma: 0.500048, grad mean: 0.000001\n",
            "Iter 138 - agent_1 w_minus_prime_gamma: 0.689890, grad mean: 83.060753\n"
          ]
        },
        {
          "output_type": "stream",
          "name": "stderr",
          "text": [
            "\repisode_reward_mean_agents = -442.1182556152344:  70%|███████   | 140/200 [12:05<05:08,  5.14s/it]"
          ]
        },
        {
          "output_type": "stream",
          "name": "stdout",
          "text": [
            "Iter 139 - agent_0 alpha: 1.200110, grad mean: 40.518536\n",
            "Iter 139 - agent_0 lam: 1.500110, grad mean: 4.291543\n",
            "Iter 139 - agent_0 w_plus_prime_gamma: 0.500048, grad mean: 0.000001\n",
            "Iter 139 - agent_0 w_minus_prime_gamma: 0.689890, grad mean: 117.604095\n",
            "Iter 139 - agent_1 alpha: 1.200110, grad mean: 32.415394\n",
            "Iter 139 - agent_1 lam: 1.200110, grad mean: 4.291543\n",
            "Iter 139 - agent_1 w_plus_prime_gamma: 0.500048, grad mean: 0.000001\n",
            "Iter 139 - agent_1 w_minus_prime_gamma: 0.689890, grad mean: 94.084892\n"
          ]
        },
        {
          "output_type": "stream",
          "name": "stderr",
          "text": [
            "\repisode_reward_mean_agents = -508.14874267578125:  70%|███████   | 141/200 [12:10<04:58,  5.06s/it]"
          ]
        },
        {
          "output_type": "stream",
          "name": "stdout",
          "text": [
            "Iteration 140: Adaptive loss = 0.1669943928718567, dynamic factor = 5.703136444091797\n"
          ]
        },
        {
          "output_type": "stream",
          "name": "stderr",
          "text": [
            "\repisode_reward_mean_agents = -604.1310424804688:  71%|███████   | 142/200 [12:16<05:01,  5.20s/it] "
          ]
        },
        {
          "output_type": "stream",
          "name": "stdout",
          "text": [
            "Iter 141 - agent_0 alpha: 1.200120, grad mean: 4.426630\n",
            "Iter 141 - agent_0 lam: 1.500120, grad mean: 0.463192\n",
            "Iter 141 - agent_0 w_plus_prime_gamma: 0.500052, grad mean: 0.000000\n",
            "Iter 141 - agent_0 w_minus_prime_gamma: 0.689880, grad mean: 12.882374\n",
            "Iter 141 - agent_1 alpha: 1.200120, grad mean: 3.541376\n",
            "Iter 141 - agent_1 lam: 1.200120, grad mean: 0.463192\n",
            "Iter 141 - agent_1 w_plus_prime_gamma: 0.500052, grad mean: 0.000000\n",
            "Iter 141 - agent_1 w_minus_prime_gamma: 0.689880, grad mean: 10.306103\n"
          ]
        },
        {
          "output_type": "stream",
          "name": "stderr",
          "text": [
            "\repisode_reward_mean_agents = -474.8993225097656:  72%|███████▏  | 143/200 [12:21<04:51,  5.11s/it]"
          ]
        },
        {
          "output_type": "stream",
          "name": "stdout",
          "text": [
            "Iter 142 - agent_0 alpha: 1.200120, grad mean: 8.952003\n",
            "Iter 142 - agent_0 lam: 1.500120, grad mean: 0.945057\n",
            "Iter 142 - agent_0 w_plus_prime_gamma: 0.500052, grad mean: 0.000000\n",
            "Iter 142 - agent_0 w_minus_prime_gamma: 0.689880, grad mean: 26.002697\n",
            "Iter 142 - agent_1 alpha: 1.200120, grad mean: 7.161745\n",
            "Iter 142 - agent_1 lam: 1.200120, grad mean: 0.945057\n",
            "Iter 142 - agent_1 w_plus_prime_gamma: 0.500052, grad mean: 0.000000\n",
            "Iter 142 - agent_1 w_minus_prime_gamma: 0.689880, grad mean: 20.802568\n"
          ]
        },
        {
          "output_type": "stream",
          "name": "stderr",
          "text": [
            "\repisode_reward_mean_agents = -459.97100830078125:  72%|███████▏  | 144/200 [12:26<04:55,  5.27s/it]"
          ]
        },
        {
          "output_type": "stream",
          "name": "stdout",
          "text": [
            "Iter 143 - agent_0 alpha: 1.200120, grad mean: 13.559962\n",
            "Iter 143 - agent_0 lam: 1.500120, grad mean: 1.429672\n",
            "Iter 143 - agent_0 w_plus_prime_gamma: 0.500052, grad mean: 0.000000\n",
            "Iter 143 - agent_0 w_minus_prime_gamma: 0.689880, grad mean: 39.386593\n",
            "Iter 143 - agent_1 alpha: 1.200120, grad mean: 10.848180\n",
            "Iter 143 - agent_1 lam: 1.200120, grad mean: 1.429672\n",
            "Iter 143 - agent_1 w_plus_prime_gamma: 0.500052, grad mean: 0.000000\n",
            "Iter 143 - agent_1 w_minus_prime_gamma: 0.689880, grad mean: 31.509882\n"
          ]
        },
        {
          "output_type": "stream",
          "name": "stderr",
          "text": [
            "\repisode_reward_mean_agents = -481.703369140625:  72%|███████▎  | 145/200 [12:31<04:44,  5.18s/it]  "
          ]
        },
        {
          "output_type": "stream",
          "name": "stdout",
          "text": [
            "Iter 144 - agent_0 alpha: 1.200120, grad mean: 18.067547\n",
            "Iter 144 - agent_0 lam: 1.500120, grad mean: 1.905220\n",
            "Iter 144 - agent_0 w_plus_prime_gamma: 0.500052, grad mean: 0.000001\n",
            "Iter 144 - agent_0 w_minus_prime_gamma: 0.689880, grad mean: 52.498856\n",
            "Iter 144 - agent_1 alpha: 1.200120, grad mean: 14.454306\n",
            "Iter 144 - agent_1 lam: 1.200120, grad mean: 1.905220\n",
            "Iter 144 - agent_1 w_plus_prime_gamma: 0.500052, grad mean: 0.000001\n",
            "Iter 144 - agent_1 w_minus_prime_gamma: 0.689880, grad mean: 41.999863\n"
          ]
        },
        {
          "output_type": "stream",
          "name": "stderr",
          "text": [
            "\repisode_reward_mean_agents = -581.2250366210938:  73%|███████▎  | 146/200 [12:36<04:40,  5.19s/it]"
          ]
        },
        {
          "output_type": "stream",
          "name": "stdout",
          "text": [
            "Iter 145 - agent_0 alpha: 1.200120, grad mean: 22.682859\n",
            "Iter 145 - agent_0 lam: 1.500120, grad mean: 2.395630\n",
            "Iter 145 - agent_0 w_plus_prime_gamma: 0.500052, grad mean: 0.000001\n",
            "Iter 145 - agent_0 w_minus_prime_gamma: 0.689880, grad mean: 65.891479\n",
            "Iter 145 - agent_1 alpha: 1.200120, grad mean: 18.146626\n",
            "Iter 145 - agent_1 lam: 1.200120, grad mean: 2.395630\n",
            "Iter 145 - agent_1 w_plus_prime_gamma: 0.500052, grad mean: 0.000001\n",
            "Iter 145 - agent_1 w_minus_prime_gamma: 0.689880, grad mean: 52.714184\n"
          ]
        },
        {
          "output_type": "stream",
          "name": "stderr",
          "text": [
            "\repisode_reward_mean_agents = -565.1862182617188:  74%|███████▎  | 147/200 [12:41<04:33,  5.16s/it]"
          ]
        },
        {
          "output_type": "stream",
          "name": "stdout",
          "text": [
            "Iter 146 - agent_0 alpha: 1.200120, grad mean: 27.287687\n",
            "Iter 146 - agent_0 lam: 1.500120, grad mean: 2.882557\n",
            "Iter 146 - agent_0 w_plus_prime_gamma: 0.500052, grad mean: 0.000001\n",
            "Iter 146 - agent_0 w_minus_prime_gamma: 0.689880, grad mean: 79.223137\n",
            "Iter 146 - agent_1 alpha: 1.200120, grad mean: 21.830563\n",
            "Iter 146 - agent_1 lam: 1.200120, grad mean: 2.882557\n",
            "Iter 146 - agent_1 w_plus_prime_gamma: 0.500052, grad mean: 0.000001\n",
            "Iter 146 - agent_1 w_minus_prime_gamma: 0.689880, grad mean: 63.379749\n"
          ]
        },
        {
          "output_type": "stream",
          "name": "stderr",
          "text": [
            "\repisode_reward_mean_agents = -531.4401245117188:  74%|███████▍  | 148/200 [12:46<04:24,  5.09s/it]"
          ]
        },
        {
          "output_type": "stream",
          "name": "stdout",
          "text": [
            "Iter 147 - agent_0 alpha: 1.200120, grad mean: 31.948215\n",
            "Iter 147 - agent_0 lam: 1.500120, grad mean: 3.372846\n",
            "Iter 147 - agent_0 w_plus_prime_gamma: 0.500052, grad mean: 0.000001\n",
            "Iter 147 - agent_0 w_minus_prime_gamma: 0.689880, grad mean: 92.724251\n",
            "Iter 147 - agent_1 alpha: 1.200120, grad mean: 25.559065\n",
            "Iter 147 - agent_1 lam: 1.200120, grad mean: 3.372846\n",
            "Iter 147 - agent_1 w_plus_prime_gamma: 0.500052, grad mean: 0.000001\n",
            "Iter 147 - agent_1 w_minus_prime_gamma: 0.689880, grad mean: 74.180847\n"
          ]
        },
        {
          "output_type": "stream",
          "name": "stderr",
          "text": [
            "\repisode_reward_mean_agents = -662.7482299804688:  74%|███████▍  | 149/200 [12:52<04:27,  5.25s/it]"
          ]
        },
        {
          "output_type": "stream",
          "name": "stdout",
          "text": [
            "Iter 148 - agent_0 alpha: 1.200120, grad mean: 36.588623\n",
            "Iter 148 - agent_0 lam: 1.500120, grad mean: 3.866857\n",
            "Iter 148 - agent_0 w_plus_prime_gamma: 0.500052, grad mean: 0.000001\n",
            "Iter 148 - agent_0 w_minus_prime_gamma: 0.689880, grad mean: 106.134026\n",
            "Iter 148 - agent_1 alpha: 1.200120, grad mean: 29.271484\n",
            "Iter 148 - agent_1 lam: 1.200120, grad mean: 3.866857\n",
            "Iter 148 - agent_1 w_plus_prime_gamma: 0.500052, grad mean: 0.000001\n",
            "Iter 148 - agent_1 w_minus_prime_gamma: 0.689880, grad mean: 84.908920\n"
          ]
        },
        {
          "output_type": "stream",
          "name": "stderr",
          "text": [
            "\repisode_reward_mean_agents = -505.67559814453125:  75%|███████▌  | 150/200 [12:57<04:16,  5.13s/it]"
          ]
        },
        {
          "output_type": "stream",
          "name": "stdout",
          "text": [
            "Iter 149 - agent_0 alpha: 1.200120, grad mean: 40.969959\n",
            "Iter 149 - agent_0 lam: 1.500120, grad mean: 4.326152\n",
            "Iter 149 - agent_0 w_plus_prime_gamma: 0.500052, grad mean: 0.000001\n",
            "Iter 149 - agent_0 w_minus_prime_gamma: 0.689880, grad mean: 118.823738\n",
            "Iter 149 - agent_1 alpha: 1.200120, grad mean: 32.776627\n",
            "Iter 149 - agent_1 lam: 1.200120, grad mean: 4.326152\n",
            "Iter 149 - agent_1 w_plus_prime_gamma: 0.500052, grad mean: 0.000001\n",
            "Iter 149 - agent_1 w_minus_prime_gamma: 0.689880, grad mean: 95.060898\n"
          ]
        },
        {
          "output_type": "stream",
          "name": "stderr",
          "text": [
            "\repisode_reward_mean_agents = -515.1175537109375:  76%|███████▌  | 151/200 [13:02<04:16,  5.24s/it] "
          ]
        },
        {
          "output_type": "stream",
          "name": "stdout",
          "text": [
            "Iteration 150: Adaptive loss = 0.07033080607652664, dynamic factor = 2.5347747802734375\n"
          ]
        },
        {
          "output_type": "stream",
          "name": "stderr",
          "text": [
            "\repisode_reward_mean_agents = -427.93212890625:  76%|███████▌  | 152/200 [13:07<04:06,  5.13s/it]  "
          ]
        },
        {
          "output_type": "stream",
          "name": "stdout",
          "text": [
            "Iter 151 - agent_0 alpha: 1.200130, grad mean: 4.612248\n",
            "Iter 151 - agent_0 lam: 1.500130, grad mean: 0.489155\n",
            "Iter 151 - agent_0 w_plus_prime_gamma: 0.500056, grad mean: 0.000000\n",
            "Iter 151 - agent_0 w_minus_prime_gamma: 0.689870, grad mean: 13.363112\n",
            "Iter 151 - agent_1 alpha: 1.200130, grad mean: 3.689878\n",
            "Iter 151 - agent_1 lam: 1.200130, grad mean: 0.489155\n",
            "Iter 151 - agent_1 w_plus_prime_gamma: 0.500056, grad mean: 0.000000\n",
            "Iter 151 - agent_1 w_minus_prime_gamma: 0.689870, grad mean: 10.690722\n"
          ]
        },
        {
          "output_type": "stream",
          "name": "stderr",
          "text": [
            "\repisode_reward_mean_agents = -595.9863891601562:  76%|███████▋  | 153/200 [13:12<04:01,  5.13s/it]"
          ]
        },
        {
          "output_type": "stream",
          "name": "stdout",
          "text": [
            "Iter 152 - agent_0 alpha: 1.200130, grad mean: 9.499837\n",
            "Iter 152 - agent_0 lam: 1.500130, grad mean: 1.007895\n",
            "Iter 152 - agent_0 w_plus_prime_gamma: 0.500056, grad mean: 0.000000\n",
            "Iter 152 - agent_0 w_minus_prime_gamma: 0.689870, grad mean: 27.516235\n",
            "Iter 152 - agent_1 alpha: 1.200130, grad mean: 7.600038\n",
            "Iter 152 - agent_1 lam: 1.200130, grad mean: 1.007895\n",
            "Iter 152 - agent_1 w_plus_prime_gamma: 0.500056, grad mean: 0.000000\n",
            "Iter 152 - agent_1 w_minus_prime_gamma: 0.689870, grad mean: 22.013468\n"
          ]
        },
        {
          "output_type": "stream",
          "name": "stderr",
          "text": [
            "\repisode_reward_mean_agents = -513.3623046875:  77%|███████▋  | 154/200 [13:17<03:54,  5.10s/it]   "
          ]
        },
        {
          "output_type": "stream",
          "name": "stdout",
          "text": [
            "Iter 153 - agent_0 alpha: 1.200130, grad mean: 14.306067\n",
            "Iter 153 - agent_0 lam: 1.500130, grad mean: 1.514440\n",
            "Iter 153 - agent_0 w_plus_prime_gamma: 0.500056, grad mean: 0.000000\n",
            "Iter 153 - agent_0 w_minus_prime_gamma: 0.689870, grad mean: 41.441391\n",
            "Iter 153 - agent_1 alpha: 1.200130, grad mean: 11.445104\n",
            "Iter 153 - agent_1 lam: 1.200130, grad mean: 1.514440\n",
            "Iter 153 - agent_1 w_plus_prime_gamma: 0.500056, grad mean: 0.000000\n",
            "Iter 153 - agent_1 w_minus_prime_gamma: 0.689870, grad mean: 33.153835\n"
          ]
        },
        {
          "output_type": "stream",
          "name": "stderr",
          "text": [
            "\repisode_reward_mean_agents = -584.2470092773438:  78%|███████▊  | 155/200 [13:22<03:47,  5.05s/it]"
          ]
        },
        {
          "output_type": "stream",
          "name": "stdout",
          "text": [
            "Iter 154 - agent_0 alpha: 1.200130, grad mean: 18.910446\n",
            "Iter 154 - agent_0 lam: 1.500130, grad mean: 2.003269\n",
            "Iter 154 - agent_0 w_plus_prime_gamma: 0.500056, grad mean: 0.000001\n",
            "Iter 154 - agent_0 w_minus_prime_gamma: 0.689870, grad mean: 54.789925\n",
            "Iter 154 - agent_1 alpha: 1.200130, grad mean: 15.128691\n",
            "Iter 154 - agent_1 lam: 1.200130, grad mean: 2.003269\n",
            "Iter 154 - agent_1 w_plus_prime_gamma: 0.500056, grad mean: 0.000001\n",
            "Iter 154 - agent_1 w_minus_prime_gamma: 0.689870, grad mean: 43.832893\n"
          ]
        },
        {
          "output_type": "stream",
          "name": "stderr",
          "text": [
            "\repisode_reward_mean_agents = -497.4313659667969:  78%|███████▊  | 156/200 [13:28<03:49,  5.22s/it]"
          ]
        },
        {
          "output_type": "stream",
          "name": "stdout",
          "text": [
            "Iter 155 - agent_0 alpha: 1.200130, grad mean: 23.384966\n",
            "Iter 155 - agent_0 lam: 1.500130, grad mean: 2.470166\n",
            "Iter 155 - agent_0 w_plus_prime_gamma: 0.500056, grad mean: 0.000001\n",
            "Iter 155 - agent_0 w_minus_prime_gamma: 0.689870, grad mean: 67.758636\n",
            "Iter 155 - agent_1 alpha: 1.200130, grad mean: 18.708380\n",
            "Iter 155 - agent_1 lam: 1.200130, grad mean: 2.470166\n",
            "Iter 155 - agent_1 w_plus_prime_gamma: 0.500056, grad mean: 0.000001\n",
            "Iter 155 - agent_1 w_minus_prime_gamma: 0.689870, grad mean: 54.208057\n"
          ]
        },
        {
          "output_type": "stream",
          "name": "stderr",
          "text": [
            "\repisode_reward_mean_agents = -528.68017578125:  78%|███████▊  | 157/200 [13:33<03:39,  5.11s/it]  "
          ]
        },
        {
          "output_type": "stream",
          "name": "stdout",
          "text": [
            "Iter 156 - agent_0 alpha: 1.200130, grad mean: 28.045948\n",
            "Iter 156 - agent_0 lam: 1.500130, grad mean: 2.961101\n",
            "Iter 156 - agent_0 w_plus_prime_gamma: 0.500056, grad mean: 0.000001\n",
            "Iter 156 - agent_0 w_minus_prime_gamma: 0.689870, grad mean: 81.246140\n",
            "Iter 156 - agent_1 alpha: 1.200130, grad mean: 22.437256\n",
            "Iter 156 - agent_1 lam: 1.200130, grad mean: 2.961101\n",
            "Iter 156 - agent_1 w_plus_prime_gamma: 0.500056, grad mean: 0.000001\n",
            "Iter 156 - agent_1 w_minus_prime_gamma: 0.689870, grad mean: 64.998260\n"
          ]
        },
        {
          "output_type": "stream",
          "name": "stderr",
          "text": [
            "\repisode_reward_mean_agents = -459.58935546875:  79%|███████▉  | 158/200 [13:38<03:41,  5.26s/it]"
          ]
        },
        {
          "output_type": "stream",
          "name": "stdout",
          "text": [
            "Iter 157 - agent_0 alpha: 1.200130, grad mean: 32.565563\n",
            "Iter 157 - agent_0 lam: 1.500130, grad mean: 3.431120\n",
            "Iter 157 - agent_0 w_plus_prime_gamma: 0.500056, grad mean: 0.000001\n",
            "Iter 157 - agent_0 w_minus_prime_gamma: 0.689870, grad mean: 94.390221\n",
            "Iter 157 - agent_1 alpha: 1.200130, grad mean: 26.053040\n",
            "Iter 157 - agent_1 lam: 1.200130, grad mean: 3.431120\n",
            "Iter 157 - agent_1 w_plus_prime_gamma: 0.500056, grad mean: 0.000001\n",
            "Iter 157 - agent_1 w_minus_prime_gamma: 0.689870, grad mean: 75.513779\n"
          ]
        },
        {
          "output_type": "stream",
          "name": "stderr",
          "text": [
            "\repisode_reward_mean_agents = -434.8185729980469:  80%|███████▉  | 159/200 [13:43<03:30,  5.14s/it]"
          ]
        },
        {
          "output_type": "stream",
          "name": "stdout",
          "text": [
            "Iter 158 - agent_0 alpha: 1.200130, grad mean: 37.155483\n",
            "Iter 158 - agent_0 lam: 1.500130, grad mean: 3.910578\n",
            "Iter 158 - agent_0 w_plus_prime_gamma: 0.500056, grad mean: 0.000001\n",
            "Iter 158 - agent_0 w_minus_prime_gamma: 0.689870, grad mean: 107.682236\n",
            "Iter 158 - agent_1 alpha: 1.200130, grad mean: 29.725061\n",
            "Iter 158 - agent_1 lam: 1.200130, grad mean: 3.910578\n",
            "Iter 158 - agent_1 w_plus_prime_gamma: 0.500056, grad mean: 0.000001\n",
            "Iter 158 - agent_1 w_minus_prime_gamma: 0.689870, grad mean: 86.147659\n"
          ]
        },
        {
          "output_type": "stream",
          "name": "stderr",
          "text": [
            "\repisode_reward_mean_agents = -472.2134704589844:  80%|████████  | 160/200 [13:48<03:24,  5.11s/it]"
          ]
        },
        {
          "output_type": "stream",
          "name": "stdout",
          "text": [
            "Iter 159 - agent_0 alpha: 1.200130, grad mean: 41.676685\n",
            "Iter 159 - agent_0 lam: 1.500130, grad mean: 4.386768\n",
            "Iter 159 - agent_0 w_plus_prime_gamma: 0.500056, grad mean: 0.000001\n",
            "Iter 159 - agent_0 w_minus_prime_gamma: 0.689870, grad mean: 120.795586\n",
            "Iter 159 - agent_1 alpha: 1.200130, grad mean: 33.342060\n",
            "Iter 159 - agent_1 lam: 1.200130, grad mean: 4.386768\n",
            "Iter 159 - agent_1 w_plus_prime_gamma: 0.500056, grad mean: 0.000001\n",
            "Iter 159 - agent_1 w_minus_prime_gamma: 0.689870, grad mean: 96.638542\n"
          ]
        },
        {
          "output_type": "stream",
          "name": "stderr",
          "text": [
            "\repisode_reward_mean_agents = -584.2101440429688:  80%|████████  | 161/200 [13:54<03:23,  5.22s/it]"
          ]
        },
        {
          "output_type": "stream",
          "name": "stdout",
          "text": [
            "Iteration 160: Adaptive loss = 0.07460132241249084, dynamic factor = 2.546720504760742\n"
          ]
        },
        {
          "output_type": "stream",
          "name": "stderr",
          "text": [
            "\repisode_reward_mean_agents = -545.2113647460938:  81%|████████  | 162/200 [13:59<03:15,  5.13s/it]"
          ]
        },
        {
          "output_type": "stream",
          "name": "stdout",
          "text": [
            "Iter 161 - agent_0 alpha: 1.200140, grad mean: 4.662809\n",
            "Iter 161 - agent_0 lam: 1.500140, grad mean: 0.485307\n",
            "Iter 161 - agent_0 w_plus_prime_gamma: 0.500061, grad mean: 0.000000\n",
            "Iter 161 - agent_0 w_minus_prime_gamma: 0.689860, grad mean: 13.490897\n",
            "Iter 161 - agent_1 alpha: 1.200140, grad mean: 3.730330\n",
            "Iter 161 - agent_1 lam: 1.200140, grad mean: 0.485307\n",
            "Iter 161 - agent_1 w_plus_prime_gamma: 0.500061, grad mean: 0.000000\n",
            "Iter 161 - agent_1 w_minus_prime_gamma: 0.689860, grad mean: 10.792974\n"
          ]
        },
        {
          "output_type": "stream",
          "name": "stderr",
          "text": [
            "\repisode_reward_mean_agents = -591.9594116210938:  82%|████████▏ | 163/200 [14:04<03:14,  5.27s/it]"
          ]
        },
        {
          "output_type": "stream",
          "name": "stdout",
          "text": [
            "Iter 162 - agent_0 alpha: 1.200140, grad mean: 9.334726\n",
            "Iter 162 - agent_0 lam: 1.500140, grad mean: 0.978889\n",
            "Iter 162 - agent_0 w_plus_prime_gamma: 0.500061, grad mean: 0.000000\n",
            "Iter 162 - agent_0 w_minus_prime_gamma: 0.689860, grad mean: 27.048679\n",
            "Iter 162 - agent_1 alpha: 1.200140, grad mean: 7.467953\n",
            "Iter 162 - agent_1 lam: 1.200140, grad mean: 0.978889\n",
            "Iter 162 - agent_1 w_plus_prime_gamma: 0.500061, grad mean: 0.000000\n",
            "Iter 162 - agent_1 w_minus_prime_gamma: 0.689860, grad mean: 21.639454\n"
          ]
        },
        {
          "output_type": "stream",
          "name": "stderr",
          "text": [
            "\repisode_reward_mean_agents = -473.2980651855469:  82%|████████▏ | 164/200 [14:09<03:05,  5.14s/it]"
          ]
        },
        {
          "output_type": "stream",
          "name": "stdout",
          "text": [
            "Iter 163 - agent_0 alpha: 1.200140, grad mean: 14.183357\n",
            "Iter 163 - agent_0 lam: 1.500140, grad mean: 1.482138\n",
            "Iter 163 - agent_0 w_plus_prime_gamma: 0.500061, grad mean: 0.000000\n",
            "Iter 163 - agent_0 w_minus_prime_gamma: 0.689860, grad mean: 41.060356\n",
            "Iter 163 - agent_1 alpha: 1.200140, grad mean: 11.346957\n",
            "Iter 163 - agent_1 lam: 1.200140, grad mean: 1.482138\n",
            "Iter 163 - agent_1 w_plus_prime_gamma: 0.500061, grad mean: 0.000000\n",
            "Iter 163 - agent_1 w_minus_prime_gamma: 0.689860, grad mean: 32.849049\n"
          ]
        },
        {
          "output_type": "stream",
          "name": "stderr",
          "text": [
            "\repisode_reward_mean_agents = -586.7151489257812:  82%|████████▎ | 165/200 [14:15<03:03,  5.26s/it]"
          ]
        },
        {
          "output_type": "stream",
          "name": "stdout",
          "text": [
            "Iter 164 - agent_0 alpha: 1.200140, grad mean: 18.977003\n",
            "Iter 164 - agent_0 lam: 1.500140, grad mean: 1.988054\n",
            "Iter 164 - agent_0 w_plus_prime_gamma: 0.500061, grad mean: 0.000001\n",
            "Iter 164 - agent_0 w_minus_prime_gamma: 0.689860, grad mean: 54.968452\n",
            "Iter 164 - agent_1 alpha: 1.200140, grad mean: 15.181955\n",
            "Iter 164 - agent_1 lam: 1.200140, grad mean: 1.988054\n",
            "Iter 164 - agent_1 w_plus_prime_gamma: 0.500061, grad mean: 0.000001\n",
            "Iter 164 - agent_1 w_minus_prime_gamma: 0.689860, grad mean: 43.975788\n"
          ]
        },
        {
          "output_type": "stream",
          "name": "stderr",
          "text": [
            "\repisode_reward_mean_agents = -533.2486572265625:  83%|████████▎ | 166/200 [14:20<02:54,  5.15s/it]"
          ]
        },
        {
          "output_type": "stream",
          "name": "stdout",
          "text": [
            "Iter 165 - agent_0 alpha: 1.200140, grad mean: 23.503159\n",
            "Iter 165 - agent_0 lam: 1.500140, grad mean: 2.462926\n",
            "Iter 165 - agent_0 w_plus_prime_gamma: 0.500061, grad mean: 0.000001\n",
            "Iter 165 - agent_0 w_minus_prime_gamma: 0.689860, grad mean: 68.087448\n",
            "Iter 165 - agent_1 alpha: 1.200140, grad mean: 18.802963\n",
            "Iter 165 - agent_1 lam: 1.200140, grad mean: 2.462926\n",
            "Iter 165 - agent_1 w_plus_prime_gamma: 0.500061, grad mean: 0.000001\n",
            "Iter 165 - agent_1 w_minus_prime_gamma: 0.689860, grad mean: 54.471230\n"
          ]
        },
        {
          "output_type": "stream",
          "name": "stderr",
          "text": [
            "\repisode_reward_mean_agents = -579.10400390625:  84%|████████▎ | 167/200 [14:25<02:49,  5.14s/it]  "
          ]
        },
        {
          "output_type": "stream",
          "name": "stdout",
          "text": [
            "Iter 166 - agent_0 alpha: 1.200140, grad mean: 28.260538\n",
            "Iter 166 - agent_0 lam: 1.500140, grad mean: 2.955229\n",
            "Iter 166 - agent_0 w_plus_prime_gamma: 0.500061, grad mean: 0.000001\n",
            "Iter 166 - agent_0 w_minus_prime_gamma: 0.689860, grad mean: 81.887787\n",
            "Iter 166 - agent_1 alpha: 1.200140, grad mean: 22.608955\n",
            "Iter 166 - agent_1 lam: 1.200140, grad mean: 2.955229\n",
            "Iter 166 - agent_1 w_plus_prime_gamma: 0.500061, grad mean: 0.000001\n",
            "Iter 166 - agent_1 w_minus_prime_gamma: 0.689860, grad mean: 65.511726\n"
          ]
        },
        {
          "output_type": "stream",
          "name": "stderr",
          "text": [
            "\repisode_reward_mean_agents = -428.22979736328125:  84%|████████▍ | 168/200 [14:30<02:45,  5.19s/it]"
          ]
        },
        {
          "output_type": "stream",
          "name": "stdout",
          "text": [
            "Iter 167 - agent_0 alpha: 1.200140, grad mean: 33.112988\n",
            "Iter 167 - agent_0 lam: 1.500140, grad mean: 3.465037\n",
            "Iter 167 - agent_0 w_plus_prime_gamma: 0.500061, grad mean: 0.000001\n",
            "Iter 167 - agent_0 w_minus_prime_gamma: 0.689860, grad mean: 95.911713\n",
            "Iter 167 - agent_1 alpha: 1.200140, grad mean: 26.491011\n",
            "Iter 167 - agent_1 lam: 1.200140, grad mean: 3.465037\n",
            "Iter 167 - agent_1 w_plus_prime_gamma: 0.500061, grad mean: 0.000001\n",
            "Iter 167 - agent_1 w_minus_prime_gamma: 0.689860, grad mean: 76.731155\n"
          ]
        },
        {
          "output_type": "stream",
          "name": "stderr",
          "text": [
            "\repisode_reward_mean_agents = -469.1403503417969:  84%|████████▍ | 169/200 [14:35<02:37,  5.08s/it] "
          ]
        },
        {
          "output_type": "stream",
          "name": "stdout",
          "text": [
            "Iter 168 - agent_0 alpha: 1.200140, grad mean: 37.913219\n",
            "Iter 168 - agent_0 lam: 1.500140, grad mean: 3.966436\n",
            "Iter 168 - agent_0 w_plus_prime_gamma: 0.500061, grad mean: 0.000001\n",
            "Iter 168 - agent_0 w_minus_prime_gamma: 0.689860, grad mean: 109.842781\n",
            "Iter 168 - agent_1 alpha: 1.200140, grad mean: 30.331291\n",
            "Iter 168 - agent_1 lam: 1.200140, grad mean: 3.966436\n",
            "Iter 168 - agent_1 w_plus_prime_gamma: 0.500061, grad mean: 0.000001\n",
            "Iter 168 - agent_1 w_minus_prime_gamma: 0.689860, grad mean: 87.876282\n"
          ]
        },
        {
          "output_type": "stream",
          "name": "stderr",
          "text": [
            "\repisode_reward_mean_agents = -473.48516845703125:  85%|████████▌ | 170/200 [14:40<02:36,  5.20s/it]"
          ]
        },
        {
          "output_type": "stream",
          "name": "stdout",
          "text": [
            "Iter 169 - agent_0 alpha: 1.200140, grad mean: 42.884781\n",
            "Iter 169 - agent_0 lam: 1.500140, grad mean: 4.486765\n",
            "Iter 169 - agent_0 w_plus_prime_gamma: 0.500061, grad mean: 0.000001\n",
            "Iter 169 - agent_0 w_minus_prime_gamma: 0.689860, grad mean: 124.252701\n",
            "Iter 169 - agent_1 alpha: 1.200140, grad mean: 34.308620\n",
            "Iter 169 - agent_1 lam: 1.200140, grad mean: 4.486765\n",
            "Iter 169 - agent_1 w_plus_prime_gamma: 0.500061, grad mean: 0.000001\n",
            "Iter 169 - agent_1 w_minus_prime_gamma: 0.689860, grad mean: 99.404388\n"
          ]
        },
        {
          "output_type": "stream",
          "name": "stderr",
          "text": [
            "\repisode_reward_mean_agents = -520.0921630859375:  86%|████████▌ | 171/200 [14:45<02:27,  5.08s/it] "
          ]
        },
        {
          "output_type": "stream",
          "name": "stdout",
          "text": [
            "Iteration 170: Adaptive loss = 0.05201183259487152, dynamic factor = 1.7322635650634766\n"
          ]
        },
        {
          "output_type": "stream",
          "name": "stderr",
          "text": [
            "\repisode_reward_mean_agents = -484.0438537597656:  86%|████████▌ | 172/200 [14:51<02:25,  5.20s/it]"
          ]
        },
        {
          "output_type": "stream",
          "name": "stdout",
          "text": [
            "Iter 171 - agent_0 alpha: 1.200150, grad mean: 4.860141\n",
            "Iter 171 - agent_0 lam: 1.500150, grad mean: 0.510288\n",
            "Iter 171 - agent_0 w_plus_prime_gamma: 0.500065, grad mean: 0.000000\n",
            "Iter 171 - agent_0 w_minus_prime_gamma: 0.689850, grad mean: 14.047259\n",
            "Iter 171 - agent_1 alpha: 1.200150, grad mean: 3.888212\n",
            "Iter 171 - agent_1 lam: 1.200150, grad mean: 0.510288\n",
            "Iter 171 - agent_1 w_plus_prime_gamma: 0.500065, grad mean: 0.000000\n",
            "Iter 171 - agent_1 w_minus_prime_gamma: 0.689850, grad mean: 11.238094\n"
          ]
        },
        {
          "output_type": "stream",
          "name": "stderr",
          "text": [
            "\repisode_reward_mean_agents = -575.9532470703125:  86%|████████▋ | 173/200 [14:56<02:19,  5.17s/it]"
          ]
        },
        {
          "output_type": "stream",
          "name": "stdout",
          "text": [
            "Iter 172 - agent_0 alpha: 1.200150, grad mean: 9.822975\n",
            "Iter 172 - agent_0 lam: 1.500150, grad mean: 1.027166\n",
            "Iter 172 - agent_0 w_plus_prime_gamma: 0.500065, grad mean: 0.000000\n",
            "Iter 172 - agent_0 w_minus_prime_gamma: 0.689850, grad mean: 28.393089\n",
            "Iter 172 - agent_1 alpha: 1.200150, grad mean: 7.858579\n",
            "Iter 172 - agent_1 lam: 1.200150, grad mean: 1.027166\n",
            "Iter 172 - agent_1 w_plus_prime_gamma: 0.500065, grad mean: 0.000000\n",
            "Iter 172 - agent_1 w_minus_prime_gamma: 0.689850, grad mean: 22.715057\n"
          ]
        },
        {
          "output_type": "stream",
          "name": "stderr",
          "text": [
            "\repisode_reward_mean_agents = -529.2379760742188:  87%|████████▋ | 174/200 [15:01<02:12,  5.11s/it]"
          ]
        },
        {
          "output_type": "stream",
          "name": "stdout",
          "text": [
            "Iter 173 - agent_0 alpha: 1.200150, grad mean: 14.604820\n",
            "Iter 173 - agent_0 lam: 1.500150, grad mean: 1.529573\n",
            "Iter 173 - agent_0 w_plus_prime_gamma: 0.500065, grad mean: 0.000000\n",
            "Iter 173 - agent_0 w_minus_prime_gamma: 0.689850, grad mean: 42.263489\n",
            "Iter 173 - agent_1 alpha: 1.200150, grad mean: 11.684149\n",
            "Iter 173 - agent_1 lam: 1.200150, grad mean: 1.529573\n",
            "Iter 173 - agent_1 w_plus_prime_gamma: 0.500065, grad mean: 0.000000\n",
            "Iter 173 - agent_1 w_minus_prime_gamma: 0.689850, grad mean: 33.811649\n"
          ]
        },
        {
          "output_type": "stream",
          "name": "stderr",
          "text": [
            "\repisode_reward_mean_agents = -473.07916259765625:  88%|████████▊ | 175/200 [15:06<02:09,  5.19s/it]"
          ]
        },
        {
          "output_type": "stream",
          "name": "stdout",
          "text": [
            "Iter 174 - agent_0 alpha: 1.200150, grad mean: 19.511570\n",
            "Iter 174 - agent_0 lam: 1.500150, grad mean: 2.038790\n",
            "Iter 174 - agent_0 w_plus_prime_gamma: 0.500065, grad mean: 0.000001\n",
            "Iter 174 - agent_0 w_minus_prime_gamma: 0.689850, grad mean: 56.461239\n",
            "Iter 174 - agent_1 alpha: 1.200150, grad mean: 15.609647\n",
            "Iter 174 - agent_1 lam: 1.200150, grad mean: 2.038790\n",
            "Iter 174 - agent_1 w_plus_prime_gamma: 0.500065, grad mean: 0.000001\n",
            "Iter 174 - agent_1 w_minus_prime_gamma: 0.689850, grad mean: 45.170139\n"
          ]
        },
        {
          "output_type": "stream",
          "name": "stderr",
          "text": [
            "\repisode_reward_mean_agents = -419.3282775878906:  88%|████████▊ | 176/200 [15:11<02:02,  5.11s/it] "
          ]
        },
        {
          "output_type": "stream",
          "name": "stdout",
          "text": [
            "Iter 175 - agent_0 alpha: 1.200150, grad mean: 24.430813\n",
            "Iter 175 - agent_0 lam: 1.500150, grad mean: 2.556159\n",
            "Iter 175 - agent_0 w_plus_prime_gamma: 0.500065, grad mean: 0.000001\n",
            "Iter 175 - agent_0 w_minus_prime_gamma: 0.689850, grad mean: 70.727463\n",
            "Iter 175 - agent_1 alpha: 1.200150, grad mean: 19.545139\n",
            "Iter 175 - agent_1 lam: 1.200150, grad mean: 2.556159\n",
            "Iter 175 - agent_1 w_plus_prime_gamma: 0.500065, grad mean: 0.000001\n",
            "Iter 175 - agent_1 w_minus_prime_gamma: 0.689850, grad mean: 56.583412\n"
          ]
        },
        {
          "output_type": "stream",
          "name": "stderr",
          "text": [
            "\repisode_reward_mean_agents = -500.2815856933594:  88%|████████▊ | 177/200 [15:16<02:00,  5.23s/it]"
          ]
        },
        {
          "output_type": "stream",
          "name": "stdout",
          "text": [
            "Iter 176 - agent_0 alpha: 1.200150, grad mean: 29.269194\n",
            "Iter 176 - agent_0 lam: 1.500150, grad mean: 3.063108\n",
            "Iter 176 - agent_0 w_plus_prime_gamma: 0.500065, grad mean: 0.000001\n",
            "Iter 176 - agent_0 w_minus_prime_gamma: 0.689850, grad mean: 84.741623\n",
            "Iter 176 - agent_1 alpha: 1.200150, grad mean: 23.415943\n",
            "Iter 176 - agent_1 lam: 1.200150, grad mean: 3.063108\n",
            "Iter 176 - agent_1 w_plus_prime_gamma: 0.500065, grad mean: 0.000001\n",
            "Iter 176 - agent_1 w_minus_prime_gamma: 0.689850, grad mean: 67.795021\n"
          ]
        },
        {
          "output_type": "stream",
          "name": "stderr",
          "text": [
            "\repisode_reward_mean_agents = -583.6416625976562:  89%|████████▉ | 178/200 [15:21<01:53,  5.18s/it]"
          ]
        },
        {
          "output_type": "stream",
          "name": "stdout",
          "text": [
            "Iter 177 - agent_0 alpha: 1.200150, grad mean: 34.222134\n",
            "Iter 177 - agent_0 lam: 1.500150, grad mean: 3.579473\n",
            "Iter 177 - agent_0 w_plus_prime_gamma: 0.500065, grad mean: 0.000001\n",
            "Iter 177 - agent_0 w_minus_prime_gamma: 0.689850, grad mean: 99.067825\n",
            "Iter 177 - agent_1 alpha: 1.200150, grad mean: 27.378403\n",
            "Iter 177 - agent_1 lam: 1.200150, grad mean: 3.579473\n",
            "Iter 177 - agent_1 w_plus_prime_gamma: 0.500065, grad mean: 0.000001\n",
            "Iter 177 - agent_1 w_minus_prime_gamma: 0.689850, grad mean: 79.256348\n"
          ]
        },
        {
          "output_type": "stream",
          "name": "stderr",
          "text": [
            "\repisode_reward_mean_agents = -529.5021362304688:  90%|████████▉ | 179/200 [15:27<01:51,  5.29s/it]"
          ]
        },
        {
          "output_type": "stream",
          "name": "stdout",
          "text": [
            "Iter 178 - agent_0 alpha: 1.200150, grad mean: 39.294552\n",
            "Iter 178 - agent_0 lam: 1.500150, grad mean: 4.108223\n",
            "Iter 178 - agent_0 w_plus_prime_gamma: 0.500065, grad mean: 0.000001\n",
            "Iter 178 - agent_0 w_minus_prime_gamma: 0.689850, grad mean: 113.715286\n",
            "Iter 178 - agent_1 alpha: 1.200150, grad mean: 31.436447\n",
            "Iter 178 - agent_1 lam: 1.200150, grad mean: 4.108223\n",
            "Iter 178 - agent_1 w_plus_prime_gamma: 0.500065, grad mean: 0.000001\n",
            "Iter 178 - agent_1 w_minus_prime_gamma: 0.689850, grad mean: 90.974640\n"
          ]
        },
        {
          "output_type": "stream",
          "name": "stderr",
          "text": [
            "\repisode_reward_mean_agents = -530.2305297851562:  90%|█████████ | 180/200 [15:32<01:43,  5.19s/it]"
          ]
        },
        {
          "output_type": "stream",
          "name": "stdout",
          "text": [
            "Iter 179 - agent_0 alpha: 1.200150, grad mean: 44.423061\n",
            "Iter 179 - agent_0 lam: 1.500150, grad mean: 4.650014\n",
            "Iter 179 - agent_0 w_plus_prime_gamma: 0.500065, grad mean: 0.000001\n",
            "Iter 179 - agent_0 w_minus_prime_gamma: 0.689850, grad mean: 128.569977\n",
            "Iter 179 - agent_1 alpha: 1.200150, grad mean: 35.539341\n",
            "Iter 179 - agent_1 lam: 1.200150, grad mean: 4.650014\n",
            "Iter 179 - agent_1 w_plus_prime_gamma: 0.500065, grad mean: 0.000001\n",
            "Iter 179 - agent_1 w_minus_prime_gamma: 0.689850, grad mean: 102.858650\n"
          ]
        },
        {
          "output_type": "stream",
          "name": "stderr",
          "text": [
            "\repisode_reward_mean_agents = -544.7283325195312:  90%|█████████ | 181/200 [15:37<01:37,  5.13s/it]"
          ]
        },
        {
          "output_type": "stream",
          "name": "stdout",
          "text": [
            "Iteration 180: Adaptive loss = 0.09268376976251602, dynamic factor = 2.9028778076171875\n"
          ]
        },
        {
          "output_type": "stream",
          "name": "stderr",
          "text": [
            "\repisode_reward_mean_agents = -508.6464538574219:  91%|█████████ | 182/200 [15:43<01:34,  5.26s/it]"
          ]
        },
        {
          "output_type": "stream",
          "name": "stdout",
          "text": [
            "Iter 181 - agent_0 alpha: 1.200160, grad mean: 5.223752\n",
            "Iter 181 - agent_0 lam: 1.500160, grad mean: 0.544756\n",
            "Iter 181 - agent_0 w_plus_prime_gamma: 0.500069, grad mean: 0.000000\n",
            "Iter 181 - agent_0 w_minus_prime_gamma: 0.689840, grad mean: 15.094688\n",
            "Iter 181 - agent_1 alpha: 1.200160, grad mean: 4.179114\n",
            "Iter 181 - agent_1 lam: 1.200160, grad mean: 0.544756\n",
            "Iter 181 - agent_1 w_plus_prime_gamma: 0.500069, grad mean: 0.000000\n",
            "Iter 181 - agent_1 w_minus_prime_gamma: 0.689840, grad mean: 12.076073\n"
          ]
        },
        {
          "output_type": "stream",
          "name": "stderr",
          "text": [
            "\repisode_reward_mean_agents = -481.99072265625:  92%|█████████▏| 183/200 [15:47<01:27,  5.15s/it]  "
          ]
        },
        {
          "output_type": "stream",
          "name": "stdout",
          "text": [
            "Iter 182 - agent_0 alpha: 1.200160, grad mean: 10.460606\n",
            "Iter 182 - agent_0 lam: 1.500160, grad mean: 1.089153\n",
            "Iter 182 - agent_0 w_plus_prime_gamma: 0.500069, grad mean: 0.000000\n",
            "Iter 182 - agent_0 w_minus_prime_gamma: 0.689840, grad mean: 30.203600\n",
            "Iter 182 - agent_1 alpha: 1.200160, grad mean: 8.368713\n",
            "Iter 182 - agent_1 lam: 1.200160, grad mean: 1.089153\n",
            "Iter 182 - agent_1 w_plus_prime_gamma: 0.500069, grad mean: 0.000000\n",
            "Iter 182 - agent_1 w_minus_prime_gamma: 0.689840, grad mean: 24.163523\n"
          ]
        },
        {
          "output_type": "stream",
          "name": "stderr",
          "text": [
            "\repisode_reward_mean_agents = -480.677001953125:  92%|█████████▏| 184/200 [15:54<01:28,  5.51s/it]"
          ]
        },
        {
          "output_type": "stream",
          "name": "stdout",
          "text": [
            "Iter 183 - agent_0 alpha: 1.200160, grad mean: 15.751181\n",
            "Iter 183 - agent_0 lam: 1.500160, grad mean: 1.645402\n",
            "Iter 183 - agent_0 w_plus_prime_gamma: 0.500069, grad mean: 0.000000\n",
            "Iter 183 - agent_0 w_minus_prime_gamma: 0.689840, grad mean: 45.476147\n",
            "Iter 183 - agent_1 alpha: 1.200160, grad mean: 12.601281\n",
            "Iter 183 - agent_1 lam: 1.200160, grad mean: 1.645402\n",
            "Iter 183 - agent_1 w_plus_prime_gamma: 0.500069, grad mean: 0.000000\n",
            "Iter 183 - agent_1 w_minus_prime_gamma: 0.689840, grad mean: 36.381920\n"
          ]
        },
        {
          "output_type": "stream",
          "name": "stderr",
          "text": [
            "\repisode_reward_mean_agents = -500.1422424316406:  92%|█████████▎| 185/200 [15:59<01:19,  5.32s/it]"
          ]
        },
        {
          "output_type": "stream",
          "name": "stdout",
          "text": [
            "Iter 184 - agent_0 alpha: 1.200160, grad mean: 21.094662\n",
            "Iter 184 - agent_0 lam: 1.500160, grad mean: 2.206791\n",
            "Iter 184 - agent_0 w_plus_prime_gamma: 0.500069, grad mean: 0.000001\n",
            "Iter 184 - agent_0 w_minus_prime_gamma: 0.689840, grad mean: 60.952263\n",
            "Iter 184 - agent_1 alpha: 1.200160, grad mean: 16.876181\n",
            "Iter 184 - agent_1 lam: 1.200160, grad mean: 2.206791\n",
            "Iter 184 - agent_1 w_plus_prime_gamma: 0.500069, grad mean: 0.000001\n",
            "Iter 184 - agent_1 w_minus_prime_gamma: 0.689840, grad mean: 48.763123\n"
          ]
        },
        {
          "output_type": "stream",
          "name": "stderr",
          "text": [
            "\repisode_reward_mean_agents = -492.052978515625:  93%|█████████▎| 186/200 [16:04<01:14,  5.36s/it] "
          ]
        },
        {
          "output_type": "stream",
          "name": "stdout",
          "text": [
            "Iter 185 - agent_0 alpha: 1.200160, grad mean: 26.358618\n",
            "Iter 185 - agent_0 lam: 1.500160, grad mean: 2.760092\n",
            "Iter 185 - agent_0 w_plus_prime_gamma: 0.500069, grad mean: 0.000001\n",
            "Iter 185 - agent_0 w_minus_prime_gamma: 0.689840, grad mean: 76.198441\n",
            "Iter 185 - agent_1 alpha: 1.200160, grad mean: 21.087458\n",
            "Iter 185 - agent_1 lam: 1.200160, grad mean: 2.760092\n",
            "Iter 185 - agent_1 w_plus_prime_gamma: 0.500069, grad mean: 0.000001\n",
            "Iter 185 - agent_1 w_minus_prime_gamma: 0.689840, grad mean: 60.960388\n"
          ]
        },
        {
          "output_type": "stream",
          "name": "stderr",
          "text": [
            "\repisode_reward_mean_agents = -482.31768798828125:  94%|█████████▎| 187/200 [16:09<01:07,  5.20s/it]"
          ]
        },
        {
          "output_type": "stream",
          "name": "stdout",
          "text": [
            "Iter 186 - agent_0 alpha: 1.200160, grad mean: 31.794243\n",
            "Iter 186 - agent_0 lam: 1.500160, grad mean: 3.326290\n",
            "Iter 186 - agent_0 w_plus_prime_gamma: 0.500069, grad mean: 0.000001\n",
            "Iter 186 - agent_0 w_minus_prime_gamma: 0.689840, grad mean: 91.905182\n",
            "Iter 186 - agent_1 alpha: 1.200160, grad mean: 25.436073\n",
            "Iter 186 - agent_1 lam: 1.200160, grad mean: 3.326290\n",
            "Iter 186 - agent_1 w_plus_prime_gamma: 0.500069, grad mean: 0.000001\n",
            "Iter 186 - agent_1 w_minus_prime_gamma: 0.689840, grad mean: 73.526077\n"
          ]
        },
        {
          "output_type": "stream",
          "name": "stderr",
          "text": [
            "\repisode_reward_mean_agents = -504.7378845214844:  94%|█████████▍| 188/200 [16:14<01:01,  5.12s/it] "
          ]
        },
        {
          "output_type": "stream",
          "name": "stdout",
          "text": [
            "Iter 187 - agent_0 alpha: 1.200160, grad mean: 37.183586\n",
            "Iter 187 - agent_0 lam: 1.500160, grad mean: 3.895224\n",
            "Iter 187 - agent_0 w_plus_prime_gamma: 0.500069, grad mean: 0.000001\n",
            "Iter 187 - agent_0 w_minus_prime_gamma: 0.689840, grad mean: 107.428215\n",
            "Iter 187 - agent_1 alpha: 1.200160, grad mean: 29.747639\n",
            "Iter 187 - agent_1 lam: 1.200160, grad mean: 3.895224\n",
            "Iter 187 - agent_1 w_plus_prime_gamma: 0.500069, grad mean: 0.000001\n",
            "Iter 187 - agent_1 w_minus_prime_gamma: 0.689840, grad mean: 85.944893\n"
          ]
        },
        {
          "output_type": "stream",
          "name": "stderr",
          "text": [
            "\repisode_reward_mean_agents = -521.0038452148438:  94%|█████████▍| 189/200 [16:19<00:57,  5.20s/it]"
          ]
        },
        {
          "output_type": "stream",
          "name": "stdout",
          "text": [
            "Iter 188 - agent_0 alpha: 1.200160, grad mean: 42.759827\n",
            "Iter 188 - agent_0 lam: 1.500160, grad mean: 4.471226\n",
            "Iter 188 - agent_0 w_plus_prime_gamma: 0.500069, grad mean: 0.000001\n",
            "Iter 188 - agent_0 w_minus_prime_gamma: 0.689840, grad mean: 123.510208\n",
            "Iter 188 - agent_1 alpha: 1.200160, grad mean: 34.208759\n",
            "Iter 188 - agent_1 lam: 1.200160, grad mean: 4.471226\n",
            "Iter 188 - agent_1 w_plus_prime_gamma: 0.500069, grad mean: 0.000001\n",
            "Iter 188 - agent_1 w_minus_prime_gamma: 0.689840, grad mean: 98.810783\n"
          ]
        },
        {
          "output_type": "stream",
          "name": "stderr",
          "text": [
            "\repisode_reward_mean_agents = -469.7966003417969:  95%|█████████▌| 190/200 [16:24<00:51,  5.11s/it]"
          ]
        },
        {
          "output_type": "stream",
          "name": "stdout",
          "text": [
            "Iter 189 - agent_0 alpha: 1.200160, grad mean: 48.219395\n",
            "Iter 189 - agent_0 lam: 1.500160, grad mean: 5.045531\n",
            "Iter 189 - agent_0 w_plus_prime_gamma: 0.500069, grad mean: 0.000001\n",
            "Iter 189 - agent_0 w_minus_prime_gamma: 0.689840, grad mean: 139.298706\n",
            "Iter 189 - agent_1 alpha: 1.200160, grad mean: 38.576550\n",
            "Iter 189 - agent_1 lam: 1.200160, grad mean: 5.045531\n",
            "Iter 189 - agent_1 w_plus_prime_gamma: 0.500069, grad mean: 0.000001\n",
            "Iter 189 - agent_1 w_minus_prime_gamma: 0.689840, grad mean: 111.441925\n"
          ]
        },
        {
          "output_type": "stream",
          "name": "stderr",
          "text": [
            "\repisode_reward_mean_agents = -487.8529357910156:  96%|█████████▌| 191/200 [16:30<00:47,  5.23s/it]"
          ]
        },
        {
          "output_type": "stream",
          "name": "stdout",
          "text": [
            "Iteration 190: Adaptive loss = 0.14292359352111816, dynamic factor = 5.144065856933594\n"
          ]
        },
        {
          "output_type": "stream",
          "name": "stderr",
          "text": [
            "\repisode_reward_mean_agents = -554.0320434570312:  96%|█████████▌| 192/200 [16:35<00:41,  5.18s/it]"
          ]
        },
        {
          "output_type": "stream",
          "name": "stdout",
          "text": [
            "Iter 191 - agent_0 alpha: 1.200170, grad mean: 5.834091\n",
            "Iter 191 - agent_0 lam: 1.500170, grad mean: 0.611726\n",
            "Iter 191 - agent_0 w_plus_prime_gamma: 0.500073, grad mean: 0.000000\n",
            "Iter 191 - agent_0 w_minus_prime_gamma: 0.689830, grad mean: 16.793400\n",
            "Iter 191 - agent_1 alpha: 1.200170, grad mean: 4.667402\n",
            "Iter 191 - agent_1 lam: 1.200170, grad mean: 0.611726\n",
            "Iter 191 - agent_1 w_plus_prime_gamma: 0.500073, grad mean: 0.000000\n",
            "Iter 191 - agent_1 w_minus_prime_gamma: 0.689830, grad mean: 13.435104\n"
          ]
        },
        {
          "output_type": "stream",
          "name": "stderr",
          "text": [
            "\repisode_reward_mean_agents = -409.8778381347656:  96%|█████████▋| 193/200 [16:40<00:36,  5.24s/it]"
          ]
        },
        {
          "output_type": "stream",
          "name": "stdout",
          "text": [
            "Iter 192 - agent_0 alpha: 1.200170, grad mean: 11.742702\n",
            "Iter 192 - agent_0 lam: 1.500170, grad mean: 1.237358\n",
            "Iter 192 - agent_0 w_plus_prime_gamma: 0.500073, grad mean: 0.000000\n",
            "Iter 192 - agent_0 w_minus_prime_gamma: 0.689830, grad mean: 33.780964\n",
            "Iter 192 - agent_1 alpha: 1.200170, grad mean: 9.394423\n",
            "Iter 192 - agent_1 lam: 1.200170, grad mean: 1.237358\n",
            "Iter 192 - agent_1 w_plus_prime_gamma: 0.500073, grad mean: 0.000000\n",
            "Iter 192 - agent_1 w_minus_prime_gamma: 0.689830, grad mean: 27.025545\n"
          ]
        },
        {
          "output_type": "stream",
          "name": "stderr",
          "text": [
            "\repisode_reward_mean_agents = -535.8864135742188:  97%|█████████▋| 194/200 [16:45<00:31,  5.18s/it]"
          ]
        },
        {
          "output_type": "stream",
          "name": "stdout",
          "text": [
            "Iter 193 - agent_0 alpha: 1.200170, grad mean: 17.642719\n",
            "Iter 193 - agent_0 lam: 1.500170, grad mean: 1.854670\n",
            "Iter 193 - agent_0 w_plus_prime_gamma: 0.500073, grad mean: 0.000001\n",
            "Iter 193 - agent_0 w_minus_prime_gamma: 0.689830, grad mean: 50.842499\n",
            "Iter 193 - agent_1 alpha: 1.200170, grad mean: 14.114574\n",
            "Iter 193 - agent_1 lam: 1.200170, grad mean: 1.854670\n",
            "Iter 193 - agent_1 w_plus_prime_gamma: 0.500073, grad mean: 0.000001\n",
            "Iter 193 - agent_1 w_minus_prime_gamma: 0.689830, grad mean: 40.675179\n"
          ]
        },
        {
          "output_type": "stream",
          "name": "stderr",
          "text": [
            "\repisode_reward_mean_agents = -473.03399658203125:  98%|█████████▊| 195/200 [16:50<00:25,  5.10s/it]"
          ]
        },
        {
          "output_type": "stream",
          "name": "stdout",
          "text": [
            "Iter 194 - agent_0 alpha: 1.200170, grad mean: 23.613501\n",
            "Iter 194 - agent_0 lam: 1.500170, grad mean: 2.486857\n",
            "Iter 194 - agent_0 w_plus_prime_gamma: 0.500073, grad mean: 0.000001\n",
            "Iter 194 - agent_0 w_minus_prime_gamma: 0.689830, grad mean: 68.060318\n",
            "Iter 194 - agent_1 alpha: 1.200170, grad mean: 18.891333\n",
            "Iter 194 - agent_1 lam: 1.200170, grad mean: 2.486857\n",
            "Iter 194 - agent_1 w_plus_prime_gamma: 0.500073, grad mean: 0.000001\n",
            "Iter 194 - agent_1 w_minus_prime_gamma: 0.689830, grad mean: 54.449833\n"
          ]
        },
        {
          "output_type": "stream",
          "name": "stderr",
          "text": [
            "\repisode_reward_mean_agents = -603.077392578125:  98%|█████████▊| 196/200 [16:56<00:20,  5.23s/it]  "
          ]
        },
        {
          "output_type": "stream",
          "name": "stdout",
          "text": [
            "Iter 195 - agent_0 alpha: 1.200170, grad mean: 29.720272\n",
            "Iter 195 - agent_0 lam: 1.500170, grad mean: 3.128843\n",
            "Iter 195 - agent_0 w_plus_prime_gamma: 0.500073, grad mean: 0.000001\n",
            "Iter 195 - agent_0 w_minus_prime_gamma: 0.689830, grad mean: 85.630531\n",
            "Iter 195 - agent_1 alpha: 1.200170, grad mean: 23.776888\n",
            "Iter 195 - agent_1 lam: 1.200170, grad mean: 3.128843\n",
            "Iter 195 - agent_1 w_plus_prime_gamma: 0.500073, grad mean: 0.000001\n",
            "Iter 195 - agent_1 w_minus_prime_gamma: 0.689830, grad mean: 68.506409\n"
          ]
        },
        {
          "output_type": "stream",
          "name": "stderr",
          "text": [
            "\repisode_reward_mean_agents = -559.131103515625:  98%|█████████▊| 197/200 [17:00<00:15,  5.11s/it]"
          ]
        },
        {
          "output_type": "stream",
          "name": "stdout",
          "text": [
            "Iter 196 - agent_0 alpha: 1.200170, grad mean: 35.668655\n",
            "Iter 196 - agent_0 lam: 1.500170, grad mean: 3.757627\n",
            "Iter 196 - agent_0 w_plus_prime_gamma: 0.500073, grad mean: 0.000001\n",
            "Iter 196 - agent_0 w_minus_prime_gamma: 0.689830, grad mean: 102.808113\n",
            "Iter 196 - agent_1 alpha: 1.200170, grad mean: 28.535706\n",
            "Iter 196 - agent_1 lam: 1.200170, grad mean: 3.757627\n",
            "Iter 196 - agent_1 w_plus_prime_gamma: 0.500073, grad mean: 0.000001\n",
            "Iter 196 - agent_1 w_minus_prime_gamma: 0.689830, grad mean: 82.248863\n"
          ]
        },
        {
          "output_type": "stream",
          "name": "stderr",
          "text": [
            "\repisode_reward_mean_agents = -407.782470703125:  99%|█████████▉| 198/200 [17:06<00:10,  5.22s/it]"
          ]
        },
        {
          "output_type": "stream",
          "name": "stdout",
          "text": [
            "Iter 197 - agent_0 alpha: 1.200170, grad mean: 41.635876\n",
            "Iter 197 - agent_0 lam: 1.500170, grad mean: 4.390976\n",
            "Iter 197 - agent_0 w_plus_prime_gamma: 0.500073, grad mean: 0.000001\n",
            "Iter 197 - agent_0 w_minus_prime_gamma: 0.689830, grad mean: 120.023552\n",
            "Iter 197 - agent_1 alpha: 1.200170, grad mean: 33.309605\n",
            "Iter 197 - agent_1 lam: 1.200170, grad mean: 4.390976\n",
            "Iter 197 - agent_1 w_plus_prime_gamma: 0.500073, grad mean: 0.000001\n",
            "Iter 197 - agent_1 w_minus_prime_gamma: 0.689830, grad mean: 96.021652\n"
          ]
        },
        {
          "output_type": "stream",
          "name": "stderr",
          "text": [
            "\repisode_reward_mean_agents = -475.30743408203125: 100%|█████████▉| 199/200 [17:11<00:05,  5.11s/it]"
          ]
        },
        {
          "output_type": "stream",
          "name": "stdout",
          "text": [
            "Iter 198 - agent_0 alpha: 1.200170, grad mean: 47.754375\n",
            "Iter 198 - agent_0 lam: 1.500170, grad mean: 5.035998\n",
            "Iter 198 - agent_0 w_plus_prime_gamma: 0.500073, grad mean: 0.000001\n",
            "Iter 198 - agent_0 w_minus_prime_gamma: 0.689830, grad mean: 137.602829\n",
            "Iter 198 - agent_1 alpha: 1.200170, grad mean: 38.204521\n",
            "Iter 198 - agent_1 lam: 1.200170, grad mean: 5.035998\n",
            "Iter 198 - agent_1 w_plus_prime_gamma: 0.500073, grad mean: 0.000001\n",
            "Iter 198 - agent_1 w_minus_prime_gamma: 0.689830, grad mean: 110.085487\n"
          ]
        },
        {
          "output_type": "stream",
          "name": "stderr",
          "text": [
            "\repisode_reward_mean_agents = -432.3363342285156: 100%|██████████| 200/200 [17:16<00:00,  5.22s/it] "
          ]
        },
        {
          "output_type": "stream",
          "name": "stdout",
          "text": [
            "Iter 199 - agent_0 alpha: 1.200170, grad mean: 53.845490\n",
            "Iter 199 - agent_0 lam: 1.500170, grad mean: 5.675220\n",
            "Iter 199 - agent_0 w_plus_prime_gamma: 0.500073, grad mean: 0.000002\n",
            "Iter 199 - agent_0 w_minus_prime_gamma: 0.689830, grad mean: 155.156265\n",
            "Iter 199 - agent_1 alpha: 1.200170, grad mean: 43.077526\n",
            "Iter 199 - agent_1 lam: 1.200170, grad mean: 5.675220\n",
            "Iter 199 - agent_1 w_plus_prime_gamma: 0.500073, grad mean: 0.000002\n",
            "Iter 199 - agent_1 w_minus_prime_gamma: 0.689830, grad mean: 124.128647\n"
          ]
        }
      ],
      "source": [
        "pbar = tqdm(\n",
        "    total=n_iters,\n",
        "    desc=\", \".join(\n",
        "        [f\"episode_reward_mean_{group} = 0\" for group in env.group_map.keys()]\n",
        "    ),\n",
        ")\n",
        "episode_reward_mean_map = {group: [] for group in env.group_map.keys()}\n",
        "train_group_map = copy.deepcopy(env.group_map)\n",
        "\n",
        "\n",
        "adaptive_update_frequency = 10  # update adaptive parameters every 10 iterations\n",
        "freeze_adaptive_until = 20  # don't update adaptive parameters until after 20 iterations\n",
        "scale_factor = 1e-3  # scaling for adaptive loss\n",
        "reg_lambda = 1e-3  # regularization coefficient\n",
        "\n",
        "# (Assume initial_params is defined right after adaptive_params creation)\n",
        "# For example:\n",
        "initial_params = {\n",
        "    agent_id: {name: param.clone().detach() for name, param in module.get_params().items()}\n",
        "    for agent_id, module in adaptive_params.items()\n",
        "}\n",
        "\n",
        "previous_base_loss = None\n",
        "\n",
        "for iteration, batch in enumerate(collector):\n",
        "    current_frames = batch.numel()\n",
        "    batch = process_batch(batch)\n",
        "\n",
        "    for group in train_group_map.keys():\n",
        "        group_batch = batch.exclude(\n",
        "            *[\n",
        "                key\n",
        "                for _group in env.group_map.keys()\n",
        "                if _group != group\n",
        "                for key in [_group, (\"next\", _group)]\n",
        "            ]\n",
        "        )\n",
        "        group_batch = group_batch.reshape(-1)\n",
        "        replay_buffers[group].extend(group_batch)\n",
        "\n",
        "        for _ in range(n_optimiser_steps):\n",
        "            subdata = replay_buffers[group].sample()\n",
        "            loss_vals = losses[group](subdata)\n",
        "            for loss_name in [\"loss_actor\", \"loss_value\"]:\n",
        "                loss_value = loss_vals[loss_name]\n",
        "                optimiser = optimisers[group][loss_name]\n",
        "                loss_value.backward()\n",
        "                torch.nn.utils.clip_grad_norm_(optimiser.param_groups[0][\"params\"], max_grad_norm)\n",
        "                optimiser.step()\n",
        "                optimiser.zero_grad()\n",
        "            target_updaters[group].step()\n",
        "            exploration_policies[group][-1].step(current_frames)\n",
        "\n",
        "    # Decoupled update for adaptive parameters every adaptive_update_frequency iterations,\n",
        "    # but only after freeze_adaptive_until iterations.\n",
        "    if iteration > freeze_adaptive_until and iteration % adaptive_update_frequency == 0:\n",
        "        # Sample a batch from the cooperative group \"agents\"\n",
        "        subdata = replay_buffers[\"agents\"].sample()\n",
        "\n",
        "        # Compute the standard target Q-value:\n",
        "        target_value = losses[\"agents\"]._value_estimator.value_estimate(\n",
        "            subdata, target_params=losses[\"agents\"]._cached_target_params\n",
        "        ).squeeze(-1)\n",
        "\n",
        "        # Compute the CPT-transformed target:\n",
        "        target_value_CPT = C_transform_cross_dynamic(target_value, adaptive_params)\n",
        "\n",
        "        # Compute the base adaptive loss as mean squared error:\n",
        "        base_loss = torch.mean((target_value_CPT - target_value) ** 2)\n",
        "\n",
        "        # Compute a dynamic scaling factor based on the change in base loss\n",
        "        if previous_base_loss is None:\n",
        "            dynamic_factor = 1.0\n",
        "        else:\n",
        "            # Increase the factor if the loss has changed substantially\n",
        "            dynamic_factor = 1.0 + torch.abs(base_loss - previous_base_loss)\n",
        "            # If you prefer to have a plain Python float, you can call .item() here\n",
        "            # dynamic_factor = 1.0 + torch.abs(base_loss - previous_base_loss).item()\n",
        "\n",
        "        # Update the previous_base_loss for the next adaptive update (detach it to avoid gradient tracking)\n",
        "        previous_base_loss = base_loss.detach()\n",
        "\n",
        "        # Compute the L2 regularization loss for keeping adaptive parameters near their initial values:\n",
        "        reg_loss = 0.0\n",
        "        for agent_id, module in adaptive_params.items():\n",
        "            params = module.get_params()\n",
        "            for name, param in params.items():\n",
        "                reg_loss += torch.mean((param - initial_params[agent_id][name]) ** 2)\n",
        "\n",
        "        # Combine the base adaptive loss (scaled dynamically) with the regularization term\n",
        "        adaptive_loss = dynamic_factor * scale_factor * base_loss + reg_lambda * reg_loss\n",
        "\n",
        "        # Print out the loss and the dynamic factor (dynamic_factor is a float or a tensor—if it's a float, no .item() is needed)\n",
        "        print(f\"Iteration {iteration}: Adaptive loss = {adaptive_loss.item()}, dynamic factor = {dynamic_factor}\")\n",
        "\n",
        "        # Backward pass and update adaptive parameters:\n",
        "        adaptive_loss.backward()\n",
        "        torch.nn.utils.clip_grad_norm_(adaptive_params.parameters(), max_norm=1.0)\n",
        "        optimizer_behavioral.step()\n",
        "        optimizer_behavioral.zero_grad()\n",
        "\n",
        "    # Optionally, monitor adaptive parameters here\n",
        "    for agent_id, module in adaptive_params.items():\n",
        "        params = module.get_params()\n",
        "        for name, param in params.items():\n",
        "            if param.grad is not None:\n",
        "                print(f\"Iter {iteration} - {agent_id} {name}: {param.item():.6f}, grad mean: {param.grad.abs().mean().item():.6f}\")\n",
        "\n",
        "    # Logging of episode rewards, etc.\n",
        "    for group in env.group_map.keys():\n",
        "        episode_reward_mean = (\n",
        "            batch.get((\"next\", group, \"episode_reward\"))[\n",
        "                batch.get((\"next\", group, \"done\"))\n",
        "            ]\n",
        "            .mean()\n",
        "            .item()\n",
        "        )\n",
        "        episode_reward_mean_map[group].append(episode_reward_mean)\n",
        "\n",
        "    pbar.set_description(\n",
        "        \", \".join(\n",
        "            [\n",
        "                f\"episode_reward_mean_{group} = {episode_reward_mean_map[group][-1]}\"\n",
        "                for group in env.group_map.keys()\n",
        "            ]\n",
        "        ),\n",
        "        refresh=False,\n",
        "    )\n",
        "    pbar.update()\n",
        "\n"
      ]
    },
    {
      "cell_type": "markdown",
      "metadata": {
        "id": "UdxfvvGb2uRb"
      },
      "source": [
        "This is our \"test\" to make sure our agents are trainng, we see after the agent stops training the adversaries rewards are increasing and then while it is trainng their rewards both go to 0"
      ]
    },
    {
      "cell_type": "code",
      "execution_count": null,
      "metadata": {
        "id": "N_voZiw3WnTw",
        "colab": {
          "base_uri": "https://localhost:8080/",
          "height": 465
        },
        "outputId": "ca874291-ae18-4a62-9e07-8364bd11a86b"
      },
      "outputs": [
        {
          "output_type": "display_data",
          "data": {
            "text/plain": [
              "<Figure size 640x480 with 1 Axes>"
            ],
            "image/png": "[encoded data removed]"
          },
          "metadata": {}
        },
        {
          "output_type": "stream",
          "name": "stdout",
          "text": [
            "dict_keys(['agents'])\n"
          ]
        }
      ],
      "source": [
        "fig, axs = plt.subplots(1, 1)\n",
        "for i, group in enumerate(env.group_map.keys()):\n",
        "    axs.plot(episode_reward_mean_map[group], label=f\"Episode reward mean {group}\")\n",
        "    axs.set_ylabel(\"Reward\")\n",
        "    axs.legend()\n",
        "axs.set_xlabel(\"Training iterations\")\n",
        "plt.show()\n",
        "print(env.group_map.keys())"
      ]
    },
    {
      "cell_type": "code",
      "execution_count": null,
      "metadata": {
        "id": "sBIAaI_SXoSd",
        "colab": {
          "base_uri": "https://localhost:8080/",
          "height": 605
        },
        "outputId": "f8bcdaf0-5a79-4b01-d63c-cfa19f66e46f"
      },
      "outputs": [
        {
          "output_type": "stream",
          "name": "stdout",
          "text": [
            "Creating rendering env\n",
            "Rendering rollout...\n"
          ]
        },
        {
          "output_type": "error",
          "ename": "ImportError",
          "evalue": "Error occurred while running `from pyglet.gl import *`, HINT: make sure you have OpenGL installed. On Ubuntu, you can run 'apt-get install python3-opengl'. If you're running on a server, you may need a virtual frame buffer; something like this should work:'xvfb-run -s \"-screen 0 1400x900x24\" python <your_script.py>'",
          "traceback": [
            "\u001b[0;31m---------------------------------------------------------------------------\u001b[0m",
            "\u001b[0;31mImportError\u001b[0m                               Traceback (most recent call last)",
            "\u001b[0;32m/usr/local/lib/python3.11/dist-packages/vmas/simulator/rendering.py\u001b[0m in \u001b[0;36m<module>\u001b[0;34m\u001b[0m\n\u001b[1;32m     24\u001b[0m \u001b[0;32mtry\u001b[0m\u001b[0;34m:\u001b[0m\u001b[0;34m\u001b[0m\u001b[0;34m\u001b[0m\u001b[0m\n\u001b[0;32m---> 25\u001b[0;31m     from pyglet.gl import (\n\u001b[0m\u001b[1;32m     26\u001b[0m         \u001b[0mGL_BLEND\u001b[0m\u001b[0;34m,\u001b[0m\u001b[0;34m\u001b[0m\u001b[0;34m\u001b[0m\u001b[0m\n",
            "\u001b[0;32m/usr/local/lib/python3.11/dist-packages/pyglet/gl/__init__.py\u001b[0m in \u001b[0;36m<module>\u001b[0;34m\u001b[0m\n\u001b[1;32m     94\u001b[0m \u001b[0;34m\u001b[0m\u001b[0m\n\u001b[0;32m---> 95\u001b[0;31m \u001b[0;32mfrom\u001b[0m \u001b[0mpyglet\u001b[0m\u001b[0;34m.\u001b[0m\u001b[0mgl\u001b[0m\u001b[0;34m.\u001b[0m\u001b[0mgl\u001b[0m \u001b[0;32mimport\u001b[0m \u001b[0;34m*\u001b[0m\u001b[0;34m\u001b[0m\u001b[0;34m\u001b[0m\u001b[0m\n\u001b[0m\u001b[1;32m     96\u001b[0m \u001b[0;32mfrom\u001b[0m \u001b[0mpyglet\u001b[0m\u001b[0;34m.\u001b[0m\u001b[0mgl\u001b[0m\u001b[0;34m.\u001b[0m\u001b[0mglu\u001b[0m \u001b[0;32mimport\u001b[0m \u001b[0;34m*\u001b[0m\u001b[0;34m\u001b[0m\u001b[0;34m\u001b[0m\u001b[0m\n",
            "\u001b[0;32m/usr/local/lib/python3.11/dist-packages/pyglet/gl/gl.py\u001b[0m in \u001b[0;36m<module>\u001b[0;34m\u001b[0m\n\u001b[1;32m     44\u001b[0m \u001b[0;32mfrom\u001b[0m \u001b[0mctypes\u001b[0m \u001b[0;32mimport\u001b[0m \u001b[0;34m*\u001b[0m\u001b[0;34m\u001b[0m\u001b[0;34m\u001b[0m\u001b[0m\n\u001b[0;32m---> 45\u001b[0;31m \u001b[0;32mfrom\u001b[0m \u001b[0mpyglet\u001b[0m\u001b[0;34m.\u001b[0m\u001b[0mgl\u001b[0m\u001b[0;34m.\u001b[0m\u001b[0mlib\u001b[0m \u001b[0;32mimport\u001b[0m \u001b[0mlink_GL\u001b[0m \u001b[0;32mas\u001b[0m \u001b[0m_link_function\u001b[0m\u001b[0;34m\u001b[0m\u001b[0;34m\u001b[0m\u001b[0m\n\u001b[0m\u001b[1;32m     46\u001b[0m \u001b[0;32mfrom\u001b[0m \u001b[0mpyglet\u001b[0m\u001b[0;34m.\u001b[0m\u001b[0mgl\u001b[0m\u001b[0;34m.\u001b[0m\u001b[0mlib\u001b[0m \u001b[0;32mimport\u001b[0m \u001b[0mc_ptrdiff_t\u001b[0m\u001b[0;34m\u001b[0m\u001b[0;34m\u001b[0m\u001b[0m\n",
            "\u001b[0;32m/usr/local/lib/python3.11/dist-packages/pyglet/gl/lib.py\u001b[0m in \u001b[0;36m<module>\u001b[0;34m\u001b[0m\n\u001b[1;32m    148\u001b[0m \u001b[0;32melse\u001b[0m\u001b[0;34m:\u001b[0m\u001b[0;34m\u001b[0m\u001b[0;34m\u001b[0m\u001b[0m\n\u001b[0;32m--> 149\u001b[0;31m     \u001b[0;32mfrom\u001b[0m \u001b[0mpyglet\u001b[0m\u001b[0;34m.\u001b[0m\u001b[0mgl\u001b[0m\u001b[0;34m.\u001b[0m\u001b[0mlib_glx\u001b[0m \u001b[0;32mimport\u001b[0m \u001b[0mlink_GL\u001b[0m\u001b[0;34m,\u001b[0m \u001b[0mlink_GLU\u001b[0m\u001b[0;34m,\u001b[0m \u001b[0mlink_GLX\u001b[0m\u001b[0;34m\u001b[0m\u001b[0;34m\u001b[0m\u001b[0m\n\u001b[0m",
            "\u001b[0;32m/usr/local/lib/python3.11/dist-packages/pyglet/gl/lib_glx.py\u001b[0m in \u001b[0;36m<module>\u001b[0;34m\u001b[0m\n\u001b[1;32m     45\u001b[0m \u001b[0mgl_lib\u001b[0m \u001b[0;34m=\u001b[0m \u001b[0mpyglet\u001b[0m\u001b[0;34m.\u001b[0m\u001b[0mlib\u001b[0m\u001b[0;34m.\u001b[0m\u001b[0mload_library\u001b[0m\u001b[0;34m(\u001b[0m\u001b[0;34m'GL'\u001b[0m\u001b[0;34m)\u001b[0m\u001b[0;34m\u001b[0m\u001b[0;34m\u001b[0m\u001b[0m\n\u001b[0;32m---> 46\u001b[0;31m \u001b[0mglu_lib\u001b[0m \u001b[0;34m=\u001b[0m \u001b[0mpyglet\u001b[0m\u001b[0;34m.\u001b[0m\u001b[0mlib\u001b[0m\u001b[0;34m.\u001b[0m\u001b[0mload_library\u001b[0m\u001b[0;34m(\u001b[0m\u001b[0;34m'GLU'\u001b[0m\u001b[0;34m)\u001b[0m\u001b[0;34m\u001b[0m\u001b[0;34m\u001b[0m\u001b[0m\n\u001b[0m\u001b[1;32m     47\u001b[0m \u001b[0;34m\u001b[0m\u001b[0m\n",
            "\u001b[0;32m/usr/local/lib/python3.11/dist-packages/pyglet/lib.py\u001b[0m in \u001b[0;36mload_library\u001b[0;34m(self, *names, **kwargs)\u001b[0m\n\u001b[1;32m    167\u001b[0m \u001b[0;34m\u001b[0m\u001b[0m\n\u001b[0;32m--> 168\u001b[0;31m         \u001b[0;32mraise\u001b[0m \u001b[0mImportError\u001b[0m\u001b[0;34m(\u001b[0m\u001b[0;34m'Library \"%s\" not found.'\u001b[0m \u001b[0;34m%\u001b[0m \u001b[0mnames\u001b[0m\u001b[0;34m[\u001b[0m\u001b[0;36m0\u001b[0m\u001b[0;34m]\u001b[0m\u001b[0;34m)\u001b[0m\u001b[0;34m\u001b[0m\u001b[0;34m\u001b[0m\u001b[0m\n\u001b[0m\u001b[1;32m    169\u001b[0m \u001b[0;34m\u001b[0m\u001b[0m\n",
            "\u001b[0;31mImportError\u001b[0m: Library \"GLU\" not found.",
            "\nDuring handling of the above exception, another exception occurred:\n",
            "\u001b[0;31mImportError\u001b[0m                               Traceback (most recent call last)",
            "\u001b[0;32m<ipython-input-118-a1fda816bdad>\u001b[0m in \u001b[0;36m<cell line: 0>\u001b[0;34m()\u001b[0m\n\u001b[1;32m     20\u001b[0m         \u001b[0;32mwith\u001b[0m \u001b[0mset_exploration_type\u001b[0m\u001b[0;34m(\u001b[0m\u001b[0mExplorationType\u001b[0m\u001b[0;34m.\u001b[0m\u001b[0mDETERMINISTIC\u001b[0m\u001b[0;34m)\u001b[0m\u001b[0;34m:\u001b[0m\u001b[0;34m\u001b[0m\u001b[0;34m\u001b[0m\u001b[0m\n\u001b[1;32m     21\u001b[0m             \u001b[0mprint\u001b[0m\u001b[0;34m(\u001b[0m\u001b[0;34m\"Rendering rollout...\"\u001b[0m\u001b[0;34m)\u001b[0m\u001b[0;34m\u001b[0m\u001b[0;34m\u001b[0m\u001b[0m\n\u001b[0;32m---> 22\u001b[0;31m             \u001b[0menv_with_render\u001b[0m\u001b[0;34m.\u001b[0m\u001b[0mrollout\u001b[0m\u001b[0;34m(\u001b[0m\u001b[0;36m100\u001b[0m\u001b[0;34m,\u001b[0m \u001b[0mpolicy\u001b[0m\u001b[0;34m=\u001b[0m\u001b[0magents_exploration_policy\u001b[0m\u001b[0;34m)\u001b[0m\u001b[0;34m\u001b[0m\u001b[0;34m\u001b[0m\u001b[0m\n\u001b[0m\u001b[1;32m     23\u001b[0m         \u001b[0mprint\u001b[0m\u001b[0;34m(\u001b[0m\u001b[0;34m\"Saving the video...\"\u001b[0m\u001b[0;34m)\u001b[0m\u001b[0;34m\u001b[0m\u001b[0;34m\u001b[0m\u001b[0m\n\u001b[1;32m     24\u001b[0m         \u001b[0menv_with_render\u001b[0m\u001b[0;34m.\u001b[0m\u001b[0mtransform\u001b[0m\u001b[0;34m.\u001b[0m\u001b[0mdump\u001b[0m\u001b[0;34m(\u001b[0m\u001b[0;34m)\u001b[0m\u001b[0;34m\u001b[0m\u001b[0;34m\u001b[0m\u001b[0m\n",
            "\u001b[0;32m/usr/local/lib/python3.11/dist-packages/torchrl/envs/common.py\u001b[0m in \u001b[0;36mrollout\u001b[0;34m(self, max_steps, policy, callback, auto_reset, auto_cast_to_device, break_when_any_done, break_when_all_done, return_contiguous, tensordict, set_truncated, out, trust_policy)\u001b[0m\n\u001b[1;32m   2598\u001b[0m             policy = _make_compatible_policy(\n\u001b[1;32m   2599\u001b[0m                 \u001b[0mpolicy\u001b[0m\u001b[0;34m,\u001b[0m\u001b[0;34m\u001b[0m\u001b[0;34m\u001b[0m\u001b[0m\n\u001b[0;32m-> 2600\u001b[0;31m                 \u001b[0mself\u001b[0m\u001b[0;34m.\u001b[0m\u001b[0mobservation_spec\u001b[0m\u001b[0;34m,\u001b[0m\u001b[0;34m\u001b[0m\u001b[0;34m\u001b[0m\u001b[0m\n\u001b[0m\u001b[1;32m   2601\u001b[0m                 \u001b[0menv\u001b[0m\u001b[0;34m=\u001b[0m\u001b[0mself\u001b[0m\u001b[0;34m,\u001b[0m\u001b[0;34m\u001b[0m\u001b[0;34m\u001b[0m\u001b[0m\n\u001b[1;32m   2602\u001b[0m                 \u001b[0mfast_wrap\u001b[0m\u001b[0;34m=\u001b[0m\u001b[0;32mTrue\u001b[0m\u001b[0;34m,\u001b[0m\u001b[0;34m\u001b[0m\u001b[0;34m\u001b[0m\u001b[0m\n",
            "\u001b[0;32m/usr/local/lib/python3.11/dist-packages/torchrl/envs/common.py\u001b[0m in \u001b[0;36mobservation_spec\u001b[0;34m(self)\u001b[0m\n\u001b[1;32m   1341\u001b[0m \u001b[0;34m\u001b[0m\u001b[0m\n\u001b[1;32m   1342\u001b[0m         \"\"\"\n\u001b[0;32m-> 1343\u001b[0;31m         \u001b[0mobservation_spec\u001b[0m \u001b[0;34m=\u001b[0m \u001b[0mself\u001b[0m\u001b[0;34m.\u001b[0m\u001b[0moutput_spec\u001b[0m\u001b[0;34m.\u001b[0m\u001b[0mget\u001b[0m\u001b[0;34m(\u001b[0m\u001b[0;34m\"full_observation_spec\"\u001b[0m\u001b[0;34m,\u001b[0m \u001b[0mdefault\u001b[0m\u001b[0;34m=\u001b[0m\u001b[0;32mNone\u001b[0m\u001b[0;34m)\u001b[0m\u001b[0;34m\u001b[0m\u001b[0;34m\u001b[0m\u001b[0m\n\u001b[0m\u001b[1;32m   1344\u001b[0m         \u001b[0;32mif\u001b[0m \u001b[0mobservation_spec\u001b[0m \u001b[0;32mis\u001b[0m \u001b[0;32mNone\u001b[0m\u001b[0;34m:\u001b[0m\u001b[0;34m\u001b[0m\u001b[0;34m\u001b[0m\u001b[0m\n\u001b[1;32m   1345\u001b[0m             \u001b[0mobservation_spec\u001b[0m \u001b[0;34m=\u001b[0m \u001b[0mComposite\u001b[0m\u001b[0;34m(\u001b[0m\u001b[0mshape\u001b[0m\u001b[0;34m=\u001b[0m\u001b[0mself\u001b[0m\u001b[0;34m.\u001b[0m\u001b[0mbatch_size\u001b[0m\u001b[0;34m,\u001b[0m \u001b[0mdevice\u001b[0m\u001b[0;34m=\u001b[0m\u001b[0mself\u001b[0m\u001b[0;34m.\u001b[0m\u001b[0mdevice\u001b[0m\u001b[0;34m)\u001b[0m\u001b[0;34m\u001b[0m\u001b[0;34m\u001b[0m\u001b[0m\n",
            "\u001b[0;32m/usr/local/lib/python3.11/dist-packages/torchrl/envs/transforms/transforms.py\u001b[0m in \u001b[0;36moutput_spec\u001b[0;34m(self)\u001b[0m\n\u001b[1;32m    751\u001b[0m             \u001b[0msuper\u001b[0m\u001b[0;34m(\u001b[0m\u001b[0;34m)\u001b[0m\u001b[0;34m.\u001b[0m\u001b[0mempty_cache\u001b[0m\u001b[0;34m(\u001b[0m\u001b[0;34m)\u001b[0m\u001b[0;34m\u001b[0m\u001b[0;34m\u001b[0m\u001b[0m\n\u001b[1;32m    752\u001b[0m             \u001b[0moutput_spec\u001b[0m \u001b[0;34m=\u001b[0m \u001b[0moutput_spec\u001b[0m\u001b[0;34m.\u001b[0m\u001b[0munlock_\u001b[0m\u001b[0;34m(\u001b[0m\u001b[0;34m)\u001b[0m\u001b[0;34m\u001b[0m\u001b[0;34m\u001b[0m\u001b[0m\n\u001b[0;32m--> 753\u001b[0;31m             \u001b[0moutput_spec\u001b[0m \u001b[0;34m=\u001b[0m \u001b[0mself\u001b[0m\u001b[0;34m.\u001b[0m\u001b[0mtransform\u001b[0m\u001b[0;34m.\u001b[0m\u001b[0mtransform_output_spec\u001b[0m\u001b[0;34m(\u001b[0m\u001b[0moutput_spec\u001b[0m\u001b[0;34m)\u001b[0m\u001b[0;34m\u001b[0m\u001b[0;34m\u001b[0m\u001b[0m\n\u001b[0m\u001b[1;32m    754\u001b[0m             \u001b[0moutput_spec\u001b[0m\u001b[0;34m.\u001b[0m\u001b[0mlock_\u001b[0m\u001b[0;34m(\u001b[0m\u001b[0;34m)\u001b[0m\u001b[0;34m\u001b[0m\u001b[0;34m\u001b[0m\u001b[0m\n\u001b[1;32m    755\u001b[0m             \u001b[0;32mif\u001b[0m \u001b[0mself\u001b[0m\u001b[0;34m.\u001b[0m\u001b[0mcache_specs\u001b[0m\u001b[0;34m:\u001b[0m\u001b[0;34m\u001b[0m\u001b[0;34m\u001b[0m\u001b[0m\n",
            "\u001b[0;32m/usr/local/lib/python3.11/dist-packages/torchrl/envs/transforms/transforms.py\u001b[0m in \u001b[0;36mtransform_output_spec\u001b[0;34m(self, output_spec)\u001b[0m\n\u001b[1;32m   1107\u001b[0m     \u001b[0;32mdef\u001b[0m \u001b[0mtransform_output_spec\u001b[0m\u001b[0;34m(\u001b[0m\u001b[0mself\u001b[0m\u001b[0;34m,\u001b[0m \u001b[0moutput_spec\u001b[0m\u001b[0;34m:\u001b[0m \u001b[0mTensorSpec\u001b[0m\u001b[0;34m)\u001b[0m \u001b[0;34m->\u001b[0m \u001b[0mTensorSpec\u001b[0m\u001b[0;34m:\u001b[0m\u001b[0;34m\u001b[0m\u001b[0;34m\u001b[0m\u001b[0m\n\u001b[1;32m   1108\u001b[0m         \u001b[0;32mfor\u001b[0m \u001b[0mt\u001b[0m \u001b[0;32min\u001b[0m \u001b[0mself\u001b[0m\u001b[0;34m.\u001b[0m\u001b[0mtransforms\u001b[0m\u001b[0;34m:\u001b[0m\u001b[0;34m\u001b[0m\u001b[0;34m\u001b[0m\u001b[0m\n\u001b[0;32m-> 1109\u001b[0;31m             \u001b[0moutput_spec\u001b[0m \u001b[0;34m=\u001b[0m \u001b[0mt\u001b[0m\u001b[0;34m.\u001b[0m\u001b[0mtransform_output_spec\u001b[0m\u001b[0;34m(\u001b[0m\u001b[0moutput_spec\u001b[0m\u001b[0;34m)\u001b[0m\u001b[0;34m\u001b[0m\u001b[0;34m\u001b[0m\u001b[0m\n\u001b[0m\u001b[1;32m   1110\u001b[0m         \u001b[0;32mreturn\u001b[0m \u001b[0moutput_spec\u001b[0m\u001b[0;34m\u001b[0m\u001b[0;34m\u001b[0m\u001b[0m\n\u001b[1;32m   1111\u001b[0m \u001b[0;34m\u001b[0m\u001b[0m\n",
            "\u001b[0;32m/usr/local/lib/python3.11/dist-packages/torchrl/envs/transforms/transforms.py\u001b[0m in \u001b[0;36mtransform_output_spec\u001b[0;34m(self, output_spec)\u001b[0m\n\u001b[1;32m    379\u001b[0m         \"\"\"\n\u001b[1;32m    380\u001b[0m         \u001b[0moutput_spec\u001b[0m \u001b[0;34m=\u001b[0m \u001b[0moutput_spec\u001b[0m\u001b[0;34m.\u001b[0m\u001b[0mclone\u001b[0m\u001b[0;34m(\u001b[0m\u001b[0;34m)\u001b[0m\u001b[0;34m\u001b[0m\u001b[0;34m\u001b[0m\u001b[0m\n\u001b[0;32m--> 381\u001b[0;31m         output_spec[\"full_observation_spec\"] = self.transform_observation_spec(\n\u001b[0m\u001b[1;32m    382\u001b[0m             \u001b[0moutput_spec\u001b[0m\u001b[0;34m[\u001b[0m\u001b[0;34m\"full_observation_spec\"\u001b[0m\u001b[0;34m]\u001b[0m\u001b[0;34m\u001b[0m\u001b[0;34m\u001b[0m\u001b[0m\n\u001b[1;32m    383\u001b[0m         )\n",
            "\u001b[0;32m/usr/local/lib/python3.11/dist-packages/torchrl/record/recorder.py\u001b[0m in \u001b[0;36mtransform_observation_spec\u001b[0;34m(self, observation_spec)\u001b[0m\n\u001b[1;32m    504\u001b[0m         \u001b[0mparent\u001b[0m \u001b[0;34m=\u001b[0m \u001b[0mself\u001b[0m\u001b[0;34m.\u001b[0m\u001b[0mparent\u001b[0m\u001b[0;34m\u001b[0m\u001b[0;34m\u001b[0m\u001b[0m\n\u001b[1;32m    505\u001b[0m         \u001b[0mtd_in\u001b[0m \u001b[0;34m=\u001b[0m \u001b[0mparent\u001b[0m\u001b[0;34m.\u001b[0m\u001b[0mreset\u001b[0m\u001b[0;34m(\u001b[0m\u001b[0;34m)\u001b[0m\u001b[0;34m\u001b[0m\u001b[0;34m\u001b[0m\u001b[0m\n\u001b[0;32m--> 506\u001b[0;31m         \u001b[0mself\u001b[0m\u001b[0;34m.\u001b[0m\u001b[0m_call\u001b[0m\u001b[0;34m(\u001b[0m\u001b[0mtd_in\u001b[0m\u001b[0;34m)\u001b[0m\u001b[0;34m\u001b[0m\u001b[0;34m\u001b[0m\u001b[0m\n\u001b[0m\u001b[1;32m    507\u001b[0m         \u001b[0mobs\u001b[0m \u001b[0;34m=\u001b[0m \u001b[0mtd_in\u001b[0m\u001b[0;34m.\u001b[0m\u001b[0mget\u001b[0m\u001b[0;34m(\u001b[0m\u001b[0mself\u001b[0m\u001b[0;34m.\u001b[0m\u001b[0mout_keys\u001b[0m\u001b[0;34m[\u001b[0m\u001b[0;36m0\u001b[0m\u001b[0;34m]\u001b[0m\u001b[0;34m)\u001b[0m\u001b[0;34m\u001b[0m\u001b[0;34m\u001b[0m\u001b[0m\n\u001b[1;32m    508\u001b[0m         \u001b[0;32mif\u001b[0m \u001b[0misinstance\u001b[0m\u001b[0;34m(\u001b[0m\u001b[0mobs\u001b[0m\u001b[0;34m,\u001b[0m \u001b[0mNonTensorData\u001b[0m\u001b[0;34m)\u001b[0m\u001b[0;34m:\u001b[0m\u001b[0;34m\u001b[0m\u001b[0;34m\u001b[0m\u001b[0m\n",
            "\u001b[0;32m/usr/local/lib/python3.11/dist-packages/torchrl/record/recorder.py\u001b[0m in \u001b[0;36m_call\u001b[0;34m(self, tensordict)\u001b[0m\n\u001b[1;32m    461\u001b[0m         \u001b[0mmethod\u001b[0m \u001b[0;34m=\u001b[0m \u001b[0mgetattr\u001b[0m\u001b[0;34m(\u001b[0m\u001b[0mself\u001b[0m\u001b[0;34m.\u001b[0m\u001b[0mparent\u001b[0m\u001b[0;34m,\u001b[0m \u001b[0mself\u001b[0m\u001b[0;34m.\u001b[0m\u001b[0mrender_method\u001b[0m\u001b[0;34m)\u001b[0m\u001b[0;34m\u001b[0m\u001b[0;34m\u001b[0m\u001b[0m\n\u001b[1;32m    462\u001b[0m         \u001b[0;32mif\u001b[0m \u001b[0;32mnot\u001b[0m \u001b[0mself\u001b[0m\u001b[0;34m.\u001b[0m\u001b[0mpass_tensordict\u001b[0m\u001b[0;34m:\u001b[0m\u001b[0;34m\u001b[0m\u001b[0;34m\u001b[0m\u001b[0m\n\u001b[0;32m--> 463\u001b[0;31m             \u001b[0marray\u001b[0m \u001b[0;34m=\u001b[0m \u001b[0mmethod\u001b[0m\u001b[0;34m(\u001b[0m\u001b[0;34m**\u001b[0m\u001b[0mself\u001b[0m\u001b[0;34m.\u001b[0m\u001b[0mkwargs\u001b[0m\u001b[0;34m)\u001b[0m\u001b[0;34m\u001b[0m\u001b[0;34m\u001b[0m\u001b[0m\n\u001b[0m\u001b[1;32m    464\u001b[0m         \u001b[0;32melse\u001b[0m\u001b[0;34m:\u001b[0m\u001b[0;34m\u001b[0m\u001b[0;34m\u001b[0m\u001b[0m\n\u001b[1;32m    465\u001b[0m             \u001b[0marray\u001b[0m \u001b[0;34m=\u001b[0m \u001b[0mmethod\u001b[0m\u001b[0;34m(\u001b[0m\u001b[0mtensordict\u001b[0m\u001b[0;34m,\u001b[0m \u001b[0;34m**\u001b[0m\u001b[0mself\u001b[0m\u001b[0;34m.\u001b[0m\u001b[0mkwargs\u001b[0m\u001b[0;34m)\u001b[0m\u001b[0;34m\u001b[0m\u001b[0;34m\u001b[0m\u001b[0m\n",
            "\u001b[0;32m/usr/local/lib/python3.11/dist-packages/vmas/simulator/environment/environment.py\u001b[0m in \u001b[0;36mrender\u001b[0;34m(self, mode, env_index, agent_index_focus, visualize_when_rgb, plot_position_function, plot_position_function_precision, plot_position_function_range, plot_position_function_cmap_range, plot_position_function_cmap_alpha, plot_position_function_cmap_name)\u001b[0m\n\u001b[1;32m    704\u001b[0m             \u001b[0mpyglet\u001b[0m\u001b[0;34m.\u001b[0m\u001b[0moptions\u001b[0m\u001b[0;34m[\u001b[0m\u001b[0;34m\"headless\"\u001b[0m\u001b[0;34m]\u001b[0m \u001b[0;34m=\u001b[0m \u001b[0mself\u001b[0m\u001b[0;34m.\u001b[0m\u001b[0mheadless\u001b[0m\u001b[0;34m\u001b[0m\u001b[0;34m\u001b[0m\u001b[0m\n\u001b[1;32m    705\u001b[0m \u001b[0;34m\u001b[0m\u001b[0m\n\u001b[0;32m--> 706\u001b[0;31m             \u001b[0mself\u001b[0m\u001b[0;34m.\u001b[0m\u001b[0m_init_rendering\u001b[0m\u001b[0;34m(\u001b[0m\u001b[0;34m)\u001b[0m\u001b[0;34m\u001b[0m\u001b[0;34m\u001b[0m\u001b[0m\n\u001b[0m\u001b[1;32m    707\u001b[0m \u001b[0;34m\u001b[0m\u001b[0m\n\u001b[1;32m    708\u001b[0m         \u001b[0;32mif\u001b[0m \u001b[0mself\u001b[0m\u001b[0;34m.\u001b[0m\u001b[0mscenario\u001b[0m\u001b[0;34m.\u001b[0m\u001b[0mviewer_zoom\u001b[0m \u001b[0;34m<=\u001b[0m \u001b[0;36m0\u001b[0m\u001b[0;34m:\u001b[0m\u001b[0;34m\u001b[0m\u001b[0;34m\u001b[0m\u001b[0m\n",
            "\u001b[0;32m/usr/local/lib/python3.11/dist-packages/vmas/simulator/environment/environment.py\u001b[0m in \u001b[0;36m_init_rendering\u001b[0;34m(self)\u001b[0m\n\u001b[1;32m    877\u001b[0m \u001b[0;34m\u001b[0m\u001b[0m\n\u001b[1;32m    878\u001b[0m     \u001b[0;32mdef\u001b[0m \u001b[0m_init_rendering\u001b[0m\u001b[0;34m(\u001b[0m\u001b[0mself\u001b[0m\u001b[0;34m)\u001b[0m\u001b[0;34m:\u001b[0m\u001b[0;34m\u001b[0m\u001b[0;34m\u001b[0m\u001b[0m\n\u001b[0;32m--> 879\u001b[0;31m         \u001b[0;32mfrom\u001b[0m \u001b[0mvmas\u001b[0m\u001b[0;34m.\u001b[0m\u001b[0msimulator\u001b[0m \u001b[0;32mimport\u001b[0m \u001b[0mrendering\u001b[0m\u001b[0;34m\u001b[0m\u001b[0;34m\u001b[0m\u001b[0m\n\u001b[0m\u001b[1;32m    880\u001b[0m \u001b[0;34m\u001b[0m\u001b[0m\n\u001b[1;32m    881\u001b[0m         self.viewer = rendering.Viewer(\n",
            "\u001b[0;32m/usr/local/lib/python3.11/dist-packages/vmas/simulator/rendering.py\u001b[0m in \u001b[0;36m<module>\u001b[0;34m\u001b[0m\n\u001b[1;32m     58\u001b[0m     )\n\u001b[1;32m     59\u001b[0m \u001b[0;32mexcept\u001b[0m \u001b[0mImportError\u001b[0m\u001b[0;34m:\u001b[0m\u001b[0;34m\u001b[0m\u001b[0;34m\u001b[0m\u001b[0m\n\u001b[0;32m---> 60\u001b[0;31m     raise ImportError(\n\u001b[0m\u001b[1;32m     61\u001b[0m         \u001b[0;34m\"Error occurred while running `from pyglet.gl import *`, HINT: make sure you have OpenGL installed. \"\u001b[0m\u001b[0;34m\u001b[0m\u001b[0;34m\u001b[0m\u001b[0m\n\u001b[1;32m     62\u001b[0m         \u001b[0;34m\"On Ubuntu, you can run 'apt-get install python3-opengl'. If you're running on a server, you may need a \"\u001b[0m\u001b[0;34m\u001b[0m\u001b[0;34m\u001b[0m\u001b[0m\n",
            "\u001b[0;31mImportError\u001b[0m: Error occurred while running `from pyglet.gl import *`, HINT: make sure you have OpenGL installed. On Ubuntu, you can run 'apt-get install python3-opengl'. If you're running on a server, you may need a virtual frame buffer; something like this should work:'xvfb-run -s \"-screen 0 1400x900x24\" python <your_script.py>'",
            "",
            "\u001b[0;31m---------------------------------------------------------------------------\u001b[0;32m\nNOTE: If your import is failing due to a missing package, you can\nmanually install dependencies using either !pip or !apt.\n\nTo view examples of installing some common dependencies, click the\n\"Open Examples\" button below.\n\u001b[0;31m---------------------------------------------------------------------------\u001b[0m\n"
          ],
          "errorDetails": {
            "actions": [
              {
                "action": "open_url",
                "actionText": "Open Examples",
                "url": "/notebooks/snippets/importing_libraries.ipynb"
              }
            ]
          }
        }
      ],
      "source": [
        "if use_vmas and not is_sphinx:\n",
        "    # Replace tmpdir with any desired path where the video should be saved\n",
        "    with tempfile.TemporaryDirectory() as tmpdir:\n",
        "        video_logger = CSVLogger(\"vmas_logs\", tmpdir, video_format=\"mp4\")\n",
        "        print(\"Creating rendering env\")\n",
        "        env_with_render = TransformedEnv(env.base_env, env.transform.clone())\n",
        "        env_with_render = env_with_render.append_transform(\n",
        "            PixelRenderTransform(\n",
        "                out_keys=[\"pixels\"],\n",
        "                # the np.ndarray has a negative stride and needs to be copied before being cast to a tensor\n",
        "                preproc=lambda x: x.copy(),\n",
        "                as_non_tensor=True,\n",
        "                # asking for array rather than on-screen rendering\n",
        "                mode=\"rgb_array\",\n",
        "            )\n",
        "        )\n",
        "        env_with_render = env_with_render.append_transform(\n",
        "            VideoRecorder(logger=video_logger, tag=\"vmas_rendered\")\n",
        "        )\n",
        "        with set_exploration_type(ExplorationType.DETERMINISTIC):\n",
        "            print(\"Rendering rollout...\")\n",
        "            env_with_render.rollout(100, policy=agents_exploration_policy)\n",
        "        print(\"Saving the video...\")\n",
        "        env_with_render.transform.dump()\n",
        "        print(\"Saved! Saved directory tree:\")\n",
        "        video_logger.print_log_dir()"
      ]
    },
    {
      "cell_type": "code",
      "source": [
        "import os\n",
        "\n",
        "# Define a permanent directory path (e.g., \"local_videos\")\n",
        "local_dir = \"local_videos\"\n",
        "os.makedirs(local_dir, exist_ok=True)\n",
        "\n",
        "# Use the permanent directory instead of a temporary one\n",
        "video_logger = CSVLogger(\"vmas_logs\", local_dir, video_format=\"mp4\")\n",
        "print(\"Creating rendering env\")\n",
        "env_with_render = TransformedEnv(env.base_env, env.transform.clone())\n",
        "env_with_render = env_with_render.append_transform(\n",
        "    PixelRenderTransform(\n",
        "        out_keys=[\"pixels\"],\n",
        "        # the np.ndarray has a negative stride and needs to be copied before being cast to a tensor\n",
        "        preproc=lambda x: x.copy(),\n",
        "        as_non_tensor=True,\n",
        "        # asking for array rather than on-screen rendering\n",
        "        mode=\"rgb_array\",\n",
        "    )\n",
        ")\n",
        "env_with_render = env_with_render.append_transform(\n",
        "    VideoRecorder(logger=video_logger, tag=\"vmas_rendered\")\n",
        ")\n",
        "with set_exploration_type(ExplorationType.DETERMINISTIC):\n",
        "    print(\"Rendering rollout...\")\n",
        "    env_with_render.rollout(100, policy=agents_exploration_policy)\n",
        "print(\"Saving the video...\")\n",
        "env_with_render.transform.dump()\n",
        "print(\"Saved! Saved directory tree:\")\n",
        "video_logger.print_log_dir()"
      ],
      "metadata": {
        "id": "ebVlbORDdSYM"
      },
      "execution_count": null,
      "outputs": []
    }
  ],
  "metadata": {
    "colab": {
      "provenance": [],
      "gpuType": "T4"
    },
    "kernelspec": {
      "display_name": "Python 3",
      "name": "python3"
    },
    "language_info": {
      "codemirror_mode": {
        "name": "ipython",
        "version": 3
      },
      "file_extension": ".py",
      "mimetype": "text/x-python",
      "name": "python",
      "nbconvert_exporter": "python",
      "pygments_lexer": "ipython3",
      "version": "3.11.6"
    },
    "accelerator": "GPU"
  },
  "nbformat": 4,
  "nbformat_minor": 0
}